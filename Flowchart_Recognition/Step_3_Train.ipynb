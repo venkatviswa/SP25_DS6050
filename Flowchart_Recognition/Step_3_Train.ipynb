{
 "cells": [
  {
   "cell_type": "code",
   "execution_count": 7,
   "id": "2dd82bb8-9bfe-45f6-a226-6504d7b472c5",
   "metadata": {},
   "outputs": [
    {
     "ename": "OSError",
     "evalue": "[Errno 107] Transport endpoint is not connected: '/bin'",
     "output_type": "error",
     "traceback": [
      "\u001b[0;31m---------------------------------------------------------------------------\u001b[0m",
      "\u001b[0;31mOSError\u001b[0m                                   Traceback (most recent call last)",
      "Cell \u001b[0;32mIn[7], line 2\u001b[0m\n\u001b[1;32m      1\u001b[0m \u001b[38;5;66;03m# Step 1: Install Ultralytics YOLO if not already installed\u001b[39;00m\n\u001b[0;32m----> 2\u001b[0m \u001b[43mget_ipython\u001b[49m\u001b[43m(\u001b[49m\u001b[43m)\u001b[49m\u001b[38;5;241;43m.\u001b[39;49m\u001b[43msystem\u001b[49m\u001b[43m(\u001b[49m\u001b[38;5;124;43m'\u001b[39;49m\u001b[38;5;124;43mpip install ultralytics\u001b[39;49m\u001b[38;5;124;43m'\u001b[39;49m\u001b[43m)\u001b[49m\n",
      "File \u001b[0;32m/usr/local/lib/python3.12/dist-packages/ipykernel/zmqshell.py:657\u001b[0m, in \u001b[0;36mZMQInteractiveShell.system_piped\u001b[0;34m(self, cmd)\u001b[0m\n\u001b[1;32m    655\u001b[0m         \u001b[38;5;28mself\u001b[39m\u001b[38;5;241m.\u001b[39muser_ns[\u001b[38;5;124m\"\u001b[39m\u001b[38;5;124m_exit_code\u001b[39m\u001b[38;5;124m\"\u001b[39m] \u001b[38;5;241m=\u001b[39m system(cmd)\n\u001b[1;32m    656\u001b[0m \u001b[38;5;28;01melse\u001b[39;00m:\n\u001b[0;32m--> 657\u001b[0m     \u001b[38;5;28mself\u001b[39m\u001b[38;5;241m.\u001b[39muser_ns[\u001b[38;5;124m\"\u001b[39m\u001b[38;5;124m_exit_code\u001b[39m\u001b[38;5;124m\"\u001b[39m] \u001b[38;5;241m=\u001b[39m \u001b[43msystem\u001b[49m\u001b[43m(\u001b[49m\u001b[38;5;28;43mself\u001b[39;49m\u001b[38;5;241;43m.\u001b[39;49m\u001b[43mvar_expand\u001b[49m\u001b[43m(\u001b[49m\u001b[43mcmd\u001b[49m\u001b[43m,\u001b[49m\u001b[43m \u001b[49m\u001b[43mdepth\u001b[49m\u001b[38;5;241;43m=\u001b[39;49m\u001b[38;5;241;43m1\u001b[39;49m\u001b[43m)\u001b[49m\u001b[43m)\u001b[49m\n",
      "File \u001b[0;32m/usr/local/lib/python3.12/dist-packages/IPython/utils/_process_posix.py:151\u001b[0m, in \u001b[0;36msystem\u001b[0;34m(self, cmd)\u001b[0m\n",
      "File \u001b[0;32m/usr/local/lib/python3.12/dist-packages/pexpect/pty_spawn.py:204\u001b[0m, in \u001b[0;36m__init__\u001b[0;34m(self, command, args, timeout, maxread, searchwindowsize, logfile, cwd, env, ignore_sighup, echo, preexec_fn, encoding, codec_errors, dimensions, use_poll)\u001b[0m\n",
      "File \u001b[0;32m/usr/local/lib/python3.12/dist-packages/pexpect/pty_spawn.py:273\u001b[0m, in \u001b[0;36m_spawn\u001b[0;34m(self, command, args, preexec_fn, dimensions)\u001b[0m\n",
      "File \u001b[0;32m/usr/local/lib/python3.12/dist-packages/pexpect/utils.py:54\u001b[0m, in \u001b[0;36mwhich\u001b[0;34m(filename, env)\u001b[0m\n",
      "File \u001b[0;32m/usr/local/lib/python3.12/dist-packages/pexpect/utils.py:26\u001b[0m, in \u001b[0;36mis_executable_file\u001b[0;34m(path)\u001b[0m\n",
      "File \u001b[0;32m<frozen posixpath>:435\u001b[0m, in \u001b[0;36mrealpath\u001b[0;34m(filename, strict)\u001b[0m\n",
      "File \u001b[0;32m<frozen posixpath>:495\u001b[0m, in \u001b[0;36m_joinrealpath\u001b[0;34m(path, rest, strict, seen)\u001b[0m\n",
      "\u001b[0;31mOSError\u001b[0m: [Errno 107] Transport endpoint is not connected: '/bin'"
     ]
    }
   ],
   "source": [
    "# Step 1: Install Ultralytics YOLO if not already installed\n",
    "!pip install ultralytics"
   ]
  },
  {
   "cell_type": "code",
   "execution_count": 1,
   "id": "8bfa6f33-358f-4d4a-8757-c7afcf735a29",
   "metadata": {
    "scrolled": true
   },
   "outputs": [
    {
     "name": "stdout",
     "output_type": "stream",
     "text": [
      "🔁 Resuming training from last checkpoint...\n",
      "New https://pypi.org/project/ultralytics/8.3.105 available 😃 Update with 'pip install -U ultralytics'\n",
      "Ultralytics 8.3.103 🚀 Python-3.12.3 torch-2.6.0+cu124 CUDA:0 (NVIDIA RTX A6000, 48670MiB)\n",
      "\u001b[34m\u001b[1mengine/trainer: \u001b[0mtask=detect, mode=train, model=runs/train_flowchart/v9_flowchart_v1/weights/last.pt, data=/sfs/ceph/standard/sds_managed_sadewole/DS6050_SP25/group6/kaggle/kaggle_flowchart_yolo/data.yaml, epochs=40, time=None, patience=10, batch=8, imgsz=640, save=True, save_period=-1, cache=False, device=0, workers=8, project=runs/train_flowchart, name=v9_flowchart_v1, exist_ok=True, pretrained=True, optimizer=auto, verbose=True, seed=0, deterministic=True, single_cls=False, rect=False, cos_lr=False, close_mosaic=10, resume=False, amp=True, fraction=1.0, profile=False, freeze=None, multi_scale=False, overlap_mask=True, mask_ratio=4, dropout=0.0, val=True, split=val, save_json=False, save_hybrid=False, conf=None, iou=0.7, max_det=300, half=False, dnn=False, plots=True, source=None, vid_stride=1, stream_buffer=False, visualize=False, augment=False, agnostic_nms=False, classes=None, retina_masks=False, embed=None, show=False, save_frames=False, save_txt=False, save_conf=False, save_crop=False, show_labels=True, show_conf=True, show_boxes=True, line_width=None, format=torchscript, keras=False, optimize=False, int8=False, dynamic=False, simplify=True, opset=None, workspace=None, nms=False, lr0=0.01, lrf=0.01, momentum=0.937, weight_decay=0.0005, warmup_epochs=3.0, warmup_momentum=0.8, warmup_bias_lr=0.1, box=7.5, cls=0.5, dfl=1.5, pose=12.0, kobj=1.0, nbs=64, hsv_h=0.015, hsv_s=0.7, hsv_v=0.4, degrees=0.0, translate=0.1, scale=0.5, shear=0.0, perspective=0.0, flipud=0.0, fliplr=0.5, bgr=0.0, mosaic=1.0, mixup=0.0, copy_paste=0.0, copy_paste_mode=flip, auto_augment=randaugment, erasing=0.4, crop_fraction=1.0, cfg=None, tracker=botsort.yaml, save_dir=runs/train_flowchart/v9_flowchart_v1\n",
      "\n",
      "                   from  n    params  module                                       arguments                     \n",
      "  0                  -1  1       928  ultralytics.nn.modules.conv.Conv             [3, 32, 3, 2]                 \n",
      "  1                  -1  1     18560  ultralytics.nn.modules.conv.Conv             [32, 64, 3, 2]                \n",
      "  2                  -1  1     31104  ultralytics.nn.modules.block.ELAN1           [64, 64, 64, 32]              \n",
      "  3                  -1  1     73984  ultralytics.nn.modules.block.AConv           [64, 128]                     \n",
      "  4                  -1  1    258432  ultralytics.nn.modules.block.RepNCSPELAN4    [128, 128, 128, 64, 3]        \n",
      "  5                  -1  1    221568  ultralytics.nn.modules.block.AConv           [128, 192]                    \n",
      "  6                  -1  1    579648  ultralytics.nn.modules.block.RepNCSPELAN4    [192, 192, 192, 96, 3]        \n",
      "  7                  -1  1    442880  ultralytics.nn.modules.block.AConv           [192, 256]                    \n",
      "  8                  -1  1   1028864  ultralytics.nn.modules.block.RepNCSPELAN4    [256, 256, 256, 128, 3]       \n",
      "  9                  -1  1    164608  ultralytics.nn.modules.block.SPPELAN         [256, 256, 128]               \n",
      " 10                  -1  1         0  torch.nn.modules.upsampling.Upsample         [None, 2, 'nearest']          \n",
      " 11             [-1, 6]  1         0  ultralytics.nn.modules.conv.Concat           [1]                           \n",
      " 12                  -1  1    628800  ultralytics.nn.modules.block.RepNCSPELAN4    [448, 192, 192, 96, 3]        \n",
      " 13                  -1  1         0  torch.nn.modules.upsampling.Upsample         [None, 2, 'nearest']          \n",
      " 14             [-1, 4]  1         0  ultralytics.nn.modules.conv.Concat           [1]                           \n",
      " 15                  -1  1    283008  ultralytics.nn.modules.block.RepNCSPELAN4    [320, 128, 128, 64, 3]        \n",
      " 16                  -1  1    110784  ultralytics.nn.modules.block.AConv           [128, 96]                     \n",
      " 17            [-1, 12]  1         0  ultralytics.nn.modules.conv.Concat           [1]                           \n",
      " 18                  -1  1    598080  ultralytics.nn.modules.block.RepNCSPELAN4    [288, 192, 192, 96, 3]        \n",
      " 19                  -1  1    221440  ultralytics.nn.modules.block.AConv           [192, 128]                    \n",
      " 20             [-1, 9]  1         0  ultralytics.nn.modules.conv.Concat           [1]                           \n",
      " 21                  -1  1   1061632  ultralytics.nn.modules.block.RepNCSPELAN4    [384, 256, 256, 128, 3]       \n",
      " 22        [15, 18, 21]  1   1570054  ultralytics.nn.modules.head.Detect           [18, [128, 192, 256]]         \n",
      "YOLOv9s summary: 544 layers, 7,294,374 parameters, 7,294,358 gradients, 27.4 GFLOPs\n",
      "\n",
      "Transferred 1339/1339 items from pretrained weights\n",
      "\u001b[34m\u001b[1mTensorBoard: \u001b[0mStart with 'tensorboard --logdir runs/train_flowchart/v9_flowchart_v1', view at http://localhost:6006/\n",
      "Freezing layer 'model.22.dfl.conv.weight'\n",
      "\u001b[34m\u001b[1mAMP: \u001b[0mrunning Automatic Mixed Precision (AMP) checks...\n",
      "\u001b[34m\u001b[1mAMP: \u001b[0mchecks passed ✅\n"
     ]
    },
    {
     "name": "stderr",
     "output_type": "stream",
     "text": [
      "\u001b[34m\u001b[1mtrain: \u001b[0mScanning /sfs/ceph/standard/sds_managed_sadewole/DS6050_SP25/group6/kaggle/kaggle_flowchart_yolo/labels/train.cache... 1503 images, 0 backgrounds, 534 corrupt: 100%|██████████| 1503/1503 [00:00<?, ?it/s]"
     ]
    },
    {
     "name": "stdout",
     "output_type": "stream",
     "text": [
      "\u001b[34m\u001b[1mtrain: \u001b[0mWARNING ⚠️ /sfs/ceph/standard/sds_managed_sadewole/DS6050_SP25/group6/kaggle/kaggle_flowchart_yolo/images/train/102_png_jpg.rf.0d796282948b0328fc6410efee175565.jpg: ignoring corrupt image/label: Label class 18 exceeds dataset class count 18. Possible class labels are 0-17\n",
      "\u001b[34m\u001b[1mtrain: \u001b[0mWARNING ⚠️ /sfs/ceph/standard/sds_managed_sadewole/DS6050_SP25/group6/kaggle/kaggle_flowchart_yolo/images/train/102_png_jpg.rf.b132da99b91b29bcce7bee3a33f3c1cd.jpg: ignoring corrupt image/label: Label class 18 exceeds dataset class count 18. Possible class labels are 0-17\n",
      "\u001b[34m\u001b[1mtrain: \u001b[0mWARNING ⚠️ /sfs/ceph/standard/sds_managed_sadewole/DS6050_SP25/group6/kaggle/kaggle_flowchart_yolo/images/train/102_png_jpg.rf.eec8266ea951d35eca7b2e3970270bd4.jpg: ignoring corrupt image/label: Label class 18 exceeds dataset class count 18. Possible class labels are 0-17\n",
      "\u001b[34m\u001b[1mtrain: \u001b[0mWARNING ⚠️ /sfs/ceph/standard/sds_managed_sadewole/DS6050_SP25/group6/kaggle/kaggle_flowchart_yolo/images/train/110_png_jpg.rf.a8e6c1f663620bd2ea9c4c04c9f5d06b.jpg: ignoring corrupt image/label: Label class 18 exceeds dataset class count 18. Possible class labels are 0-17\n",
      "\u001b[34m\u001b[1mtrain: \u001b[0mWARNING ⚠️ /sfs/ceph/standard/sds_managed_sadewole/DS6050_SP25/group6/kaggle/kaggle_flowchart_yolo/images/train/110_png_jpg.rf.ab588a24531b1abc5f596c7cd22c62d6.jpg: ignoring corrupt image/label: Label class 18 exceeds dataset class count 18. Possible class labels are 0-17\n",
      "\u001b[34m\u001b[1mtrain: \u001b[0mWARNING ⚠️ /sfs/ceph/standard/sds_managed_sadewole/DS6050_SP25/group6/kaggle/kaggle_flowchart_yolo/images/train/110_png_jpg.rf.b11e989e4cb2bf70ac6005d38648c9ff.jpg: ignoring corrupt image/label: Label class 18 exceeds dataset class count 18. Possible class labels are 0-17\n",
      "\u001b[34m\u001b[1mtrain: \u001b[0mWARNING ⚠️ /sfs/ceph/standard/sds_managed_sadewole/DS6050_SP25/group6/kaggle/kaggle_flowchart_yolo/images/train/111_png_jpg.rf.38658b497877493dc2cebff13b8ecd14.jpg: ignoring corrupt image/label: Label class 18 exceeds dataset class count 18. Possible class labels are 0-17\n",
      "\u001b[34m\u001b[1mtrain: \u001b[0mWARNING ⚠️ /sfs/ceph/standard/sds_managed_sadewole/DS6050_SP25/group6/kaggle/kaggle_flowchart_yolo/images/train/111_png_jpg.rf.c27cb73b96e9dcaba06aaf781f4351ec.jpg: ignoring corrupt image/label: Label class 18 exceeds dataset class count 18. Possible class labels are 0-17\n",
      "\u001b[34m\u001b[1mtrain: \u001b[0mWARNING ⚠️ /sfs/ceph/standard/sds_managed_sadewole/DS6050_SP25/group6/kaggle/kaggle_flowchart_yolo/images/train/111_png_jpg.rf.f3d3b0ba7d0f5b847c4101b36f808812.jpg: ignoring corrupt image/label: Label class 18 exceeds dataset class count 18. Possible class labels are 0-17\n",
      "\u001b[34m\u001b[1mtrain: \u001b[0mWARNING ⚠️ /sfs/ceph/standard/sds_managed_sadewole/DS6050_SP25/group6/kaggle/kaggle_flowchart_yolo/images/train/113_png_jpg.rf.24cabf9c539e0fc55095a8422ee960b8.jpg: ignoring corrupt image/label: Label class 18 exceeds dataset class count 18. Possible class labels are 0-17\n",
      "\u001b[34m\u001b[1mtrain: \u001b[0mWARNING ⚠️ /sfs/ceph/standard/sds_managed_sadewole/DS6050_SP25/group6/kaggle/kaggle_flowchart_yolo/images/train/113_png_jpg.rf.95e5ca9f71446a8345f7fb0e9396d93e.jpg: ignoring corrupt image/label: Label class 18 exceeds dataset class count 18. Possible class labels are 0-17\n",
      "\u001b[34m\u001b[1mtrain: \u001b[0mWARNING ⚠️ /sfs/ceph/standard/sds_managed_sadewole/DS6050_SP25/group6/kaggle/kaggle_flowchart_yolo/images/train/113_png_jpg.rf.fb8afc28970fae05f4c5ec18b9babbee.jpg: ignoring corrupt image/label: Label class 18 exceeds dataset class count 18. Possible class labels are 0-17\n",
      "\u001b[34m\u001b[1mtrain: \u001b[0mWARNING ⚠️ /sfs/ceph/standard/sds_managed_sadewole/DS6050_SP25/group6/kaggle/kaggle_flowchart_yolo/images/train/118_png_jpg.rf.2393ec77a35306d3c772d05d3694ebb3.jpg: ignoring corrupt image/label: Label class 18 exceeds dataset class count 18. Possible class labels are 0-17\n",
      "\u001b[34m\u001b[1mtrain: \u001b[0mWARNING ⚠️ /sfs/ceph/standard/sds_managed_sadewole/DS6050_SP25/group6/kaggle/kaggle_flowchart_yolo/images/train/118_png_jpg.rf.30f1d1555117cf1f71b8308361d5ebd6.jpg: ignoring corrupt image/label: Label class 18 exceeds dataset class count 18. Possible class labels are 0-17\n",
      "\u001b[34m\u001b[1mtrain: \u001b[0mWARNING ⚠️ /sfs/ceph/standard/sds_managed_sadewole/DS6050_SP25/group6/kaggle/kaggle_flowchart_yolo/images/train/118_png_jpg.rf.d19edb1c7bf9f96250035fedaf3f4636.jpg: ignoring corrupt image/label: Label class 18 exceeds dataset class count 18. Possible class labels are 0-17\n",
      "\u001b[34m\u001b[1mtrain: \u001b[0mWARNING ⚠️ /sfs/ceph/standard/sds_managed_sadewole/DS6050_SP25/group6/kaggle/kaggle_flowchart_yolo/images/train/11_png_jpg.rf.3c74a7ba1ec0fad35ad4eaa7fafb6f16.jpg: ignoring corrupt image/label: Label class 18 exceeds dataset class count 18. Possible class labels are 0-17\n",
      "\u001b[34m\u001b[1mtrain: \u001b[0mWARNING ⚠️ /sfs/ceph/standard/sds_managed_sadewole/DS6050_SP25/group6/kaggle/kaggle_flowchart_yolo/images/train/11_png_jpg.rf.cfbebdc7c2d08fc263ebff6d2ded2fc7.jpg: ignoring corrupt image/label: Label class 18 exceeds dataset class count 18. Possible class labels are 0-17\n",
      "\u001b[34m\u001b[1mtrain: \u001b[0mWARNING ⚠️ /sfs/ceph/standard/sds_managed_sadewole/DS6050_SP25/group6/kaggle/kaggle_flowchart_yolo/images/train/11_png_jpg.rf.ffec8ef3810e647223c8e79fa5ffe8a6.jpg: ignoring corrupt image/label: Label class 18 exceeds dataset class count 18. Possible class labels are 0-17\n",
      "\u001b[34m\u001b[1mtrain: \u001b[0mWARNING ⚠️ /sfs/ceph/standard/sds_managed_sadewole/DS6050_SP25/group6/kaggle/kaggle_flowchart_yolo/images/train/133_png_jpg.rf.4fa81d7bc596d8e82169cf94a953505e.jpg: ignoring corrupt image/label: Label class 18 exceeds dataset class count 18. Possible class labels are 0-17\n",
      "\u001b[34m\u001b[1mtrain: \u001b[0mWARNING ⚠️ /sfs/ceph/standard/sds_managed_sadewole/DS6050_SP25/group6/kaggle/kaggle_flowchart_yolo/images/train/133_png_jpg.rf.500d277f1e4dfad0029a4fa928009958.jpg: ignoring corrupt image/label: Label class 18 exceeds dataset class count 18. Possible class labels are 0-17\n",
      "\u001b[34m\u001b[1mtrain: \u001b[0mWARNING ⚠️ /sfs/ceph/standard/sds_managed_sadewole/DS6050_SP25/group6/kaggle/kaggle_flowchart_yolo/images/train/133_png_jpg.rf.9f9ff9ba47e35af218c0d926fac020d1.jpg: ignoring corrupt image/label: Label class 18 exceeds dataset class count 18. Possible class labels are 0-17\n",
      "\u001b[34m\u001b[1mtrain: \u001b[0mWARNING ⚠️ /sfs/ceph/standard/sds_managed_sadewole/DS6050_SP25/group6/kaggle/kaggle_flowchart_yolo/images/train/133_png_jpg.rf.bcdad4558d0636ad9118119f5f22cf7c.jpg: ignoring corrupt image/label: Label class 18 exceeds dataset class count 18. Possible class labels are 0-17\n",
      "\u001b[34m\u001b[1mtrain: \u001b[0mWARNING ⚠️ /sfs/ceph/standard/sds_managed_sadewole/DS6050_SP25/group6/kaggle/kaggle_flowchart_yolo/images/train/133_png_jpg.rf.dbfea440ba9869a7cd8e77f284c956e7.jpg: ignoring corrupt image/label: Label class 18 exceeds dataset class count 18. Possible class labels are 0-17\n",
      "\u001b[34m\u001b[1mtrain: \u001b[0mWARNING ⚠️ /sfs/ceph/standard/sds_managed_sadewole/DS6050_SP25/group6/kaggle/kaggle_flowchart_yolo/images/train/133_png_jpg.rf.f8cce233fabbe06e952ffda73bd1912d.jpg: ignoring corrupt image/label: Label class 18 exceeds dataset class count 18. Possible class labels are 0-17\n",
      "\u001b[34m\u001b[1mtrain: \u001b[0mWARNING ⚠️ /sfs/ceph/standard/sds_managed_sadewole/DS6050_SP25/group6/kaggle/kaggle_flowchart_yolo/images/train/136_jpeg_jpg.rf.56aa66539945e8a37cb4c74415fe1580.jpg: ignoring corrupt image/label: Label class 18 exceeds dataset class count 18. Possible class labels are 0-17\n",
      "\u001b[34m\u001b[1mtrain: \u001b[0mWARNING ⚠️ /sfs/ceph/standard/sds_managed_sadewole/DS6050_SP25/group6/kaggle/kaggle_flowchart_yolo/images/train/136_jpeg_jpg.rf.9624fef8b76dca927060d687fe6578f9.jpg: ignoring corrupt image/label: Label class 18 exceeds dataset class count 18. Possible class labels are 0-17\n",
      "\u001b[34m\u001b[1mtrain: \u001b[0mWARNING ⚠️ /sfs/ceph/standard/sds_managed_sadewole/DS6050_SP25/group6/kaggle/kaggle_flowchart_yolo/images/train/136_jpeg_jpg.rf.b0c0f5c94834ae6a6b240c5c1d66ad26.jpg: ignoring corrupt image/label: Label class 18 exceeds dataset class count 18. Possible class labels are 0-17\n",
      "\u001b[34m\u001b[1mtrain: \u001b[0mWARNING ⚠️ /sfs/ceph/standard/sds_managed_sadewole/DS6050_SP25/group6/kaggle/kaggle_flowchart_yolo/images/train/136_jpeg_jpg.rf.df0c0fa044fcbab22fdaf0b50385e7a8.jpg: ignoring corrupt image/label: Label class 18 exceeds dataset class count 18. Possible class labels are 0-17\n",
      "\u001b[34m\u001b[1mtrain: \u001b[0mWARNING ⚠️ /sfs/ceph/standard/sds_managed_sadewole/DS6050_SP25/group6/kaggle/kaggle_flowchart_yolo/images/train/136_jpeg_jpg.rf.ea4e9540ee855fe109413e321be8b892.jpg: ignoring corrupt image/label: Label class 18 exceeds dataset class count 18. Possible class labels are 0-17\n",
      "\u001b[34m\u001b[1mtrain: \u001b[0mWARNING ⚠️ /sfs/ceph/standard/sds_managed_sadewole/DS6050_SP25/group6/kaggle/kaggle_flowchart_yolo/images/train/136_jpeg_jpg.rf.f1f110ff304fc6316a0962ffe80585c8.jpg: ignoring corrupt image/label: Label class 18 exceeds dataset class count 18. Possible class labels are 0-17\n",
      "\u001b[34m\u001b[1mtrain: \u001b[0mWARNING ⚠️ /sfs/ceph/standard/sds_managed_sadewole/DS6050_SP25/group6/kaggle/kaggle_flowchart_yolo/images/train/139_jpeg_jpg.rf.53e6a506517928a19c7a7e8b441c8248.jpg: ignoring corrupt image/label: Label class 18 exceeds dataset class count 18. Possible class labels are 0-17\n",
      "\u001b[34m\u001b[1mtrain: \u001b[0mWARNING ⚠️ /sfs/ceph/standard/sds_managed_sadewole/DS6050_SP25/group6/kaggle/kaggle_flowchart_yolo/images/train/139_jpeg_jpg.rf.5d10a6eeb8afd29fc8c3b3a360019659.jpg: ignoring corrupt image/label: Label class 18 exceeds dataset class count 18. Possible class labels are 0-17\n",
      "\u001b[34m\u001b[1mtrain: \u001b[0mWARNING ⚠️ /sfs/ceph/standard/sds_managed_sadewole/DS6050_SP25/group6/kaggle/kaggle_flowchart_yolo/images/train/139_jpeg_jpg.rf.a12427b2c66f49235cf725cb345caef9.jpg: ignoring corrupt image/label: Label class 18 exceeds dataset class count 18. Possible class labels are 0-17\n",
      "\u001b[34m\u001b[1mtrain: \u001b[0mWARNING ⚠️ /sfs/ceph/standard/sds_managed_sadewole/DS6050_SP25/group6/kaggle/kaggle_flowchart_yolo/images/train/13_jpeg_jpg.rf.6de6ec84fc25fe27112fbb5a5976b247.jpg: ignoring corrupt image/label: Label class 18 exceeds dataset class count 18. Possible class labels are 0-17\n",
      "\u001b[34m\u001b[1mtrain: \u001b[0mWARNING ⚠️ /sfs/ceph/standard/sds_managed_sadewole/DS6050_SP25/group6/kaggle/kaggle_flowchart_yolo/images/train/13_jpeg_jpg.rf.92445fc456e06a5bb59ca393565c5c43.jpg: ignoring corrupt image/label: Label class 18 exceeds dataset class count 18. Possible class labels are 0-17\n",
      "\u001b[34m\u001b[1mtrain: \u001b[0mWARNING ⚠️ /sfs/ceph/standard/sds_managed_sadewole/DS6050_SP25/group6/kaggle/kaggle_flowchart_yolo/images/train/13_jpeg_jpg.rf.cf6d5e411db8a56c201a2dc26d7b4471.jpg: ignoring corrupt image/label: Label class 18 exceeds dataset class count 18. Possible class labels are 0-17\n",
      "\u001b[34m\u001b[1mtrain: \u001b[0mWARNING ⚠️ /sfs/ceph/standard/sds_managed_sadewole/DS6050_SP25/group6/kaggle/kaggle_flowchart_yolo/images/train/140_png_jpg.rf.6ceafc717504555d227c73964ec25d04.jpg: ignoring corrupt image/label: Label class 18 exceeds dataset class count 18. Possible class labels are 0-17\n",
      "\u001b[34m\u001b[1mtrain: \u001b[0mWARNING ⚠️ /sfs/ceph/standard/sds_managed_sadewole/DS6050_SP25/group6/kaggle/kaggle_flowchart_yolo/images/train/140_png_jpg.rf.83d4fa9d83545c1db8d7f261d5b6d151.jpg: ignoring corrupt image/label: Label class 18 exceeds dataset class count 18. Possible class labels are 0-17\n",
      "\u001b[34m\u001b[1mtrain: \u001b[0mWARNING ⚠️ /sfs/ceph/standard/sds_managed_sadewole/DS6050_SP25/group6/kaggle/kaggle_flowchart_yolo/images/train/140_png_jpg.rf.8eef1402d49559c87dc0cd0d00801e81.jpg: ignoring corrupt image/label: Label class 18 exceeds dataset class count 18. Possible class labels are 0-17\n",
      "\u001b[34m\u001b[1mtrain: \u001b[0mWARNING ⚠️ /sfs/ceph/standard/sds_managed_sadewole/DS6050_SP25/group6/kaggle/kaggle_flowchart_yolo/images/train/140_png_jpg.rf.94d0df1b79d0532328e0b36e0780af1f.jpg: ignoring corrupt image/label: Label class 18 exceeds dataset class count 18. Possible class labels are 0-17\n",
      "\u001b[34m\u001b[1mtrain: \u001b[0mWARNING ⚠️ /sfs/ceph/standard/sds_managed_sadewole/DS6050_SP25/group6/kaggle/kaggle_flowchart_yolo/images/train/140_png_jpg.rf.d0848899c1826872caad56566b26b7d2.jpg: ignoring corrupt image/label: Label class 18 exceeds dataset class count 18. Possible class labels are 0-17\n",
      "\u001b[34m\u001b[1mtrain: \u001b[0mWARNING ⚠️ /sfs/ceph/standard/sds_managed_sadewole/DS6050_SP25/group6/kaggle/kaggle_flowchart_yolo/images/train/140_png_jpg.rf.dc4b946aca3105260d14f85e2c596d12.jpg: ignoring corrupt image/label: Label class 18 exceeds dataset class count 18. Possible class labels are 0-17\n",
      "\u001b[34m\u001b[1mtrain: \u001b[0mWARNING ⚠️ /sfs/ceph/standard/sds_managed_sadewole/DS6050_SP25/group6/kaggle/kaggle_flowchart_yolo/images/train/144_png_jpg.rf.a774a937f3d41d14df2779544e4075e1.jpg: ignoring corrupt image/label: Label class 18 exceeds dataset class count 18. Possible class labels are 0-17\n",
      "\u001b[34m\u001b[1mtrain: \u001b[0mWARNING ⚠️ /sfs/ceph/standard/sds_managed_sadewole/DS6050_SP25/group6/kaggle/kaggle_flowchart_yolo/images/train/144_png_jpg.rf.ab2d840974c3b934a62eab1df90a4ebf.jpg: ignoring corrupt image/label: Label class 18 exceeds dataset class count 18. Possible class labels are 0-17\n",
      "\u001b[34m\u001b[1mtrain: \u001b[0mWARNING ⚠️ /sfs/ceph/standard/sds_managed_sadewole/DS6050_SP25/group6/kaggle/kaggle_flowchart_yolo/images/train/144_png_jpg.rf.d0e335d83454a80ba28af27fd3ae75ea.jpg: ignoring corrupt image/label: Label class 18 exceeds dataset class count 18. Possible class labels are 0-17\n",
      "\u001b[34m\u001b[1mtrain: \u001b[0mWARNING ⚠️ /sfs/ceph/standard/sds_managed_sadewole/DS6050_SP25/group6/kaggle/kaggle_flowchart_yolo/images/train/157_png_jpg.rf.3171250e98b1d6798fa214d101651b25.jpg: ignoring corrupt image/label: Label class 18 exceeds dataset class count 18. Possible class labels are 0-17\n",
      "\u001b[34m\u001b[1mtrain: \u001b[0mWARNING ⚠️ /sfs/ceph/standard/sds_managed_sadewole/DS6050_SP25/group6/kaggle/kaggle_flowchart_yolo/images/train/157_png_jpg.rf.34cec86239925b0369074b43d3d7a894.jpg: ignoring corrupt image/label: Label class 18 exceeds dataset class count 18. Possible class labels are 0-17\n",
      "\u001b[34m\u001b[1mtrain: \u001b[0mWARNING ⚠️ /sfs/ceph/standard/sds_managed_sadewole/DS6050_SP25/group6/kaggle/kaggle_flowchart_yolo/images/train/157_png_jpg.rf.58075cda763a03e0ad58667a55156fc6.jpg: ignoring corrupt image/label: Label class 18 exceeds dataset class count 18. Possible class labels are 0-17\n",
      "\u001b[34m\u001b[1mtrain: \u001b[0mWARNING ⚠️ /sfs/ceph/standard/sds_managed_sadewole/DS6050_SP25/group6/kaggle/kaggle_flowchart_yolo/images/train/157_png_jpg.rf.8f4252b2963740fe2ee01114ff235b42.jpg: ignoring corrupt image/label: Label class 18 exceeds dataset class count 18. Possible class labels are 0-17\n",
      "\u001b[34m\u001b[1mtrain: \u001b[0mWARNING ⚠️ /sfs/ceph/standard/sds_managed_sadewole/DS6050_SP25/group6/kaggle/kaggle_flowchart_yolo/images/train/157_png_jpg.rf.b437209fdd4e7e6e48e6e9888b8d0525.jpg: ignoring corrupt image/label: Label class 18 exceeds dataset class count 18. Possible class labels are 0-17\n",
      "\u001b[34m\u001b[1mtrain: \u001b[0mWARNING ⚠️ /sfs/ceph/standard/sds_managed_sadewole/DS6050_SP25/group6/kaggle/kaggle_flowchart_yolo/images/train/157_png_jpg.rf.ccd1d3028f937e18030b5bcfdc47acce.jpg: ignoring corrupt image/label: Label class 18 exceeds dataset class count 18. Possible class labels are 0-17\n",
      "\u001b[34m\u001b[1mtrain: \u001b[0mWARNING ⚠️ /sfs/ceph/standard/sds_managed_sadewole/DS6050_SP25/group6/kaggle/kaggle_flowchart_yolo/images/train/160_jpeg_jpg.rf.2dd0155307e4f1ac373926dfc8a59daa.jpg: ignoring corrupt image/label: Label class 18 exceeds dataset class count 18. Possible class labels are 0-17\n",
      "\u001b[34m\u001b[1mtrain: \u001b[0mWARNING ⚠️ /sfs/ceph/standard/sds_managed_sadewole/DS6050_SP25/group6/kaggle/kaggle_flowchart_yolo/images/train/160_jpeg_jpg.rf.42cca0318085d4a076cfec05a165d9e6.jpg: ignoring corrupt image/label: Label class 18 exceeds dataset class count 18. Possible class labels are 0-17\n",
      "\u001b[34m\u001b[1mtrain: \u001b[0mWARNING ⚠️ /sfs/ceph/standard/sds_managed_sadewole/DS6050_SP25/group6/kaggle/kaggle_flowchart_yolo/images/train/160_jpeg_jpg.rf.46907d205aab945bc546e8bdad652fd4.jpg: ignoring corrupt image/label: Label class 18 exceeds dataset class count 18. Possible class labels are 0-17\n",
      "\u001b[34m\u001b[1mtrain: \u001b[0mWARNING ⚠️ /sfs/ceph/standard/sds_managed_sadewole/DS6050_SP25/group6/kaggle/kaggle_flowchart_yolo/images/train/160_jpeg_jpg.rf.9a8d7470ae1582d66c5c4c2d6f2e83bc.jpg: ignoring corrupt image/label: Label class 18 exceeds dataset class count 18. Possible class labels are 0-17\n",
      "\u001b[34m\u001b[1mtrain: \u001b[0mWARNING ⚠️ /sfs/ceph/standard/sds_managed_sadewole/DS6050_SP25/group6/kaggle/kaggle_flowchart_yolo/images/train/160_jpeg_jpg.rf.d700e1704a06f526650d0d4ac1186cfe.jpg: ignoring corrupt image/label: Label class 18 exceeds dataset class count 18. Possible class labels are 0-17\n",
      "\u001b[34m\u001b[1mtrain: \u001b[0mWARNING ⚠️ /sfs/ceph/standard/sds_managed_sadewole/DS6050_SP25/group6/kaggle/kaggle_flowchart_yolo/images/train/160_jpeg_jpg.rf.de1ca84b85ae54b63086fdb071a7890a.jpg: ignoring corrupt image/label: Label class 18 exceeds dataset class count 18. Possible class labels are 0-17\n",
      "\u001b[34m\u001b[1mtrain: \u001b[0mWARNING ⚠️ /sfs/ceph/standard/sds_managed_sadewole/DS6050_SP25/group6/kaggle/kaggle_flowchart_yolo/images/train/160_png_jpg.rf.51693700e03540aa4cc4637b09571ad8.jpg: ignoring corrupt image/label: Label class 18 exceeds dataset class count 18. Possible class labels are 0-17\n",
      "\u001b[34m\u001b[1mtrain: \u001b[0mWARNING ⚠️ /sfs/ceph/standard/sds_managed_sadewole/DS6050_SP25/group6/kaggle/kaggle_flowchart_yolo/images/train/160_png_jpg.rf.7b8519895f15e075dda685a060431e2f.jpg: ignoring corrupt image/label: Label class 18 exceeds dataset class count 18. Possible class labels are 0-17\n",
      "\u001b[34m\u001b[1mtrain: \u001b[0mWARNING ⚠️ /sfs/ceph/standard/sds_managed_sadewole/DS6050_SP25/group6/kaggle/kaggle_flowchart_yolo/images/train/160_png_jpg.rf.cbae8697202a7180ef16c050221bfb0a.jpg: ignoring corrupt image/label: Label class 18 exceeds dataset class count 18. Possible class labels are 0-17\n",
      "\u001b[34m\u001b[1mtrain: \u001b[0mWARNING ⚠️ /sfs/ceph/standard/sds_managed_sadewole/DS6050_SP25/group6/kaggle/kaggle_flowchart_yolo/images/train/161_png_jpg.rf.1fdba9ec0c9553a68174658d39ca6db2.jpg: ignoring corrupt image/label: Label class 18 exceeds dataset class count 18. Possible class labels are 0-17\n",
      "\u001b[34m\u001b[1mtrain: \u001b[0mWARNING ⚠️ /sfs/ceph/standard/sds_managed_sadewole/DS6050_SP25/group6/kaggle/kaggle_flowchart_yolo/images/train/161_png_jpg.rf.2e266cb55cc6a936155f09c46a2e88bf.jpg: ignoring corrupt image/label: Label class 18 exceeds dataset class count 18. Possible class labels are 0-17\n",
      "\u001b[34m\u001b[1mtrain: \u001b[0mWARNING ⚠️ /sfs/ceph/standard/sds_managed_sadewole/DS6050_SP25/group6/kaggle/kaggle_flowchart_yolo/images/train/161_png_jpg.rf.c4eac7ecfc4b608fe80088a22501b937.jpg: ignoring corrupt image/label: Label class 18 exceeds dataset class count 18. Possible class labels are 0-17\n",
      "\u001b[34m\u001b[1mtrain: \u001b[0mWARNING ⚠️ /sfs/ceph/standard/sds_managed_sadewole/DS6050_SP25/group6/kaggle/kaggle_flowchart_yolo/images/train/162_png_jpg.rf.3a054672af241c77a098a4c9e3efbaf3.jpg: ignoring corrupt image/label: Label class 18 exceeds dataset class count 18. Possible class labels are 0-17\n",
      "\u001b[34m\u001b[1mtrain: \u001b[0mWARNING ⚠️ /sfs/ceph/standard/sds_managed_sadewole/DS6050_SP25/group6/kaggle/kaggle_flowchart_yolo/images/train/162_png_jpg.rf.7c8b705225937116614b869ef71069c0.jpg: ignoring corrupt image/label: Label class 18 exceeds dataset class count 18. Possible class labels are 0-17\n",
      "\u001b[34m\u001b[1mtrain: \u001b[0mWARNING ⚠️ /sfs/ceph/standard/sds_managed_sadewole/DS6050_SP25/group6/kaggle/kaggle_flowchart_yolo/images/train/162_png_jpg.rf.a0dfa82dca94798346ac725418367038.jpg: ignoring corrupt image/label: Label class 18 exceeds dataset class count 18. Possible class labels are 0-17\n",
      "\u001b[34m\u001b[1mtrain: \u001b[0mWARNING ⚠️ /sfs/ceph/standard/sds_managed_sadewole/DS6050_SP25/group6/kaggle/kaggle_flowchart_yolo/images/train/163_png_jpg.rf.2f97ab75a6078e2bc5f180faed881c44.jpg: ignoring corrupt image/label: Label class 18 exceeds dataset class count 18. Possible class labels are 0-17\n",
      "\u001b[34m\u001b[1mtrain: \u001b[0mWARNING ⚠️ /sfs/ceph/standard/sds_managed_sadewole/DS6050_SP25/group6/kaggle/kaggle_flowchart_yolo/images/train/163_png_jpg.rf.84ae70e0542db03e87ed0a6979228b44.jpg: ignoring corrupt image/label: Label class 18 exceeds dataset class count 18. Possible class labels are 0-17\n",
      "\u001b[34m\u001b[1mtrain: \u001b[0mWARNING ⚠️ /sfs/ceph/standard/sds_managed_sadewole/DS6050_SP25/group6/kaggle/kaggle_flowchart_yolo/images/train/163_png_jpg.rf.fe936609015e0c4a6cb52399282a1ad8.jpg: ignoring corrupt image/label: Label class 18 exceeds dataset class count 18. Possible class labels are 0-17\n",
      "\u001b[34m\u001b[1mtrain: \u001b[0mWARNING ⚠️ /sfs/ceph/standard/sds_managed_sadewole/DS6050_SP25/group6/kaggle/kaggle_flowchart_yolo/images/train/168_png_jpg.rf.0f381acecb195f793ce156fe88f8d9fd.jpg: ignoring corrupt image/label: Label class 18 exceeds dataset class count 18. Possible class labels are 0-17\n",
      "\u001b[34m\u001b[1mtrain: \u001b[0mWARNING ⚠️ /sfs/ceph/standard/sds_managed_sadewole/DS6050_SP25/group6/kaggle/kaggle_flowchart_yolo/images/train/168_png_jpg.rf.4b426314df8ab21b8062397c1ca9d93c.jpg: ignoring corrupt image/label: Label class 18 exceeds dataset class count 18. Possible class labels are 0-17\n",
      "\u001b[34m\u001b[1mtrain: \u001b[0mWARNING ⚠️ /sfs/ceph/standard/sds_managed_sadewole/DS6050_SP25/group6/kaggle/kaggle_flowchart_yolo/images/train/168_png_jpg.rf.905ff6954295fefb5f8a0dae1cae45bd.jpg: ignoring corrupt image/label: Label class 18 exceeds dataset class count 18. Possible class labels are 0-17\n",
      "\u001b[34m\u001b[1mtrain: \u001b[0mWARNING ⚠️ /sfs/ceph/standard/sds_managed_sadewole/DS6050_SP25/group6/kaggle/kaggle_flowchart_yolo/images/train/168_png_jpg.rf.95fdfea246e1fab41bb947ac8e31a353.jpg: ignoring corrupt image/label: Label class 18 exceeds dataset class count 18. Possible class labels are 0-17\n",
      "\u001b[34m\u001b[1mtrain: \u001b[0mWARNING ⚠️ /sfs/ceph/standard/sds_managed_sadewole/DS6050_SP25/group6/kaggle/kaggle_flowchart_yolo/images/train/168_png_jpg.rf.d2412a5b64ab94b7e41ad490e4808caf.jpg: ignoring corrupt image/label: Label class 18 exceeds dataset class count 18. Possible class labels are 0-17\n",
      "\u001b[34m\u001b[1mtrain: \u001b[0mWARNING ⚠️ /sfs/ceph/standard/sds_managed_sadewole/DS6050_SP25/group6/kaggle/kaggle_flowchart_yolo/images/train/168_png_jpg.rf.e2aacbe6f2b719321cb16fc6e9282495.jpg: ignoring corrupt image/label: Label class 18 exceeds dataset class count 18. Possible class labels are 0-17\n",
      "\u001b[34m\u001b[1mtrain: \u001b[0mWARNING ⚠️ /sfs/ceph/standard/sds_managed_sadewole/DS6050_SP25/group6/kaggle/kaggle_flowchart_yolo/images/train/171_png_jpg.rf.1169b74bd0944c9566031531f017de60.jpg: ignoring corrupt image/label: Label class 18 exceeds dataset class count 18. Possible class labels are 0-17\n",
      "\u001b[34m\u001b[1mtrain: \u001b[0mWARNING ⚠️ /sfs/ceph/standard/sds_managed_sadewole/DS6050_SP25/group6/kaggle/kaggle_flowchart_yolo/images/train/171_png_jpg.rf.17a0d3067b5db61026f9eb44a5f206a4.jpg: ignoring corrupt image/label: Label class 18 exceeds dataset class count 18. Possible class labels are 0-17\n",
      "\u001b[34m\u001b[1mtrain: \u001b[0mWARNING ⚠️ /sfs/ceph/standard/sds_managed_sadewole/DS6050_SP25/group6/kaggle/kaggle_flowchart_yolo/images/train/171_png_jpg.rf.3c343cd2430c70c1b0d3da4f87e30b22.jpg: ignoring corrupt image/label: Label class 18 exceeds dataset class count 18. Possible class labels are 0-17\n",
      "\u001b[34m\u001b[1mtrain: \u001b[0mWARNING ⚠️ /sfs/ceph/standard/sds_managed_sadewole/DS6050_SP25/group6/kaggle/kaggle_flowchart_yolo/images/train/171_png_jpg.rf.6921add70b149fe5c14c750a86982330.jpg: ignoring corrupt image/label: Label class 18 exceeds dataset class count 18. Possible class labels are 0-17\n",
      "\u001b[34m\u001b[1mtrain: \u001b[0mWARNING ⚠️ /sfs/ceph/standard/sds_managed_sadewole/DS6050_SP25/group6/kaggle/kaggle_flowchart_yolo/images/train/171_png_jpg.rf.deb25ff68d6647ee80fb0d3501d65efe.jpg: ignoring corrupt image/label: Label class 18 exceeds dataset class count 18. Possible class labels are 0-17\n",
      "\u001b[34m\u001b[1mtrain: \u001b[0mWARNING ⚠️ /sfs/ceph/standard/sds_managed_sadewole/DS6050_SP25/group6/kaggle/kaggle_flowchart_yolo/images/train/171_png_jpg.rf.e6f19addc05176df94ee06432b729974.jpg: ignoring corrupt image/label: Label class 18 exceeds dataset class count 18. Possible class labels are 0-17\n",
      "\u001b[34m\u001b[1mtrain: \u001b[0mWARNING ⚠️ /sfs/ceph/standard/sds_managed_sadewole/DS6050_SP25/group6/kaggle/kaggle_flowchart_yolo/images/train/172_png_jpg.rf.44fab3c28c69742dd0011a936768e7be.jpg: ignoring corrupt image/label: Label class 18 exceeds dataset class count 18. Possible class labels are 0-17\n",
      "\u001b[34m\u001b[1mtrain: \u001b[0mWARNING ⚠️ /sfs/ceph/standard/sds_managed_sadewole/DS6050_SP25/group6/kaggle/kaggle_flowchart_yolo/images/train/172_png_jpg.rf.60b1cab6f80418a2018b38cf3820aea3.jpg: ignoring corrupt image/label: Label class 18 exceeds dataset class count 18. Possible class labels are 0-17\n",
      "\u001b[34m\u001b[1mtrain: \u001b[0mWARNING ⚠️ /sfs/ceph/standard/sds_managed_sadewole/DS6050_SP25/group6/kaggle/kaggle_flowchart_yolo/images/train/172_png_jpg.rf.b6337d3e733afd3dbd28b1745709c6d6.jpg: ignoring corrupt image/label: Label class 18 exceeds dataset class count 18. Possible class labels are 0-17\n",
      "\u001b[34m\u001b[1mtrain: \u001b[0mWARNING ⚠️ /sfs/ceph/standard/sds_managed_sadewole/DS6050_SP25/group6/kaggle/kaggle_flowchart_yolo/images/train/175_jpeg_jpg.rf.24e6940f1fcf25cc3a21202a2e09c182.jpg: ignoring corrupt image/label: Label class 18 exceeds dataset class count 18. Possible class labels are 0-17\n",
      "\u001b[34m\u001b[1mtrain: \u001b[0mWARNING ⚠️ /sfs/ceph/standard/sds_managed_sadewole/DS6050_SP25/group6/kaggle/kaggle_flowchart_yolo/images/train/175_jpeg_jpg.rf.4c4c8d9ebcaadddbfde8bfc5cce01174.jpg: ignoring corrupt image/label: Label class 18 exceeds dataset class count 18. Possible class labels are 0-17\n",
      "\u001b[34m\u001b[1mtrain: \u001b[0mWARNING ⚠️ /sfs/ceph/standard/sds_managed_sadewole/DS6050_SP25/group6/kaggle/kaggle_flowchart_yolo/images/train/175_jpeg_jpg.rf.794ddeb001ac3026e080f3ee9c3b0b06.jpg: ignoring corrupt image/label: Label class 18 exceeds dataset class count 18. Possible class labels are 0-17\n",
      "\u001b[34m\u001b[1mtrain: \u001b[0mWARNING ⚠️ /sfs/ceph/standard/sds_managed_sadewole/DS6050_SP25/group6/kaggle/kaggle_flowchart_yolo/images/train/175_jpeg_jpg.rf.b0b85597e734e861282df0817a8878d3.jpg: ignoring corrupt image/label: Label class 18 exceeds dataset class count 18. Possible class labels are 0-17\n",
      "\u001b[34m\u001b[1mtrain: \u001b[0mWARNING ⚠️ /sfs/ceph/standard/sds_managed_sadewole/DS6050_SP25/group6/kaggle/kaggle_flowchart_yolo/images/train/175_jpeg_jpg.rf.b39d95cc57d02e9a37c51f669ab40775.jpg: ignoring corrupt image/label: Label class 18 exceeds dataset class count 18. Possible class labels are 0-17\n",
      "\u001b[34m\u001b[1mtrain: \u001b[0mWARNING ⚠️ /sfs/ceph/standard/sds_managed_sadewole/DS6050_SP25/group6/kaggle/kaggle_flowchart_yolo/images/train/175_jpeg_jpg.rf.f09460d8e9bf67cfb2c72877dea9be9f.jpg: ignoring corrupt image/label: Label class 18 exceeds dataset class count 18. Possible class labels are 0-17\n",
      "\u001b[34m\u001b[1mtrain: \u001b[0mWARNING ⚠️ /sfs/ceph/standard/sds_managed_sadewole/DS6050_SP25/group6/kaggle/kaggle_flowchart_yolo/images/train/175_png_jpg.rf.067ad8e78e97ec934c82b12dbbd20e74.jpg: ignoring corrupt image/label: Label class 18 exceeds dataset class count 18. Possible class labels are 0-17\n",
      "\u001b[34m\u001b[1mtrain: \u001b[0mWARNING ⚠️ /sfs/ceph/standard/sds_managed_sadewole/DS6050_SP25/group6/kaggle/kaggle_flowchart_yolo/images/train/175_png_jpg.rf.2a9f0e08de4c05ac778d1d194750fc47.jpg: ignoring corrupt image/label: Label class 18 exceeds dataset class count 18. Possible class labels are 0-17\n",
      "\u001b[34m\u001b[1mtrain: \u001b[0mWARNING ⚠️ /sfs/ceph/standard/sds_managed_sadewole/DS6050_SP25/group6/kaggle/kaggle_flowchart_yolo/images/train/175_png_jpg.rf.323bbecb146e368cb886317de5c26280.jpg: ignoring corrupt image/label: Label class 18 exceeds dataset class count 18. Possible class labels are 0-17\n",
      "\u001b[34m\u001b[1mtrain: \u001b[0mWARNING ⚠️ /sfs/ceph/standard/sds_managed_sadewole/DS6050_SP25/group6/kaggle/kaggle_flowchart_yolo/images/train/175_png_jpg.rf.3666bfe83cd5061aa1bf9d97e739caf5.jpg: ignoring corrupt image/label: Label class 18 exceeds dataset class count 18. Possible class labels are 0-17\n",
      "\u001b[34m\u001b[1mtrain: \u001b[0mWARNING ⚠️ /sfs/ceph/standard/sds_managed_sadewole/DS6050_SP25/group6/kaggle/kaggle_flowchart_yolo/images/train/175_png_jpg.rf.57d5a50c709bd5a6fccddcded4b51d16.jpg: ignoring corrupt image/label: Label class 18 exceeds dataset class count 18. Possible class labels are 0-17\n",
      "\u001b[34m\u001b[1mtrain: \u001b[0mWARNING ⚠️ /sfs/ceph/standard/sds_managed_sadewole/DS6050_SP25/group6/kaggle/kaggle_flowchart_yolo/images/train/175_png_jpg.rf.8df8834ea3cfa7385c32e6e0b243bf24.jpg: ignoring corrupt image/label: Label class 18 exceeds dataset class count 18. Possible class labels are 0-17\n",
      "\u001b[34m\u001b[1mtrain: \u001b[0mWARNING ⚠️ /sfs/ceph/standard/sds_managed_sadewole/DS6050_SP25/group6/kaggle/kaggle_flowchart_yolo/images/train/179_png_jpg.rf.17ce6b858b1ffa5a3c2338819d58fa9e.jpg: ignoring corrupt image/label: Label class 18 exceeds dataset class count 18. Possible class labels are 0-17\n",
      "\u001b[34m\u001b[1mtrain: \u001b[0mWARNING ⚠️ /sfs/ceph/standard/sds_managed_sadewole/DS6050_SP25/group6/kaggle/kaggle_flowchart_yolo/images/train/179_png_jpg.rf.1d7e9d5b717505fcbc5050ad825280f1.jpg: ignoring corrupt image/label: Label class 18 exceeds dataset class count 18. Possible class labels are 0-17\n",
      "\u001b[34m\u001b[1mtrain: \u001b[0mWARNING ⚠️ /sfs/ceph/standard/sds_managed_sadewole/DS6050_SP25/group6/kaggle/kaggle_flowchart_yolo/images/train/179_png_jpg.rf.2d1aab5818cc6050783d4d37c97ba062.jpg: ignoring corrupt image/label: Label class 18 exceeds dataset class count 18. Possible class labels are 0-17\n",
      "\u001b[34m\u001b[1mtrain: \u001b[0mWARNING ⚠️ /sfs/ceph/standard/sds_managed_sadewole/DS6050_SP25/group6/kaggle/kaggle_flowchart_yolo/images/train/179_png_jpg.rf.b6f0202f6abae1aea207612b1987523e.jpg: ignoring corrupt image/label: Label class 18 exceeds dataset class count 18. Possible class labels are 0-17\n",
      "\u001b[34m\u001b[1mtrain: \u001b[0mWARNING ⚠️ /sfs/ceph/standard/sds_managed_sadewole/DS6050_SP25/group6/kaggle/kaggle_flowchart_yolo/images/train/179_png_jpg.rf.bbc865268cdf2bfb711618fe534577ea.jpg: ignoring corrupt image/label: Label class 18 exceeds dataset class count 18. Possible class labels are 0-17\n",
      "\u001b[34m\u001b[1mtrain: \u001b[0mWARNING ⚠️ /sfs/ceph/standard/sds_managed_sadewole/DS6050_SP25/group6/kaggle/kaggle_flowchart_yolo/images/train/179_png_jpg.rf.fcfe9bb455830f01208746b5f0216d06.jpg: ignoring corrupt image/label: Label class 18 exceeds dataset class count 18. Possible class labels are 0-17\n",
      "\u001b[34m\u001b[1mtrain: \u001b[0mWARNING ⚠️ /sfs/ceph/standard/sds_managed_sadewole/DS6050_SP25/group6/kaggle/kaggle_flowchart_yolo/images/train/17_png_jpg.rf.1d8025c94c697ca2b129aa3bd63810e8.jpg: ignoring corrupt image/label: Label class 18 exceeds dataset class count 18. Possible class labels are 0-17\n",
      "\u001b[34m\u001b[1mtrain: \u001b[0mWARNING ⚠️ /sfs/ceph/standard/sds_managed_sadewole/DS6050_SP25/group6/kaggle/kaggle_flowchart_yolo/images/train/17_png_jpg.rf.3343579e8c6b2035c2a0b040c1f41641.jpg: ignoring corrupt image/label: Label class 18 exceeds dataset class count 18. Possible class labels are 0-17\n",
      "\u001b[34m\u001b[1mtrain: \u001b[0mWARNING ⚠️ /sfs/ceph/standard/sds_managed_sadewole/DS6050_SP25/group6/kaggle/kaggle_flowchart_yolo/images/train/17_png_jpg.rf.46b4cb6ab577b88eac90e42fb71e88dc.jpg: ignoring corrupt image/label: Label class 18 exceeds dataset class count 18. Possible class labels are 0-17\n",
      "\u001b[34m\u001b[1mtrain: \u001b[0mWARNING ⚠️ /sfs/ceph/standard/sds_managed_sadewole/DS6050_SP25/group6/kaggle/kaggle_flowchart_yolo/images/train/17_png_jpg.rf.4c675c495e244b9efd7bb4c4aa3b9c5f.jpg: ignoring corrupt image/label: Label class 18 exceeds dataset class count 18. Possible class labels are 0-17\n",
      "\u001b[34m\u001b[1mtrain: \u001b[0mWARNING ⚠️ /sfs/ceph/standard/sds_managed_sadewole/DS6050_SP25/group6/kaggle/kaggle_flowchart_yolo/images/train/17_png_jpg.rf.837805decffddbb4ca95ac7149d96546.jpg: ignoring corrupt image/label: Label class 18 exceeds dataset class count 18. Possible class labels are 0-17\n",
      "\u001b[34m\u001b[1mtrain: \u001b[0mWARNING ⚠️ /sfs/ceph/standard/sds_managed_sadewole/DS6050_SP25/group6/kaggle/kaggle_flowchart_yolo/images/train/17_png_jpg.rf.bc505dc7a1de0bda3aaa939d4dd5be90.jpg: ignoring corrupt image/label: Label class 18 exceeds dataset class count 18. Possible class labels are 0-17\n",
      "\u001b[34m\u001b[1mtrain: \u001b[0mWARNING ⚠️ /sfs/ceph/standard/sds_managed_sadewole/DS6050_SP25/group6/kaggle/kaggle_flowchart_yolo/images/train/183_png_jpg.rf.06be1c41ff4ecaaac0dac508dc37f550.jpg: ignoring corrupt image/label: Label class 18 exceeds dataset class count 18. Possible class labels are 0-17\n",
      "\u001b[34m\u001b[1mtrain: \u001b[0mWARNING ⚠️ /sfs/ceph/standard/sds_managed_sadewole/DS6050_SP25/group6/kaggle/kaggle_flowchart_yolo/images/train/183_png_jpg.rf.0bb97d6e13af996f1c183e6cbfa974ab.jpg: ignoring corrupt image/label: Label class 18 exceeds dataset class count 18. Possible class labels are 0-17\n",
      "\u001b[34m\u001b[1mtrain: \u001b[0mWARNING ⚠️ /sfs/ceph/standard/sds_managed_sadewole/DS6050_SP25/group6/kaggle/kaggle_flowchart_yolo/images/train/183_png_jpg.rf.99781d5206bdb0034645fd24ad7a35df.jpg: ignoring corrupt image/label: Label class 18 exceeds dataset class count 18. Possible class labels are 0-17\n",
      "\u001b[34m\u001b[1mtrain: \u001b[0mWARNING ⚠️ /sfs/ceph/standard/sds_managed_sadewole/DS6050_SP25/group6/kaggle/kaggle_flowchart_yolo/images/train/189_png_jpg.rf.47912e0c0fa686ed795953c0114ff729.jpg: ignoring corrupt image/label: Label class 18 exceeds dataset class count 18. Possible class labels are 0-17\n",
      "\u001b[34m\u001b[1mtrain: \u001b[0mWARNING ⚠️ /sfs/ceph/standard/sds_managed_sadewole/DS6050_SP25/group6/kaggle/kaggle_flowchart_yolo/images/train/189_png_jpg.rf.5076214625a53510198fbcf4f932fb20.jpg: ignoring corrupt image/label: Label class 18 exceeds dataset class count 18. Possible class labels are 0-17\n",
      "\u001b[34m\u001b[1mtrain: \u001b[0mWARNING ⚠️ /sfs/ceph/standard/sds_managed_sadewole/DS6050_SP25/group6/kaggle/kaggle_flowchart_yolo/images/train/189_png_jpg.rf.70990f6caec1fa0279f0b3edb0e589f0.jpg: ignoring corrupt image/label: Label class 18 exceeds dataset class count 18. Possible class labels are 0-17\n",
      "\u001b[34m\u001b[1mtrain: \u001b[0mWARNING ⚠️ /sfs/ceph/standard/sds_managed_sadewole/DS6050_SP25/group6/kaggle/kaggle_flowchart_yolo/images/train/189_png_jpg.rf.7da79da9294b006eac9054f4c1f2c2c8.jpg: ignoring corrupt image/label: Label class 18 exceeds dataset class count 18. Possible class labels are 0-17\n",
      "\u001b[34m\u001b[1mtrain: \u001b[0mWARNING ⚠️ /sfs/ceph/standard/sds_managed_sadewole/DS6050_SP25/group6/kaggle/kaggle_flowchart_yolo/images/train/189_png_jpg.rf.91bb596e3f8cc12fad743f8293f6a7da.jpg: ignoring corrupt image/label: Label class 18 exceeds dataset class count 18. Possible class labels are 0-17\n",
      "\u001b[34m\u001b[1mtrain: \u001b[0mWARNING ⚠️ /sfs/ceph/standard/sds_managed_sadewole/DS6050_SP25/group6/kaggle/kaggle_flowchart_yolo/images/train/189_png_jpg.rf.ab6b7b2b7bf831999890735141c47627.jpg: ignoring corrupt image/label: Label class 18 exceeds dataset class count 18. Possible class labels are 0-17\n",
      "\u001b[34m\u001b[1mtrain: \u001b[0mWARNING ⚠️ /sfs/ceph/standard/sds_managed_sadewole/DS6050_SP25/group6/kaggle/kaggle_flowchart_yolo/images/train/192_png_jpg.rf.025612136a6077c17a95e64ad66f4eef.jpg: ignoring corrupt image/label: Label class 18 exceeds dataset class count 18. Possible class labels are 0-17\n",
      "\u001b[34m\u001b[1mtrain: \u001b[0mWARNING ⚠️ /sfs/ceph/standard/sds_managed_sadewole/DS6050_SP25/group6/kaggle/kaggle_flowchart_yolo/images/train/192_png_jpg.rf.02b2368b385d8206af92300efb1bb9a3.jpg: ignoring corrupt image/label: Label class 18 exceeds dataset class count 18. Possible class labels are 0-17\n",
      "\u001b[34m\u001b[1mtrain: \u001b[0mWARNING ⚠️ /sfs/ceph/standard/sds_managed_sadewole/DS6050_SP25/group6/kaggle/kaggle_flowchart_yolo/images/train/192_png_jpg.rf.11b4983f85c68957d760eb6a0053705f.jpg: ignoring corrupt image/label: Label class 18 exceeds dataset class count 18. Possible class labels are 0-17\n",
      "\u001b[34m\u001b[1mtrain: \u001b[0mWARNING ⚠️ /sfs/ceph/standard/sds_managed_sadewole/DS6050_SP25/group6/kaggle/kaggle_flowchart_yolo/images/train/192_png_jpg.rf.15ce539f94ca3b946d5cee90c8e92a22.jpg: ignoring corrupt image/label: Label class 18 exceeds dataset class count 18. Possible class labels are 0-17\n",
      "\u001b[34m\u001b[1mtrain: \u001b[0mWARNING ⚠️ /sfs/ceph/standard/sds_managed_sadewole/DS6050_SP25/group6/kaggle/kaggle_flowchart_yolo/images/train/192_png_jpg.rf.812b5391944afe1fcb0c71a713c33457.jpg: ignoring corrupt image/label: Label class 18 exceeds dataset class count 18. Possible class labels are 0-17\n",
      "\u001b[34m\u001b[1mtrain: \u001b[0mWARNING ⚠️ /sfs/ceph/standard/sds_managed_sadewole/DS6050_SP25/group6/kaggle/kaggle_flowchart_yolo/images/train/192_png_jpg.rf.da500e97e72147ffa79c70209043e3d6.jpg: ignoring corrupt image/label: Label class 18 exceeds dataset class count 18. Possible class labels are 0-17\n",
      "\u001b[34m\u001b[1mtrain: \u001b[0mWARNING ⚠️ /sfs/ceph/standard/sds_managed_sadewole/DS6050_SP25/group6/kaggle/kaggle_flowchart_yolo/images/train/193_png_jpg.rf.37b996745a801eac16b897a30153ed39.jpg: ignoring corrupt image/label: Label class 18 exceeds dataset class count 18. Possible class labels are 0-17\n",
      "\u001b[34m\u001b[1mtrain: \u001b[0mWARNING ⚠️ /sfs/ceph/standard/sds_managed_sadewole/DS6050_SP25/group6/kaggle/kaggle_flowchart_yolo/images/train/193_png_jpg.rf.438a7386810561b19964b91fa57e9056.jpg: ignoring corrupt image/label: Label class 18 exceeds dataset class count 18. Possible class labels are 0-17\n",
      "\u001b[34m\u001b[1mtrain: \u001b[0mWARNING ⚠️ /sfs/ceph/standard/sds_managed_sadewole/DS6050_SP25/group6/kaggle/kaggle_flowchart_yolo/images/train/193_png_jpg.rf.7a5bb45ecf144e567d182356361f4c01.jpg: ignoring corrupt image/label: Label class 18 exceeds dataset class count 18. Possible class labels are 0-17\n",
      "\u001b[34m\u001b[1mtrain: \u001b[0mWARNING ⚠️ /sfs/ceph/standard/sds_managed_sadewole/DS6050_SP25/group6/kaggle/kaggle_flowchart_yolo/images/train/193_png_jpg.rf.8a89498d06b444b4fb42092d88571e53.jpg: ignoring corrupt image/label: Label class 18 exceeds dataset class count 18. Possible class labels are 0-17\n",
      "\u001b[34m\u001b[1mtrain: \u001b[0mWARNING ⚠️ /sfs/ceph/standard/sds_managed_sadewole/DS6050_SP25/group6/kaggle/kaggle_flowchart_yolo/images/train/193_png_jpg.rf.8b67027392e83017cec3319e9063bb7d.jpg: ignoring corrupt image/label: Label class 18 exceeds dataset class count 18. Possible class labels are 0-17\n",
      "\u001b[34m\u001b[1mtrain: \u001b[0mWARNING ⚠️ /sfs/ceph/standard/sds_managed_sadewole/DS6050_SP25/group6/kaggle/kaggle_flowchart_yolo/images/train/193_png_jpg.rf.d15368a584f26f5a13fe211f59379a22.jpg: ignoring corrupt image/label: Label class 18 exceeds dataset class count 18. Possible class labels are 0-17\n",
      "\u001b[34m\u001b[1mtrain: \u001b[0mWARNING ⚠️ /sfs/ceph/standard/sds_managed_sadewole/DS6050_SP25/group6/kaggle/kaggle_flowchart_yolo/images/train/194_jpeg_jpg.rf.60f10b3d966498bf33c9558e08ac94cf.jpg: ignoring corrupt image/label: Label class 18 exceeds dataset class count 18. Possible class labels are 0-17\n",
      "\u001b[34m\u001b[1mtrain: \u001b[0mWARNING ⚠️ /sfs/ceph/standard/sds_managed_sadewole/DS6050_SP25/group6/kaggle/kaggle_flowchart_yolo/images/train/194_jpeg_jpg.rf.8104b3bdf3cff09f88d7113a5474c672.jpg: ignoring corrupt image/label: Label class 18 exceeds dataset class count 18. Possible class labels are 0-17\n",
      "\u001b[34m\u001b[1mtrain: \u001b[0mWARNING ⚠️ /sfs/ceph/standard/sds_managed_sadewole/DS6050_SP25/group6/kaggle/kaggle_flowchart_yolo/images/train/194_jpeg_jpg.rf.bb9e10c56cd8a965a8f62513ec35029f.jpg: ignoring corrupt image/label: Label class 18 exceeds dataset class count 18. Possible class labels are 0-17\n",
      "\u001b[34m\u001b[1mtrain: \u001b[0mWARNING ⚠️ /sfs/ceph/standard/sds_managed_sadewole/DS6050_SP25/group6/kaggle/kaggle_flowchart_yolo/images/train/195_png_jpg.rf.992233536cd064497f6683a67f79852b.jpg: ignoring corrupt image/label: Label class 18 exceeds dataset class count 18. Possible class labels are 0-17\n",
      "\u001b[34m\u001b[1mtrain: \u001b[0mWARNING ⚠️ /sfs/ceph/standard/sds_managed_sadewole/DS6050_SP25/group6/kaggle/kaggle_flowchart_yolo/images/train/195_png_jpg.rf.aa07174313ee0d3496c03950829ab1c8.jpg: ignoring corrupt image/label: Label class 18 exceeds dataset class count 18. Possible class labels are 0-17\n",
      "\u001b[34m\u001b[1mtrain: \u001b[0mWARNING ⚠️ /sfs/ceph/standard/sds_managed_sadewole/DS6050_SP25/group6/kaggle/kaggle_flowchart_yolo/images/train/195_png_jpg.rf.ad33d22287d045c9df49a884e5acc2d5.jpg: ignoring corrupt image/label: Label class 18 exceeds dataset class count 18. Possible class labels are 0-17\n",
      "\u001b[34m\u001b[1mtrain: \u001b[0mWARNING ⚠️ /sfs/ceph/standard/sds_managed_sadewole/DS6050_SP25/group6/kaggle/kaggle_flowchart_yolo/images/train/195_png_jpg.rf.bc9a6647e7663146b8b41e96e6b1dbdc.jpg: ignoring corrupt image/label: Label class 18 exceeds dataset class count 18. Possible class labels are 0-17\n",
      "\u001b[34m\u001b[1mtrain: \u001b[0mWARNING ⚠️ /sfs/ceph/standard/sds_managed_sadewole/DS6050_SP25/group6/kaggle/kaggle_flowchart_yolo/images/train/195_png_jpg.rf.e6d61cf6457c6f010c2e3fba262b75ed.jpg: ignoring corrupt image/label: Label class 18 exceeds dataset class count 18. Possible class labels are 0-17\n",
      "\u001b[34m\u001b[1mtrain: \u001b[0mWARNING ⚠️ /sfs/ceph/standard/sds_managed_sadewole/DS6050_SP25/group6/kaggle/kaggle_flowchart_yolo/images/train/195_png_jpg.rf.ef96f5f66144f06be2bd845d8f8112e3.jpg: ignoring corrupt image/label: Label class 18 exceeds dataset class count 18. Possible class labels are 0-17\n",
      "\u001b[34m\u001b[1mtrain: \u001b[0mWARNING ⚠️ /sfs/ceph/standard/sds_managed_sadewole/DS6050_SP25/group6/kaggle/kaggle_flowchart_yolo/images/train/199_jpeg_jpg.rf.085a300ad46f8abce7c44dcacbb3089c.jpg: ignoring corrupt image/label: Label class 18 exceeds dataset class count 18. Possible class labels are 0-17\n",
      "\u001b[34m\u001b[1mtrain: \u001b[0mWARNING ⚠️ /sfs/ceph/standard/sds_managed_sadewole/DS6050_SP25/group6/kaggle/kaggle_flowchart_yolo/images/train/199_jpeg_jpg.rf.d4460f962771531e98307d9b38f13de9.jpg: ignoring corrupt image/label: Label class 18 exceeds dataset class count 18. Possible class labels are 0-17\n",
      "\u001b[34m\u001b[1mtrain: \u001b[0mWARNING ⚠️ /sfs/ceph/standard/sds_managed_sadewole/DS6050_SP25/group6/kaggle/kaggle_flowchart_yolo/images/train/199_jpeg_jpg.rf.e282ab096c9f85088565716019af81f5.jpg: ignoring corrupt image/label: Label class 18 exceeds dataset class count 18. Possible class labels are 0-17\n",
      "\u001b[34m\u001b[1mtrain: \u001b[0mWARNING ⚠️ /sfs/ceph/standard/sds_managed_sadewole/DS6050_SP25/group6/kaggle/kaggle_flowchart_yolo/images/train/199_png_jpg.rf.3487449a0d5ea17c74fc67d2bf1f8033.jpg: ignoring corrupt image/label: Label class 18 exceeds dataset class count 18. Possible class labels are 0-17\n",
      "\u001b[34m\u001b[1mtrain: \u001b[0mWARNING ⚠️ /sfs/ceph/standard/sds_managed_sadewole/DS6050_SP25/group6/kaggle/kaggle_flowchart_yolo/images/train/199_png_jpg.rf.cdb8fea2eefc2624b18e0a3134846ee7.jpg: ignoring corrupt image/label: Label class 18 exceeds dataset class count 18. Possible class labels are 0-17\n",
      "\u001b[34m\u001b[1mtrain: \u001b[0mWARNING ⚠️ /sfs/ceph/standard/sds_managed_sadewole/DS6050_SP25/group6/kaggle/kaggle_flowchart_yolo/images/train/199_png_jpg.rf.f5346e2d544de2c5e691905272afe91b.jpg: ignoring corrupt image/label: Label class 18 exceeds dataset class count 18. Possible class labels are 0-17\n",
      "\u001b[34m\u001b[1mtrain: \u001b[0mWARNING ⚠️ /sfs/ceph/standard/sds_managed_sadewole/DS6050_SP25/group6/kaggle/kaggle_flowchart_yolo/images/train/200_png_jpg.rf.6991368603ba7785835614a04ff43952.jpg: ignoring corrupt image/label: Label class 18 exceeds dataset class count 18. Possible class labels are 0-17\n",
      "\u001b[34m\u001b[1mtrain: \u001b[0mWARNING ⚠️ /sfs/ceph/standard/sds_managed_sadewole/DS6050_SP25/group6/kaggle/kaggle_flowchart_yolo/images/train/200_png_jpg.rf.7ab0d23019ad22f8758014a9f4efdbd6.jpg: ignoring corrupt image/label: Label class 18 exceeds dataset class count 18. Possible class labels are 0-17\n",
      "\u001b[34m\u001b[1mtrain: \u001b[0mWARNING ⚠️ /sfs/ceph/standard/sds_managed_sadewole/DS6050_SP25/group6/kaggle/kaggle_flowchart_yolo/images/train/200_png_jpg.rf.b3ebb6192ad50125345c16bdab06c260.jpg: ignoring corrupt image/label: Label class 18 exceeds dataset class count 18. Possible class labels are 0-17\n",
      "\u001b[34m\u001b[1mtrain: \u001b[0mWARNING ⚠️ /sfs/ceph/standard/sds_managed_sadewole/DS6050_SP25/group6/kaggle/kaggle_flowchart_yolo/images/train/200_png_jpg.rf.b5b808dd1de422a297ef3ba24fbaa02b.jpg: ignoring corrupt image/label: Label class 18 exceeds dataset class count 18. Possible class labels are 0-17\n",
      "\u001b[34m\u001b[1mtrain: \u001b[0mWARNING ⚠️ /sfs/ceph/standard/sds_managed_sadewole/DS6050_SP25/group6/kaggle/kaggle_flowchart_yolo/images/train/200_png_jpg.rf.bba702d1db381cf037ec282ccfbf1d98.jpg: ignoring corrupt image/label: Label class 18 exceeds dataset class count 18. Possible class labels are 0-17\n",
      "\u001b[34m\u001b[1mtrain: \u001b[0mWARNING ⚠️ /sfs/ceph/standard/sds_managed_sadewole/DS6050_SP25/group6/kaggle/kaggle_flowchart_yolo/images/train/200_png_jpg.rf.e2dd1c73d63b6f363ebdbc049baae17f.jpg: ignoring corrupt image/label: Label class 18 exceeds dataset class count 18. Possible class labels are 0-17\n",
      "\u001b[34m\u001b[1mtrain: \u001b[0mWARNING ⚠️ /sfs/ceph/standard/sds_managed_sadewole/DS6050_SP25/group6/kaggle/kaggle_flowchart_yolo/images/train/202_png_jpg.rf.41d779c37172063a3164c7a20515cd3d.jpg: ignoring corrupt image/label: Label class 18 exceeds dataset class count 18. Possible class labels are 0-17\n",
      "\u001b[34m\u001b[1mtrain: \u001b[0mWARNING ⚠️ /sfs/ceph/standard/sds_managed_sadewole/DS6050_SP25/group6/kaggle/kaggle_flowchart_yolo/images/train/202_png_jpg.rf.5a9def729d2c881756d9c4a197d357fd.jpg: ignoring corrupt image/label: Label class 18 exceeds dataset class count 18. Possible class labels are 0-17\n",
      "\u001b[34m\u001b[1mtrain: \u001b[0mWARNING ⚠️ /sfs/ceph/standard/sds_managed_sadewole/DS6050_SP25/group6/kaggle/kaggle_flowchart_yolo/images/train/202_png_jpg.rf.cd4458864ad31724d4b955813c82acf3.jpg: ignoring corrupt image/label: Label class 18 exceeds dataset class count 18. Possible class labels are 0-17\n",
      "\u001b[34m\u001b[1mtrain: \u001b[0mWARNING ⚠️ /sfs/ceph/standard/sds_managed_sadewole/DS6050_SP25/group6/kaggle/kaggle_flowchart_yolo/images/train/204_png_jpg.rf.1c38834caa182f1140a3936a0f91707c.jpg: ignoring corrupt image/label: Label class 18 exceeds dataset class count 18. Possible class labels are 0-17\n",
      "\u001b[34m\u001b[1mtrain: \u001b[0mWARNING ⚠️ /sfs/ceph/standard/sds_managed_sadewole/DS6050_SP25/group6/kaggle/kaggle_flowchart_yolo/images/train/204_png_jpg.rf.2868182104934875e1855e938f513adb.jpg: ignoring corrupt image/label: Label class 18 exceeds dataset class count 18. Possible class labels are 0-17\n",
      "\u001b[34m\u001b[1mtrain: \u001b[0mWARNING ⚠️ /sfs/ceph/standard/sds_managed_sadewole/DS6050_SP25/group6/kaggle/kaggle_flowchart_yolo/images/train/204_png_jpg.rf.899649e0b591e47ba515899a9418bd03.jpg: ignoring corrupt image/label: Label class 18 exceeds dataset class count 18. Possible class labels are 0-17\n",
      "\u001b[34m\u001b[1mtrain: \u001b[0mWARNING ⚠️ /sfs/ceph/standard/sds_managed_sadewole/DS6050_SP25/group6/kaggle/kaggle_flowchart_yolo/images/train/204_png_jpg.rf.9028361f666cfd7a9c86173d3ecd8dd6.jpg: ignoring corrupt image/label: Label class 18 exceeds dataset class count 18. Possible class labels are 0-17\n",
      "\u001b[34m\u001b[1mtrain: \u001b[0mWARNING ⚠️ /sfs/ceph/standard/sds_managed_sadewole/DS6050_SP25/group6/kaggle/kaggle_flowchart_yolo/images/train/204_png_jpg.rf.99faa1b8c5d153bea1ddab4d3198d11c.jpg: ignoring corrupt image/label: Label class 18 exceeds dataset class count 18. Possible class labels are 0-17\n",
      "\u001b[34m\u001b[1mtrain: \u001b[0mWARNING ⚠️ /sfs/ceph/standard/sds_managed_sadewole/DS6050_SP25/group6/kaggle/kaggle_flowchart_yolo/images/train/204_png_jpg.rf.a08be71c143230fd0af2956f232bde1a.jpg: ignoring corrupt image/label: Label class 18 exceeds dataset class count 18. Possible class labels are 0-17\n",
      "\u001b[34m\u001b[1mtrain: \u001b[0mWARNING ⚠️ /sfs/ceph/standard/sds_managed_sadewole/DS6050_SP25/group6/kaggle/kaggle_flowchart_yolo/images/train/212_png_jpg.rf.0c444acb0c67bb67f1b90f57904e55cf.jpg: ignoring corrupt image/label: Label class 18 exceeds dataset class count 18. Possible class labels are 0-17\n",
      "\u001b[34m\u001b[1mtrain: \u001b[0mWARNING ⚠️ /sfs/ceph/standard/sds_managed_sadewole/DS6050_SP25/group6/kaggle/kaggle_flowchart_yolo/images/train/212_png_jpg.rf.15d72fb0400b0577a3b3739a8097e62a.jpg: ignoring corrupt image/label: Label class 18 exceeds dataset class count 18. Possible class labels are 0-17\n",
      "\u001b[34m\u001b[1mtrain: \u001b[0mWARNING ⚠️ /sfs/ceph/standard/sds_managed_sadewole/DS6050_SP25/group6/kaggle/kaggle_flowchart_yolo/images/train/212_png_jpg.rf.19d25dd94c309818af5f4f5ad166fba9.jpg: ignoring corrupt image/label: Label class 18 exceeds dataset class count 18. Possible class labels are 0-17\n",
      "\u001b[34m\u001b[1mtrain: \u001b[0mWARNING ⚠️ /sfs/ceph/standard/sds_managed_sadewole/DS6050_SP25/group6/kaggle/kaggle_flowchart_yolo/images/train/212_png_jpg.rf.1b2bd98d7bffa55b2b4a95155a03c75a.jpg: ignoring corrupt image/label: Label class 18 exceeds dataset class count 18. Possible class labels are 0-17\n",
      "\u001b[34m\u001b[1mtrain: \u001b[0mWARNING ⚠️ /sfs/ceph/standard/sds_managed_sadewole/DS6050_SP25/group6/kaggle/kaggle_flowchart_yolo/images/train/212_png_jpg.rf.ba84ee8cda3c80455372622af8015683.jpg: ignoring corrupt image/label: Label class 18 exceeds dataset class count 18. Possible class labels are 0-17\n",
      "\u001b[34m\u001b[1mtrain: \u001b[0mWARNING ⚠️ /sfs/ceph/standard/sds_managed_sadewole/DS6050_SP25/group6/kaggle/kaggle_flowchart_yolo/images/train/212_png_jpg.rf.d3986be07a218b611dfc147de8fda3a2.jpg: ignoring corrupt image/label: Label class 18 exceeds dataset class count 18. Possible class labels are 0-17\n",
      "\u001b[34m\u001b[1mtrain: \u001b[0mWARNING ⚠️ /sfs/ceph/standard/sds_managed_sadewole/DS6050_SP25/group6/kaggle/kaggle_flowchart_yolo/images/train/218_png_jpg.rf.01b07ce6f337d4e1d79d9723fd2c97f9.jpg: ignoring corrupt image/label: Label class 18 exceeds dataset class count 18. Possible class labels are 0-17\n",
      "\u001b[34m\u001b[1mtrain: \u001b[0mWARNING ⚠️ /sfs/ceph/standard/sds_managed_sadewole/DS6050_SP25/group6/kaggle/kaggle_flowchart_yolo/images/train/218_png_jpg.rf.259e349d422b9d9f3f3d12bab5090595.jpg: ignoring corrupt image/label: Label class 18 exceeds dataset class count 18. Possible class labels are 0-17\n",
      "\u001b[34m\u001b[1mtrain: \u001b[0mWARNING ⚠️ /sfs/ceph/standard/sds_managed_sadewole/DS6050_SP25/group6/kaggle/kaggle_flowchart_yolo/images/train/218_png_jpg.rf.6c6b676b7d922f4f50fb89facc68f627.jpg: ignoring corrupt image/label: Label class 18 exceeds dataset class count 18. Possible class labels are 0-17\n",
      "\u001b[34m\u001b[1mtrain: \u001b[0mWARNING ⚠️ /sfs/ceph/standard/sds_managed_sadewole/DS6050_SP25/group6/kaggle/kaggle_flowchart_yolo/images/train/218_png_jpg.rf.83c7d8ee11c7dac3d2ff17c11fbf9fc6.jpg: ignoring corrupt image/label: Label class 18 exceeds dataset class count 18. Possible class labels are 0-17\n",
      "\u001b[34m\u001b[1mtrain: \u001b[0mWARNING ⚠️ /sfs/ceph/standard/sds_managed_sadewole/DS6050_SP25/group6/kaggle/kaggle_flowchart_yolo/images/train/218_png_jpg.rf.b25954600ee4c5c0fd3ba752eb9b166a.jpg: ignoring corrupt image/label: Label class 18 exceeds dataset class count 18. Possible class labels are 0-17\n",
      "\u001b[34m\u001b[1mtrain: \u001b[0mWARNING ⚠️ /sfs/ceph/standard/sds_managed_sadewole/DS6050_SP25/group6/kaggle/kaggle_flowchart_yolo/images/train/218_png_jpg.rf.e61c10aadfedb5658220cdb61833fb1f.jpg: ignoring corrupt image/label: Label class 18 exceeds dataset class count 18. Possible class labels are 0-17\n",
      "\u001b[34m\u001b[1mtrain: \u001b[0mWARNING ⚠️ /sfs/ceph/standard/sds_managed_sadewole/DS6050_SP25/group6/kaggle/kaggle_flowchart_yolo/images/train/220_png_jpg.rf.04bb1dc03d7116691126e1390a5c485b.jpg: ignoring corrupt image/label: Label class 18 exceeds dataset class count 18. Possible class labels are 0-17\n",
      "\u001b[34m\u001b[1mtrain: \u001b[0mWARNING ⚠️ /sfs/ceph/standard/sds_managed_sadewole/DS6050_SP25/group6/kaggle/kaggle_flowchart_yolo/images/train/220_png_jpg.rf.31d7bed403ff2dbe071d3695e2660eb6.jpg: ignoring corrupt image/label: Label class 18 exceeds dataset class count 18. Possible class labels are 0-17\n",
      "\u001b[34m\u001b[1mtrain: \u001b[0mWARNING ⚠️ /sfs/ceph/standard/sds_managed_sadewole/DS6050_SP25/group6/kaggle/kaggle_flowchart_yolo/images/train/220_png_jpg.rf.439b649b1ef7a97f9c6f33ffde7940fd.jpg: ignoring corrupt image/label: Label class 18 exceeds dataset class count 18. Possible class labels are 0-17\n",
      "\u001b[34m\u001b[1mtrain: \u001b[0mWARNING ⚠️ /sfs/ceph/standard/sds_managed_sadewole/DS6050_SP25/group6/kaggle/kaggle_flowchart_yolo/images/train/220_png_jpg.rf.b5d2d9923ea0b49ffa4f04cefadb2671.jpg: ignoring corrupt image/label: Label class 18 exceeds dataset class count 18. Possible class labels are 0-17\n",
      "\u001b[34m\u001b[1mtrain: \u001b[0mWARNING ⚠️ /sfs/ceph/standard/sds_managed_sadewole/DS6050_SP25/group6/kaggle/kaggle_flowchart_yolo/images/train/220_png_jpg.rf.cfe04bc24d3c4ad0b24b58c4464c3909.jpg: ignoring corrupt image/label: Label class 18 exceeds dataset class count 18. Possible class labels are 0-17\n",
      "\u001b[34m\u001b[1mtrain: \u001b[0mWARNING ⚠️ /sfs/ceph/standard/sds_managed_sadewole/DS6050_SP25/group6/kaggle/kaggle_flowchart_yolo/images/train/220_png_jpg.rf.ec7924abe503323b1909fe2fd2204bc9.jpg: ignoring corrupt image/label: Label class 18 exceeds dataset class count 18. Possible class labels are 0-17\n",
      "\u001b[34m\u001b[1mtrain: \u001b[0mWARNING ⚠️ /sfs/ceph/standard/sds_managed_sadewole/DS6050_SP25/group6/kaggle/kaggle_flowchart_yolo/images/train/223_png_jpg.rf.0319e5b8a16c80db3607fe4d20d676b1.jpg: ignoring corrupt image/label: Label class 18 exceeds dataset class count 18. Possible class labels are 0-17\n",
      "\u001b[34m\u001b[1mtrain: \u001b[0mWARNING ⚠️ /sfs/ceph/standard/sds_managed_sadewole/DS6050_SP25/group6/kaggle/kaggle_flowchart_yolo/images/train/223_png_jpg.rf.3a99bfa20f43696b09b16f53158c475f.jpg: ignoring corrupt image/label: Label class 18 exceeds dataset class count 18. Possible class labels are 0-17\n",
      "\u001b[34m\u001b[1mtrain: \u001b[0mWARNING ⚠️ /sfs/ceph/standard/sds_managed_sadewole/DS6050_SP25/group6/kaggle/kaggle_flowchart_yolo/images/train/223_png_jpg.rf.3abfe5d1a744d4324dd631041767ed07.jpg: ignoring corrupt image/label: Label class 18 exceeds dataset class count 18. Possible class labels are 0-17\n",
      "\u001b[34m\u001b[1mtrain: \u001b[0mWARNING ⚠️ /sfs/ceph/standard/sds_managed_sadewole/DS6050_SP25/group6/kaggle/kaggle_flowchart_yolo/images/train/223_png_jpg.rf.86892585d8bbf597ebe622ce0153f6ab.jpg: ignoring corrupt image/label: Label class 18 exceeds dataset class count 18. Possible class labels are 0-17\n",
      "\u001b[34m\u001b[1mtrain: \u001b[0mWARNING ⚠️ /sfs/ceph/standard/sds_managed_sadewole/DS6050_SP25/group6/kaggle/kaggle_flowchart_yolo/images/train/223_png_jpg.rf.8f1316de86e0dc6b96c528dff2771579.jpg: ignoring corrupt image/label: Label class 18 exceeds dataset class count 18. Possible class labels are 0-17\n",
      "\u001b[34m\u001b[1mtrain: \u001b[0mWARNING ⚠️ /sfs/ceph/standard/sds_managed_sadewole/DS6050_SP25/group6/kaggle/kaggle_flowchart_yolo/images/train/223_png_jpg.rf.d428b8e69140bc52d0fb7c69c75fc5db.jpg: ignoring corrupt image/label: Label class 18 exceeds dataset class count 18. Possible class labels are 0-17\n",
      "\u001b[34m\u001b[1mtrain: \u001b[0mWARNING ⚠️ /sfs/ceph/standard/sds_managed_sadewole/DS6050_SP25/group6/kaggle/kaggle_flowchart_yolo/images/train/224_png_jpg.rf.1582b13c949880d46d37ef0fb91d3cda.jpg: ignoring corrupt image/label: Label class 18 exceeds dataset class count 18. Possible class labels are 0-17\n",
      "\u001b[34m\u001b[1mtrain: \u001b[0mWARNING ⚠️ /sfs/ceph/standard/sds_managed_sadewole/DS6050_SP25/group6/kaggle/kaggle_flowchart_yolo/images/train/224_png_jpg.rf.2b0789d604644b5c7e5a8bcd6a093070.jpg: ignoring corrupt image/label: Label class 18 exceeds dataset class count 18. Possible class labels are 0-17\n",
      "\u001b[34m\u001b[1mtrain: \u001b[0mWARNING ⚠️ /sfs/ceph/standard/sds_managed_sadewole/DS6050_SP25/group6/kaggle/kaggle_flowchart_yolo/images/train/224_png_jpg.rf.5d7b6747aef475616cd44f7adcdff75c.jpg: ignoring corrupt image/label: Label class 18 exceeds dataset class count 18. Possible class labels are 0-17\n",
      "\u001b[34m\u001b[1mtrain: \u001b[0mWARNING ⚠️ /sfs/ceph/standard/sds_managed_sadewole/DS6050_SP25/group6/kaggle/kaggle_flowchart_yolo/images/train/224_png_jpg.rf.8bb38bc77e3b63bab3450816b44a4c08.jpg: ignoring corrupt image/label: Label class 18 exceeds dataset class count 18. Possible class labels are 0-17\n",
      "\u001b[34m\u001b[1mtrain: \u001b[0mWARNING ⚠️ /sfs/ceph/standard/sds_managed_sadewole/DS6050_SP25/group6/kaggle/kaggle_flowchart_yolo/images/train/224_png_jpg.rf.a6dc54c22e648753b39de94540000b36.jpg: ignoring corrupt image/label: Label class 18 exceeds dataset class count 18. Possible class labels are 0-17\n",
      "\u001b[34m\u001b[1mtrain: \u001b[0mWARNING ⚠️ /sfs/ceph/standard/sds_managed_sadewole/DS6050_SP25/group6/kaggle/kaggle_flowchart_yolo/images/train/224_png_jpg.rf.c47b72e52bbe1b23955bffaca48f8c4f.jpg: ignoring corrupt image/label: Label class 18 exceeds dataset class count 18. Possible class labels are 0-17\n",
      "\u001b[34m\u001b[1mtrain: \u001b[0mWARNING ⚠️ /sfs/ceph/standard/sds_managed_sadewole/DS6050_SP25/group6/kaggle/kaggle_flowchart_yolo/images/train/225_png_jpg.rf.6268b50fa19b555d0fde06d117d87f51.jpg: ignoring corrupt image/label: Label class 18 exceeds dataset class count 18. Possible class labels are 0-17\n",
      "\u001b[34m\u001b[1mtrain: \u001b[0mWARNING ⚠️ /sfs/ceph/standard/sds_managed_sadewole/DS6050_SP25/group6/kaggle/kaggle_flowchart_yolo/images/train/225_png_jpg.rf.6fc82064590493b04518fad35c00e7ac.jpg: ignoring corrupt image/label: Label class 18 exceeds dataset class count 18. Possible class labels are 0-17\n",
      "\u001b[34m\u001b[1mtrain: \u001b[0mWARNING ⚠️ /sfs/ceph/standard/sds_managed_sadewole/DS6050_SP25/group6/kaggle/kaggle_flowchart_yolo/images/train/225_png_jpg.rf.bd7e7ea5499b9f18e03105767f0dabe9.jpg: ignoring corrupt image/label: Label class 18 exceeds dataset class count 18. Possible class labels are 0-17\n",
      "\u001b[34m\u001b[1mtrain: \u001b[0mWARNING ⚠️ /sfs/ceph/standard/sds_managed_sadewole/DS6050_SP25/group6/kaggle/kaggle_flowchart_yolo/images/train/227_png_jpg.rf.245ff92b615b35133ee54a9f45dd8320.jpg: ignoring corrupt image/label: Label class 18 exceeds dataset class count 18. Possible class labels are 0-17\n",
      "\u001b[34m\u001b[1mtrain: \u001b[0mWARNING ⚠️ /sfs/ceph/standard/sds_managed_sadewole/DS6050_SP25/group6/kaggle/kaggle_flowchart_yolo/images/train/227_png_jpg.rf.382ad2cd8ebe9f13c258867b659cd7f7.jpg: ignoring corrupt image/label: Label class 18 exceeds dataset class count 18. Possible class labels are 0-17\n",
      "\u001b[34m\u001b[1mtrain: \u001b[0mWARNING ⚠️ /sfs/ceph/standard/sds_managed_sadewole/DS6050_SP25/group6/kaggle/kaggle_flowchart_yolo/images/train/227_png_jpg.rf.3901225becf0909710d9f10b5502df72.jpg: ignoring corrupt image/label: Label class 18 exceeds dataset class count 18. Possible class labels are 0-17\n",
      "\u001b[34m\u001b[1mtrain: \u001b[0mWARNING ⚠️ /sfs/ceph/standard/sds_managed_sadewole/DS6050_SP25/group6/kaggle/kaggle_flowchart_yolo/images/train/227_png_jpg.rf.4acd4243489a3e36c5ab6622953d14e8.jpg: ignoring corrupt image/label: Label class 18 exceeds dataset class count 18. Possible class labels are 0-17\n",
      "\u001b[34m\u001b[1mtrain: \u001b[0mWARNING ⚠️ /sfs/ceph/standard/sds_managed_sadewole/DS6050_SP25/group6/kaggle/kaggle_flowchart_yolo/images/train/227_png_jpg.rf.c404c7262e6631c7bb834d10fe5dba0e.jpg: ignoring corrupt image/label: Label class 18 exceeds dataset class count 18. Possible class labels are 0-17\n",
      "\u001b[34m\u001b[1mtrain: \u001b[0mWARNING ⚠️ /sfs/ceph/standard/sds_managed_sadewole/DS6050_SP25/group6/kaggle/kaggle_flowchart_yolo/images/train/227_png_jpg.rf.d7ba1629e728df9d1eda127e4931c673.jpg: ignoring corrupt image/label: Label class 18 exceeds dataset class count 18. Possible class labels are 0-17\n",
      "\u001b[34m\u001b[1mtrain: \u001b[0mWARNING ⚠️ /sfs/ceph/standard/sds_managed_sadewole/DS6050_SP25/group6/kaggle/kaggle_flowchart_yolo/images/train/231_png_jpg.rf.19d3554a6b1ae162febb6a1d53bd6f06.jpg: ignoring corrupt image/label: Label class 18 exceeds dataset class count 18. Possible class labels are 0-17\n",
      "\u001b[34m\u001b[1mtrain: \u001b[0mWARNING ⚠️ /sfs/ceph/standard/sds_managed_sadewole/DS6050_SP25/group6/kaggle/kaggle_flowchart_yolo/images/train/231_png_jpg.rf.3e1b9b5b31fed5c7dca048f8b98ada67.jpg: ignoring corrupt image/label: Label class 18 exceeds dataset class count 18. Possible class labels are 0-17\n",
      "\u001b[34m\u001b[1mtrain: \u001b[0mWARNING ⚠️ /sfs/ceph/standard/sds_managed_sadewole/DS6050_SP25/group6/kaggle/kaggle_flowchart_yolo/images/train/231_png_jpg.rf.f7c945bbb5cb74d2b1433e4e6dc71cae.jpg: ignoring corrupt image/label: Label class 18 exceeds dataset class count 18. Possible class labels are 0-17\n",
      "\u001b[34m\u001b[1mtrain: \u001b[0mWARNING ⚠️ /sfs/ceph/standard/sds_managed_sadewole/DS6050_SP25/group6/kaggle/kaggle_flowchart_yolo/images/train/235_png_jpg.rf.05097a678ca17d33cbefac4bc696f713.jpg: ignoring corrupt image/label: Label class 18 exceeds dataset class count 18. Possible class labels are 0-17\n",
      "\u001b[34m\u001b[1mtrain: \u001b[0mWARNING ⚠️ /sfs/ceph/standard/sds_managed_sadewole/DS6050_SP25/group6/kaggle/kaggle_flowchart_yolo/images/train/235_png_jpg.rf.397d6155f99fd957575df93f831051e6.jpg: ignoring corrupt image/label: Label class 18 exceeds dataset class count 18. Possible class labels are 0-17\n",
      "\u001b[34m\u001b[1mtrain: \u001b[0mWARNING ⚠️ /sfs/ceph/standard/sds_managed_sadewole/DS6050_SP25/group6/kaggle/kaggle_flowchart_yolo/images/train/235_png_jpg.rf.7763ab8137e3d82fdbcbc2ba2b183d04.jpg: ignoring corrupt image/label: Label class 18 exceeds dataset class count 18. Possible class labels are 0-17\n",
      "\u001b[34m\u001b[1mtrain: \u001b[0mWARNING ⚠️ /sfs/ceph/standard/sds_managed_sadewole/DS6050_SP25/group6/kaggle/kaggle_flowchart_yolo/images/train/235_png_jpg.rf.db60cc3fb76837a5da83ee6e7135981b.jpg: ignoring corrupt image/label: Label class 18 exceeds dataset class count 18. Possible class labels are 0-17\n",
      "\u001b[34m\u001b[1mtrain: \u001b[0mWARNING ⚠️ /sfs/ceph/standard/sds_managed_sadewole/DS6050_SP25/group6/kaggle/kaggle_flowchart_yolo/images/train/235_png_jpg.rf.f2a63ae9e4e44f81b58b87c58c6c29a9.jpg: ignoring corrupt image/label: Label class 18 exceeds dataset class count 18. Possible class labels are 0-17\n",
      "\u001b[34m\u001b[1mtrain: \u001b[0mWARNING ⚠️ /sfs/ceph/standard/sds_managed_sadewole/DS6050_SP25/group6/kaggle/kaggle_flowchart_yolo/images/train/235_png_jpg.rf.f759b09afe3dad98f6c28aa905456063.jpg: ignoring corrupt image/label: Label class 18 exceeds dataset class count 18. Possible class labels are 0-17\n",
      "\u001b[34m\u001b[1mtrain: \u001b[0mWARNING ⚠️ /sfs/ceph/standard/sds_managed_sadewole/DS6050_SP25/group6/kaggle/kaggle_flowchart_yolo/images/train/236_png_jpg.rf.07c7b3d4eb531c01713651be12331c31.jpg: ignoring corrupt image/label: Label class 18 exceeds dataset class count 18. Possible class labels are 0-17\n",
      "\u001b[34m\u001b[1mtrain: \u001b[0mWARNING ⚠️ /sfs/ceph/standard/sds_managed_sadewole/DS6050_SP25/group6/kaggle/kaggle_flowchart_yolo/images/train/236_png_jpg.rf.11136bee918ed07ca279622681c5fcf8.jpg: ignoring corrupt image/label: Label class 18 exceeds dataset class count 18. Possible class labels are 0-17\n",
      "\u001b[34m\u001b[1mtrain: \u001b[0mWARNING ⚠️ /sfs/ceph/standard/sds_managed_sadewole/DS6050_SP25/group6/kaggle/kaggle_flowchart_yolo/images/train/236_png_jpg.rf.39a3a7fdc200ff122751db3b8a561857.jpg: ignoring corrupt image/label: Label class 18 exceeds dataset class count 18. Possible class labels are 0-17\n",
      "\u001b[34m\u001b[1mtrain: \u001b[0mWARNING ⚠️ /sfs/ceph/standard/sds_managed_sadewole/DS6050_SP25/group6/kaggle/kaggle_flowchart_yolo/images/train/236_png_jpg.rf.6581cb448eed9ab236ddd5a787c4e355.jpg: ignoring corrupt image/label: Label class 18 exceeds dataset class count 18. Possible class labels are 0-17\n",
      "\u001b[34m\u001b[1mtrain: \u001b[0mWARNING ⚠️ /sfs/ceph/standard/sds_managed_sadewole/DS6050_SP25/group6/kaggle/kaggle_flowchart_yolo/images/train/236_png_jpg.rf.9ba02470031363bdbd83645e10009d93.jpg: ignoring corrupt image/label: Label class 18 exceeds dataset class count 18. Possible class labels are 0-17\n",
      "\u001b[34m\u001b[1mtrain: \u001b[0mWARNING ⚠️ /sfs/ceph/standard/sds_managed_sadewole/DS6050_SP25/group6/kaggle/kaggle_flowchart_yolo/images/train/236_png_jpg.rf.ba24755485896ae4d758594bad9d1373.jpg: ignoring corrupt image/label: Label class 18 exceeds dataset class count 18. Possible class labels are 0-17\n",
      "\u001b[34m\u001b[1mtrain: \u001b[0mWARNING ⚠️ /sfs/ceph/standard/sds_managed_sadewole/DS6050_SP25/group6/kaggle/kaggle_flowchart_yolo/images/train/246_png_jpg.rf.006299fb6e3b25cd56982e42fd9a2d51.jpg: ignoring corrupt image/label: Label class 18 exceeds dataset class count 18. Possible class labels are 0-17\n",
      "\u001b[34m\u001b[1mtrain: \u001b[0mWARNING ⚠️ /sfs/ceph/standard/sds_managed_sadewole/DS6050_SP25/group6/kaggle/kaggle_flowchart_yolo/images/train/246_png_jpg.rf.47693715641b68bb9f00b5a76d00e338.jpg: ignoring corrupt image/label: Label class 18 exceeds dataset class count 18. Possible class labels are 0-17\n",
      "\u001b[34m\u001b[1mtrain: \u001b[0mWARNING ⚠️ /sfs/ceph/standard/sds_managed_sadewole/DS6050_SP25/group6/kaggle/kaggle_flowchart_yolo/images/train/246_png_jpg.rf.4ac0e96a3c9b8cf42bf9727cfd7cb03a.jpg: ignoring corrupt image/label: Label class 18 exceeds dataset class count 18. Possible class labels are 0-17\n",
      "\u001b[34m\u001b[1mtrain: \u001b[0mWARNING ⚠️ /sfs/ceph/standard/sds_managed_sadewole/DS6050_SP25/group6/kaggle/kaggle_flowchart_yolo/images/train/246_png_jpg.rf.81a67fde539febb61bc9ee690d609655.jpg: ignoring corrupt image/label: Label class 18 exceeds dataset class count 18. Possible class labels are 0-17\n",
      "\u001b[34m\u001b[1mtrain: \u001b[0mWARNING ⚠️ /sfs/ceph/standard/sds_managed_sadewole/DS6050_SP25/group6/kaggle/kaggle_flowchart_yolo/images/train/246_png_jpg.rf.a6d11a11fb9140d807efb53e089846d8.jpg: ignoring corrupt image/label: Label class 18 exceeds dataset class count 18. Possible class labels are 0-17\n",
      "\u001b[34m\u001b[1mtrain: \u001b[0mWARNING ⚠️ /sfs/ceph/standard/sds_managed_sadewole/DS6050_SP25/group6/kaggle/kaggle_flowchart_yolo/images/train/246_png_jpg.rf.d27b69ed6506a3ac3262006115bc41d2.jpg: ignoring corrupt image/label: Label class 18 exceeds dataset class count 18. Possible class labels are 0-17\n",
      "\u001b[34m\u001b[1mtrain: \u001b[0mWARNING ⚠️ /sfs/ceph/standard/sds_managed_sadewole/DS6050_SP25/group6/kaggle/kaggle_flowchart_yolo/images/train/253_png_jpg.rf.01640d0585b7804111052bf6285483ee.jpg: ignoring corrupt image/label: Label class 18 exceeds dataset class count 18. Possible class labels are 0-17\n",
      "\u001b[34m\u001b[1mtrain: \u001b[0mWARNING ⚠️ /sfs/ceph/standard/sds_managed_sadewole/DS6050_SP25/group6/kaggle/kaggle_flowchart_yolo/images/train/253_png_jpg.rf.060974de416f9abcacb84fd6bf248efb.jpg: ignoring corrupt image/label: Label class 18 exceeds dataset class count 18. Possible class labels are 0-17\n",
      "\u001b[34m\u001b[1mtrain: \u001b[0mWARNING ⚠️ /sfs/ceph/standard/sds_managed_sadewole/DS6050_SP25/group6/kaggle/kaggle_flowchart_yolo/images/train/253_png_jpg.rf.0eaa542908026f4ba117820da40e2551.jpg: ignoring corrupt image/label: Label class 18 exceeds dataset class count 18. Possible class labels are 0-17\n",
      "\u001b[34m\u001b[1mtrain: \u001b[0mWARNING ⚠️ /sfs/ceph/standard/sds_managed_sadewole/DS6050_SP25/group6/kaggle/kaggle_flowchart_yolo/images/train/253_png_jpg.rf.750c53ba203db248fee8888c4a43d4cf.jpg: ignoring corrupt image/label: Label class 18 exceeds dataset class count 18. Possible class labels are 0-17\n",
      "\u001b[34m\u001b[1mtrain: \u001b[0mWARNING ⚠️ /sfs/ceph/standard/sds_managed_sadewole/DS6050_SP25/group6/kaggle/kaggle_flowchart_yolo/images/train/253_png_jpg.rf.8f06665957c68a8c5934e513c8354f1c.jpg: ignoring corrupt image/label: Label class 18 exceeds dataset class count 18. Possible class labels are 0-17\n",
      "\u001b[34m\u001b[1mtrain: \u001b[0mWARNING ⚠️ /sfs/ceph/standard/sds_managed_sadewole/DS6050_SP25/group6/kaggle/kaggle_flowchart_yolo/images/train/253_png_jpg.rf.f45735572edacf14014cd8e96a38195e.jpg: ignoring corrupt image/label: Label class 18 exceeds dataset class count 18. Possible class labels are 0-17\n",
      "\u001b[34m\u001b[1mtrain: \u001b[0mWARNING ⚠️ /sfs/ceph/standard/sds_managed_sadewole/DS6050_SP25/group6/kaggle/kaggle_flowchart_yolo/images/train/255_png_jpg.rf.00bc092bfeb518bc9e61c8e3f54d641b.jpg: ignoring corrupt image/label: Label class 18 exceeds dataset class count 18. Possible class labels are 0-17\n",
      "\u001b[34m\u001b[1mtrain: \u001b[0mWARNING ⚠️ /sfs/ceph/standard/sds_managed_sadewole/DS6050_SP25/group6/kaggle/kaggle_flowchart_yolo/images/train/255_png_jpg.rf.2c0759943201e239db525a06459b6bb2.jpg: ignoring corrupt image/label: Label class 18 exceeds dataset class count 18. Possible class labels are 0-17\n",
      "\u001b[34m\u001b[1mtrain: \u001b[0mWARNING ⚠️ /sfs/ceph/standard/sds_managed_sadewole/DS6050_SP25/group6/kaggle/kaggle_flowchart_yolo/images/train/255_png_jpg.rf.4217873311208cb1d3c5d269085cd2db.jpg: ignoring corrupt image/label: Label class 18 exceeds dataset class count 18. Possible class labels are 0-17\n",
      "\u001b[34m\u001b[1mtrain: \u001b[0mWARNING ⚠️ /sfs/ceph/standard/sds_managed_sadewole/DS6050_SP25/group6/kaggle/kaggle_flowchart_yolo/images/train/255_png_jpg.rf.45091af2227be60a66e936031a81cc55.jpg: ignoring corrupt image/label: Label class 18 exceeds dataset class count 18. Possible class labels are 0-17\n",
      "\u001b[34m\u001b[1mtrain: \u001b[0mWARNING ⚠️ /sfs/ceph/standard/sds_managed_sadewole/DS6050_SP25/group6/kaggle/kaggle_flowchart_yolo/images/train/255_png_jpg.rf.d51f7c910302fcda10492d1717771f13.jpg: ignoring corrupt image/label: Label class 18 exceeds dataset class count 18. Possible class labels are 0-17\n",
      "\u001b[34m\u001b[1mtrain: \u001b[0mWARNING ⚠️ /sfs/ceph/standard/sds_managed_sadewole/DS6050_SP25/group6/kaggle/kaggle_flowchart_yolo/images/train/255_png_jpg.rf.e474bd93039d527b65426630decaeb3d.jpg: ignoring corrupt image/label: Label class 18 exceeds dataset class count 18. Possible class labels are 0-17\n",
      "\u001b[34m\u001b[1mtrain: \u001b[0mWARNING ⚠️ /sfs/ceph/standard/sds_managed_sadewole/DS6050_SP25/group6/kaggle/kaggle_flowchart_yolo/images/train/256_png_jpg.rf.18cd1fd793047bf5dce8e2ba1bd4614e.jpg: ignoring corrupt image/label: Label class 18 exceeds dataset class count 18. Possible class labels are 0-17\n",
      "\u001b[34m\u001b[1mtrain: \u001b[0mWARNING ⚠️ /sfs/ceph/standard/sds_managed_sadewole/DS6050_SP25/group6/kaggle/kaggle_flowchart_yolo/images/train/256_png_jpg.rf.2ee8ab0ba0ef142a84eebc90d9ebdd4e.jpg: ignoring corrupt image/label: Label class 18 exceeds dataset class count 18. Possible class labels are 0-17\n",
      "\u001b[34m\u001b[1mtrain: \u001b[0mWARNING ⚠️ /sfs/ceph/standard/sds_managed_sadewole/DS6050_SP25/group6/kaggle/kaggle_flowchart_yolo/images/train/256_png_jpg.rf.88b6f11ec8b7dcae2462b84f1c3cb048.jpg: ignoring corrupt image/label: Label class 18 exceeds dataset class count 18. Possible class labels are 0-17\n",
      "\u001b[34m\u001b[1mtrain: \u001b[0mWARNING ⚠️ /sfs/ceph/standard/sds_managed_sadewole/DS6050_SP25/group6/kaggle/kaggle_flowchart_yolo/images/train/256_png_jpg.rf.9ec89ed68b3818f5a9fb8a30add7c760.jpg: ignoring corrupt image/label: Label class 18 exceeds dataset class count 18. Possible class labels are 0-17\n",
      "\u001b[34m\u001b[1mtrain: \u001b[0mWARNING ⚠️ /sfs/ceph/standard/sds_managed_sadewole/DS6050_SP25/group6/kaggle/kaggle_flowchart_yolo/images/train/256_png_jpg.rf.d61249edf24cb0fb76e3d5d558d6bce3.jpg: ignoring corrupt image/label: Label class 18 exceeds dataset class count 18. Possible class labels are 0-17\n",
      "\u001b[34m\u001b[1mtrain: \u001b[0mWARNING ⚠️ /sfs/ceph/standard/sds_managed_sadewole/DS6050_SP25/group6/kaggle/kaggle_flowchart_yolo/images/train/256_png_jpg.rf.f51f90b892bb31c4ae2d28690ad80bb6.jpg: ignoring corrupt image/label: Label class 18 exceeds dataset class count 18. Possible class labels are 0-17\n",
      "\u001b[34m\u001b[1mtrain: \u001b[0mWARNING ⚠️ /sfs/ceph/standard/sds_managed_sadewole/DS6050_SP25/group6/kaggle/kaggle_flowchart_yolo/images/train/258_png_jpg.rf.23ad86407ff5b2900730ae90a4989bd3.jpg: ignoring corrupt image/label: Label class 18 exceeds dataset class count 18. Possible class labels are 0-17\n",
      "\u001b[34m\u001b[1mtrain: \u001b[0mWARNING ⚠️ /sfs/ceph/standard/sds_managed_sadewole/DS6050_SP25/group6/kaggle/kaggle_flowchart_yolo/images/train/258_png_jpg.rf.592ad836e8ee26a1ab2d4959184ddc46.jpg: ignoring corrupt image/label: Label class 18 exceeds dataset class count 18. Possible class labels are 0-17\n",
      "\u001b[34m\u001b[1mtrain: \u001b[0mWARNING ⚠️ /sfs/ceph/standard/sds_managed_sadewole/DS6050_SP25/group6/kaggle/kaggle_flowchart_yolo/images/train/258_png_jpg.rf.6dcac06101adecb957463fd9b8e8509e.jpg: ignoring corrupt image/label: Label class 18 exceeds dataset class count 18. Possible class labels are 0-17\n",
      "\u001b[34m\u001b[1mtrain: \u001b[0mWARNING ⚠️ /sfs/ceph/standard/sds_managed_sadewole/DS6050_SP25/group6/kaggle/kaggle_flowchart_yolo/images/train/25_png_jpg.rf.6486104c18a3a421dbe72873f629d613.jpg: ignoring corrupt image/label: Label class 18 exceeds dataset class count 18. Possible class labels are 0-17\n",
      "\u001b[34m\u001b[1mtrain: \u001b[0mWARNING ⚠️ /sfs/ceph/standard/sds_managed_sadewole/DS6050_SP25/group6/kaggle/kaggle_flowchart_yolo/images/train/25_png_jpg.rf.9198ff2422614b4673c20c0b30d6c968.jpg: ignoring corrupt image/label: Label class 18 exceeds dataset class count 18. Possible class labels are 0-17\n",
      "\u001b[34m\u001b[1mtrain: \u001b[0mWARNING ⚠️ /sfs/ceph/standard/sds_managed_sadewole/DS6050_SP25/group6/kaggle/kaggle_flowchart_yolo/images/train/25_png_jpg.rf.b279629642edad590f25826cc71e1965.jpg: ignoring corrupt image/label: Label class 18 exceeds dataset class count 18. Possible class labels are 0-17\n",
      "\u001b[34m\u001b[1mtrain: \u001b[0mWARNING ⚠️ /sfs/ceph/standard/sds_managed_sadewole/DS6050_SP25/group6/kaggle/kaggle_flowchart_yolo/images/train/260_png_jpg.rf.40bf3a90d98d2fc72d5a429f72eb6409.jpg: ignoring corrupt image/label: Label class 18 exceeds dataset class count 18. Possible class labels are 0-17\n",
      "\u001b[34m\u001b[1mtrain: \u001b[0mWARNING ⚠️ /sfs/ceph/standard/sds_managed_sadewole/DS6050_SP25/group6/kaggle/kaggle_flowchart_yolo/images/train/260_png_jpg.rf.6101a77110bd28b9a94b283b72506c42.jpg: ignoring corrupt image/label: Label class 18 exceeds dataset class count 18. Possible class labels are 0-17\n",
      "\u001b[34m\u001b[1mtrain: \u001b[0mWARNING ⚠️ /sfs/ceph/standard/sds_managed_sadewole/DS6050_SP25/group6/kaggle/kaggle_flowchart_yolo/images/train/260_png_jpg.rf.612b97a010468ef8303be5aeeb75c8a5.jpg: ignoring corrupt image/label: Label class 18 exceeds dataset class count 18. Possible class labels are 0-17\n",
      "\u001b[34m\u001b[1mtrain: \u001b[0mWARNING ⚠️ /sfs/ceph/standard/sds_managed_sadewole/DS6050_SP25/group6/kaggle/kaggle_flowchart_yolo/images/train/260_png_jpg.rf.a622e4a1fe3bbcffc260a5a2128d9564.jpg: ignoring corrupt image/label: Label class 18 exceeds dataset class count 18. Possible class labels are 0-17\n",
      "\u001b[34m\u001b[1mtrain: \u001b[0mWARNING ⚠️ /sfs/ceph/standard/sds_managed_sadewole/DS6050_SP25/group6/kaggle/kaggle_flowchart_yolo/images/train/260_png_jpg.rf.cb39dddccae35ec95d5ec6138cc13136.jpg: ignoring corrupt image/label: Label class 18 exceeds dataset class count 18. Possible class labels are 0-17\n",
      "\u001b[34m\u001b[1mtrain: \u001b[0mWARNING ⚠️ /sfs/ceph/standard/sds_managed_sadewole/DS6050_SP25/group6/kaggle/kaggle_flowchart_yolo/images/train/260_png_jpg.rf.e1fd31e99c6030013331e5a1eede1bdb.jpg: ignoring corrupt image/label: Label class 18 exceeds dataset class count 18. Possible class labels are 0-17\n",
      "\u001b[34m\u001b[1mtrain: \u001b[0mWARNING ⚠️ /sfs/ceph/standard/sds_managed_sadewole/DS6050_SP25/group6/kaggle/kaggle_flowchart_yolo/images/train/261_png_jpg.rf.0a2e39b1f1ac53771d7bee72293334dd.jpg: ignoring corrupt image/label: Label class 18 exceeds dataset class count 18. Possible class labels are 0-17\n",
      "\u001b[34m\u001b[1mtrain: \u001b[0mWARNING ⚠️ /sfs/ceph/standard/sds_managed_sadewole/DS6050_SP25/group6/kaggle/kaggle_flowchart_yolo/images/train/261_png_jpg.rf.0b6359de231c3f3e5053e9513284eef7.jpg: ignoring corrupt image/label: Label class 18 exceeds dataset class count 18. Possible class labels are 0-17\n",
      "\u001b[34m\u001b[1mtrain: \u001b[0mWARNING ⚠️ /sfs/ceph/standard/sds_managed_sadewole/DS6050_SP25/group6/kaggle/kaggle_flowchart_yolo/images/train/261_png_jpg.rf.599c2679cdf84dce45fbe58d8ff1689f.jpg: ignoring corrupt image/label: Label class 18 exceeds dataset class count 18. Possible class labels are 0-17\n",
      "\u001b[34m\u001b[1mtrain: \u001b[0mWARNING ⚠️ /sfs/ceph/standard/sds_managed_sadewole/DS6050_SP25/group6/kaggle/kaggle_flowchart_yolo/images/train/261_png_jpg.rf.7467da6ca9f1ae661c7fc22f533cc8ec.jpg: ignoring corrupt image/label: Label class 18 exceeds dataset class count 18. Possible class labels are 0-17\n",
      "\u001b[34m\u001b[1mtrain: \u001b[0mWARNING ⚠️ /sfs/ceph/standard/sds_managed_sadewole/DS6050_SP25/group6/kaggle/kaggle_flowchart_yolo/images/train/261_png_jpg.rf.bb5508adaaf47057a70a3c9bf3082c55.jpg: ignoring corrupt image/label: Label class 18 exceeds dataset class count 18. Possible class labels are 0-17\n",
      "\u001b[34m\u001b[1mtrain: \u001b[0mWARNING ⚠️ /sfs/ceph/standard/sds_managed_sadewole/DS6050_SP25/group6/kaggle/kaggle_flowchart_yolo/images/train/261_png_jpg.rf.d55d7cd5e1e475231b006b95ba3e4e45.jpg: ignoring corrupt image/label: Label class 18 exceeds dataset class count 18. Possible class labels are 0-17\n",
      "\u001b[34m\u001b[1mtrain: \u001b[0mWARNING ⚠️ /sfs/ceph/standard/sds_managed_sadewole/DS6050_SP25/group6/kaggle/kaggle_flowchart_yolo/images/train/263_png_jpg.rf.10b8f77ef3a7ddd3e57a2fd21b81dac1.jpg: ignoring corrupt image/label: Label class 18 exceeds dataset class count 18. Possible class labels are 0-17\n",
      "\u001b[34m\u001b[1mtrain: \u001b[0mWARNING ⚠️ /sfs/ceph/standard/sds_managed_sadewole/DS6050_SP25/group6/kaggle/kaggle_flowchart_yolo/images/train/263_png_jpg.rf.21976c589f3d962d86ded0aca9e64a3f.jpg: ignoring corrupt image/label: Label class 18 exceeds dataset class count 18. Possible class labels are 0-17\n",
      "\u001b[34m\u001b[1mtrain: \u001b[0mWARNING ⚠️ /sfs/ceph/standard/sds_managed_sadewole/DS6050_SP25/group6/kaggle/kaggle_flowchart_yolo/images/train/263_png_jpg.rf.23dc0fb498b159b3fbdcccabfed83215.jpg: ignoring corrupt image/label: Label class 18 exceeds dataset class count 18. Possible class labels are 0-17\n",
      "\u001b[34m\u001b[1mtrain: \u001b[0mWARNING ⚠️ /sfs/ceph/standard/sds_managed_sadewole/DS6050_SP25/group6/kaggle/kaggle_flowchart_yolo/images/train/263_png_jpg.rf.634dafe4e2f2dcf6c349e3dde314ae85.jpg: ignoring corrupt image/label: Label class 18 exceeds dataset class count 18. Possible class labels are 0-17\n",
      "\u001b[34m\u001b[1mtrain: \u001b[0mWARNING ⚠️ /sfs/ceph/standard/sds_managed_sadewole/DS6050_SP25/group6/kaggle/kaggle_flowchart_yolo/images/train/263_png_jpg.rf.881459e93abcffdddcb348d0c620e300.jpg: ignoring corrupt image/label: Label class 18 exceeds dataset class count 18. Possible class labels are 0-17\n",
      "\u001b[34m\u001b[1mtrain: \u001b[0mWARNING ⚠️ /sfs/ceph/standard/sds_managed_sadewole/DS6050_SP25/group6/kaggle/kaggle_flowchart_yolo/images/train/263_png_jpg.rf.ac5af17f79034c9bfd3d394b03ba1211.jpg: ignoring corrupt image/label: Label class 18 exceeds dataset class count 18. Possible class labels are 0-17\n",
      "\u001b[34m\u001b[1mtrain: \u001b[0mWARNING ⚠️ /sfs/ceph/standard/sds_managed_sadewole/DS6050_SP25/group6/kaggle/kaggle_flowchart_yolo/images/train/265_png_jpg.rf.22b257690277462520e17d71c77dbe76.jpg: ignoring corrupt image/label: Label class 18 exceeds dataset class count 18. Possible class labels are 0-17\n",
      "\u001b[34m\u001b[1mtrain: \u001b[0mWARNING ⚠️ /sfs/ceph/standard/sds_managed_sadewole/DS6050_SP25/group6/kaggle/kaggle_flowchart_yolo/images/train/265_png_jpg.rf.3662ac37c2430a1b7fe5488fa9a683ce.jpg: ignoring corrupt image/label: Label class 18 exceeds dataset class count 18. Possible class labels are 0-17\n",
      "\u001b[34m\u001b[1mtrain: \u001b[0mWARNING ⚠️ /sfs/ceph/standard/sds_managed_sadewole/DS6050_SP25/group6/kaggle/kaggle_flowchart_yolo/images/train/265_png_jpg.rf.8a02220598eb8a8a6f200592e59552be.jpg: ignoring corrupt image/label: Label class 18 exceeds dataset class count 18. Possible class labels are 0-17\n",
      "\u001b[34m\u001b[1mtrain: \u001b[0mWARNING ⚠️ /sfs/ceph/standard/sds_managed_sadewole/DS6050_SP25/group6/kaggle/kaggle_flowchart_yolo/images/train/265_png_jpg.rf.cd6b302d540cfd688f87cb5fc09717dd.jpg: ignoring corrupt image/label: Label class 18 exceeds dataset class count 18. Possible class labels are 0-17\n",
      "\u001b[34m\u001b[1mtrain: \u001b[0mWARNING ⚠️ /sfs/ceph/standard/sds_managed_sadewole/DS6050_SP25/group6/kaggle/kaggle_flowchart_yolo/images/train/265_png_jpg.rf.d34cabd8f12c552be97d7f89741ac009.jpg: ignoring corrupt image/label: Label class 18 exceeds dataset class count 18. Possible class labels are 0-17\n",
      "\u001b[34m\u001b[1mtrain: \u001b[0mWARNING ⚠️ /sfs/ceph/standard/sds_managed_sadewole/DS6050_SP25/group6/kaggle/kaggle_flowchart_yolo/images/train/265_png_jpg.rf.f43d34fea9651ff32079859cfbda7b57.jpg: ignoring corrupt image/label: Label class 18 exceeds dataset class count 18. Possible class labels are 0-17\n",
      "\u001b[34m\u001b[1mtrain: \u001b[0mWARNING ⚠️ /sfs/ceph/standard/sds_managed_sadewole/DS6050_SP25/group6/kaggle/kaggle_flowchart_yolo/images/train/268_png_jpg.rf.251601d8b7f601ad3ad7319721dcb967.jpg: ignoring corrupt image/label: Label class 18 exceeds dataset class count 18. Possible class labels are 0-17\n",
      "\u001b[34m\u001b[1mtrain: \u001b[0mWARNING ⚠️ /sfs/ceph/standard/sds_managed_sadewole/DS6050_SP25/group6/kaggle/kaggle_flowchart_yolo/images/train/268_png_jpg.rf.3d49aeed8538fbaf783fda3092491c5c.jpg: ignoring corrupt image/label: Label class 18 exceeds dataset class count 18. Possible class labels are 0-17\n",
      "\u001b[34m\u001b[1mtrain: \u001b[0mWARNING ⚠️ /sfs/ceph/standard/sds_managed_sadewole/DS6050_SP25/group6/kaggle/kaggle_flowchart_yolo/images/train/268_png_jpg.rf.4145f3e022fb9a420eca061c3440e797.jpg: ignoring corrupt image/label: Label class 18 exceeds dataset class count 18. Possible class labels are 0-17\n",
      "\u001b[34m\u001b[1mtrain: \u001b[0mWARNING ⚠️ /sfs/ceph/standard/sds_managed_sadewole/DS6050_SP25/group6/kaggle/kaggle_flowchart_yolo/images/train/268_png_jpg.rf.5c21f80651037b3435a775a1dbb5225a.jpg: ignoring corrupt image/label: Label class 18 exceeds dataset class count 18. Possible class labels are 0-17\n",
      "\u001b[34m\u001b[1mtrain: \u001b[0mWARNING ⚠️ /sfs/ceph/standard/sds_managed_sadewole/DS6050_SP25/group6/kaggle/kaggle_flowchart_yolo/images/train/268_png_jpg.rf.b6f0731a106a93243fcdaf4cd48a38ee.jpg: ignoring corrupt image/label: Label class 18 exceeds dataset class count 18. Possible class labels are 0-17\n",
      "\u001b[34m\u001b[1mtrain: \u001b[0mWARNING ⚠️ /sfs/ceph/standard/sds_managed_sadewole/DS6050_SP25/group6/kaggle/kaggle_flowchart_yolo/images/train/268_png_jpg.rf.ec8422a4f1cfbdfe53f6b4e21db2ece7.jpg: ignoring corrupt image/label: Label class 18 exceeds dataset class count 18. Possible class labels are 0-17\n",
      "\u001b[34m\u001b[1mtrain: \u001b[0mWARNING ⚠️ /sfs/ceph/standard/sds_managed_sadewole/DS6050_SP25/group6/kaggle/kaggle_flowchart_yolo/images/train/269_png_jpg.rf.080e6c320f2ea1eb1a9405f7f1994ad0.jpg: ignoring corrupt image/label: Label class 18 exceeds dataset class count 18. Possible class labels are 0-17\n",
      "\u001b[34m\u001b[1mtrain: \u001b[0mWARNING ⚠️ /sfs/ceph/standard/sds_managed_sadewole/DS6050_SP25/group6/kaggle/kaggle_flowchart_yolo/images/train/269_png_jpg.rf.29b3edc0894132eb3bcd5b58e872c7cc.jpg: ignoring corrupt image/label: Label class 18 exceeds dataset class count 18. Possible class labels are 0-17\n",
      "\u001b[34m\u001b[1mtrain: \u001b[0mWARNING ⚠️ /sfs/ceph/standard/sds_managed_sadewole/DS6050_SP25/group6/kaggle/kaggle_flowchart_yolo/images/train/269_png_jpg.rf.872f266195c09d8df1b17b9fc2d3a0d7.jpg: ignoring corrupt image/label: Label class 18 exceeds dataset class count 18. Possible class labels are 0-17\n",
      "\u001b[34m\u001b[1mtrain: \u001b[0mWARNING ⚠️ /sfs/ceph/standard/sds_managed_sadewole/DS6050_SP25/group6/kaggle/kaggle_flowchart_yolo/images/train/26_png_jpg.rf.1fdf102913a912d40d923ae98a3ef04e.jpg: ignoring corrupt image/label: Label class 18 exceeds dataset class count 18. Possible class labels are 0-17\n",
      "\u001b[34m\u001b[1mtrain: \u001b[0mWARNING ⚠️ /sfs/ceph/standard/sds_managed_sadewole/DS6050_SP25/group6/kaggle/kaggle_flowchart_yolo/images/train/26_png_jpg.rf.c63e8e6474d1e36c9c63342f92f996d7.jpg: ignoring corrupt image/label: Label class 18 exceeds dataset class count 18. Possible class labels are 0-17\n",
      "\u001b[34m\u001b[1mtrain: \u001b[0mWARNING ⚠️ /sfs/ceph/standard/sds_managed_sadewole/DS6050_SP25/group6/kaggle/kaggle_flowchart_yolo/images/train/26_png_jpg.rf.f9d19e9c4e41391cab96bfb229459369.jpg: ignoring corrupt image/label: Label class 18 exceeds dataset class count 18. Possible class labels are 0-17\n",
      "\u001b[34m\u001b[1mtrain: \u001b[0mWARNING ⚠️ /sfs/ceph/standard/sds_managed_sadewole/DS6050_SP25/group6/kaggle/kaggle_flowchart_yolo/images/train/271_png_jpg.rf.1d184b9373e842e8b8d0c49c29066243.jpg: ignoring corrupt image/label: Label class 18 exceeds dataset class count 18. Possible class labels are 0-17\n",
      "\u001b[34m\u001b[1mtrain: \u001b[0mWARNING ⚠️ /sfs/ceph/standard/sds_managed_sadewole/DS6050_SP25/group6/kaggle/kaggle_flowchart_yolo/images/train/271_png_jpg.rf.7d007e1ae9ff0aba9c8f4fb66bd400a3.jpg: ignoring corrupt image/label: Label class 18 exceeds dataset class count 18. Possible class labels are 0-17\n",
      "\u001b[34m\u001b[1mtrain: \u001b[0mWARNING ⚠️ /sfs/ceph/standard/sds_managed_sadewole/DS6050_SP25/group6/kaggle/kaggle_flowchart_yolo/images/train/271_png_jpg.rf.aad7b0490b4bd2b2ae5acab7f297af8b.jpg: ignoring corrupt image/label: Label class 18 exceeds dataset class count 18. Possible class labels are 0-17\n",
      "\u001b[34m\u001b[1mtrain: \u001b[0mWARNING ⚠️ /sfs/ceph/standard/sds_managed_sadewole/DS6050_SP25/group6/kaggle/kaggle_flowchart_yolo/images/train/274_png_jpg.rf.42b1524ec32dda4d77aae5df98565916.jpg: ignoring corrupt image/label: Label class 18 exceeds dataset class count 18. Possible class labels are 0-17\n",
      "\u001b[34m\u001b[1mtrain: \u001b[0mWARNING ⚠️ /sfs/ceph/standard/sds_managed_sadewole/DS6050_SP25/group6/kaggle/kaggle_flowchart_yolo/images/train/274_png_jpg.rf.544f5e0ae6e687a9ad4778583e020a3d.jpg: ignoring corrupt image/label: Label class 18 exceeds dataset class count 18. Possible class labels are 0-17\n",
      "\u001b[34m\u001b[1mtrain: \u001b[0mWARNING ⚠️ /sfs/ceph/standard/sds_managed_sadewole/DS6050_SP25/group6/kaggle/kaggle_flowchart_yolo/images/train/274_png_jpg.rf.961f4545513fd8f8703073d4009dcf0e.jpg: ignoring corrupt image/label: Label class 18 exceeds dataset class count 18. Possible class labels are 0-17\n",
      "\u001b[34m\u001b[1mtrain: \u001b[0mWARNING ⚠️ /sfs/ceph/standard/sds_managed_sadewole/DS6050_SP25/group6/kaggle/kaggle_flowchart_yolo/images/train/274_png_jpg.rf.b87eb5257e882b5e723a0e78fc657a16.jpg: ignoring corrupt image/label: Label class 18 exceeds dataset class count 18. Possible class labels are 0-17\n",
      "\u001b[34m\u001b[1mtrain: \u001b[0mWARNING ⚠️ /sfs/ceph/standard/sds_managed_sadewole/DS6050_SP25/group6/kaggle/kaggle_flowchart_yolo/images/train/274_png_jpg.rf.c3966f82962d87244673ec3b80a6ef87.jpg: ignoring corrupt image/label: Label class 18 exceeds dataset class count 18. Possible class labels are 0-17\n",
      "\u001b[34m\u001b[1mtrain: \u001b[0mWARNING ⚠️ /sfs/ceph/standard/sds_managed_sadewole/DS6050_SP25/group6/kaggle/kaggle_flowchart_yolo/images/train/274_png_jpg.rf.f6198b9bcfaa2fba5cfe51a6582dc535.jpg: ignoring corrupt image/label: Label class 18 exceeds dataset class count 18. Possible class labels are 0-17\n",
      "\u001b[34m\u001b[1mtrain: \u001b[0mWARNING ⚠️ /sfs/ceph/standard/sds_managed_sadewole/DS6050_SP25/group6/kaggle/kaggle_flowchart_yolo/images/train/276_png_jpg.rf.488c3b396587073edd2da3ef2da6d08d.jpg: ignoring corrupt image/label: Label class 18 exceeds dataset class count 18. Possible class labels are 0-17\n",
      "\u001b[34m\u001b[1mtrain: \u001b[0mWARNING ⚠️ /sfs/ceph/standard/sds_managed_sadewole/DS6050_SP25/group6/kaggle/kaggle_flowchart_yolo/images/train/276_png_jpg.rf.4c48fad85c2df2fc6a61e97f13a3b330.jpg: ignoring corrupt image/label: Label class 18 exceeds dataset class count 18. Possible class labels are 0-17\n",
      "\u001b[34m\u001b[1mtrain: \u001b[0mWARNING ⚠️ /sfs/ceph/standard/sds_managed_sadewole/DS6050_SP25/group6/kaggle/kaggle_flowchart_yolo/images/train/276_png_jpg.rf.8dbf655bbfb17087b0684bfef766d847.jpg: ignoring corrupt image/label: Label class 18 exceeds dataset class count 18. Possible class labels are 0-17\n",
      "\u001b[34m\u001b[1mtrain: \u001b[0mWARNING ⚠️ /sfs/ceph/standard/sds_managed_sadewole/DS6050_SP25/group6/kaggle/kaggle_flowchart_yolo/images/train/276_png_jpg.rf.a94b150cfd540fcd07c17838dc6d0154.jpg: ignoring corrupt image/label: Label class 18 exceeds dataset class count 18. Possible class labels are 0-17\n",
      "\u001b[34m\u001b[1mtrain: \u001b[0mWARNING ⚠️ /sfs/ceph/standard/sds_managed_sadewole/DS6050_SP25/group6/kaggle/kaggle_flowchart_yolo/images/train/276_png_jpg.rf.b188f7f925b7efa220ee64c0a73d12cf.jpg: ignoring corrupt image/label: Label class 18 exceeds dataset class count 18. Possible class labels are 0-17\n",
      "\u001b[34m\u001b[1mtrain: \u001b[0mWARNING ⚠️ /sfs/ceph/standard/sds_managed_sadewole/DS6050_SP25/group6/kaggle/kaggle_flowchart_yolo/images/train/276_png_jpg.rf.f39a80ad4ac0de7436adcdfbffb59878.jpg: ignoring corrupt image/label: Label class 18 exceeds dataset class count 18. Possible class labels are 0-17\n",
      "\u001b[34m\u001b[1mtrain: \u001b[0mWARNING ⚠️ /sfs/ceph/standard/sds_managed_sadewole/DS6050_SP25/group6/kaggle/kaggle_flowchart_yolo/images/train/279_png_jpg.rf.00e43f5265c64f4e8b60d7a29813b3a6.jpg: ignoring corrupt image/label: Label class 18 exceeds dataset class count 18. Possible class labels are 0-17\n",
      "\u001b[34m\u001b[1mtrain: \u001b[0mWARNING ⚠️ /sfs/ceph/standard/sds_managed_sadewole/DS6050_SP25/group6/kaggle/kaggle_flowchart_yolo/images/train/279_png_jpg.rf.3aa6a91a66f6044f2f980c93812a8dbe.jpg: ignoring corrupt image/label: Label class 18 exceeds dataset class count 18. Possible class labels are 0-17\n",
      "\u001b[34m\u001b[1mtrain: \u001b[0mWARNING ⚠️ /sfs/ceph/standard/sds_managed_sadewole/DS6050_SP25/group6/kaggle/kaggle_flowchart_yolo/images/train/279_png_jpg.rf.558eccf578b1bbb1840a44468c6da350.jpg: ignoring corrupt image/label: Label class 18 exceeds dataset class count 18. Possible class labels are 0-17\n",
      "\u001b[34m\u001b[1mtrain: \u001b[0mWARNING ⚠️ /sfs/ceph/standard/sds_managed_sadewole/DS6050_SP25/group6/kaggle/kaggle_flowchart_yolo/images/train/279_png_jpg.rf.bffd93575cae7e245194da81d16c112d.jpg: ignoring corrupt image/label: Label class 18 exceeds dataset class count 18. Possible class labels are 0-17\n",
      "\u001b[34m\u001b[1mtrain: \u001b[0mWARNING ⚠️ /sfs/ceph/standard/sds_managed_sadewole/DS6050_SP25/group6/kaggle/kaggle_flowchart_yolo/images/train/279_png_jpg.rf.d2545ec34e694f25eb0c189951964bbc.jpg: ignoring corrupt image/label: Label class 18 exceeds dataset class count 18. Possible class labels are 0-17\n",
      "\u001b[34m\u001b[1mtrain: \u001b[0mWARNING ⚠️ /sfs/ceph/standard/sds_managed_sadewole/DS6050_SP25/group6/kaggle/kaggle_flowchart_yolo/images/train/279_png_jpg.rf.e93a6c2ce6022ee0d4343f28be061a72.jpg: ignoring corrupt image/label: Label class 18 exceeds dataset class count 18. Possible class labels are 0-17\n",
      "\u001b[34m\u001b[1mtrain: \u001b[0mWARNING ⚠️ /sfs/ceph/standard/sds_managed_sadewole/DS6050_SP25/group6/kaggle/kaggle_flowchart_yolo/images/train/27_png_jpg.rf.63bfbf4fc129234a1b4c11c904e19eb3.jpg: ignoring corrupt image/label: Label class 18 exceeds dataset class count 18. Possible class labels are 0-17\n",
      "\u001b[34m\u001b[1mtrain: \u001b[0mWARNING ⚠️ /sfs/ceph/standard/sds_managed_sadewole/DS6050_SP25/group6/kaggle/kaggle_flowchart_yolo/images/train/27_png_jpg.rf.99659b2c68061f5aad25e8646918838e.jpg: ignoring corrupt image/label: Label class 18 exceeds dataset class count 18. Possible class labels are 0-17\n",
      "\u001b[34m\u001b[1mtrain: \u001b[0mWARNING ⚠️ /sfs/ceph/standard/sds_managed_sadewole/DS6050_SP25/group6/kaggle/kaggle_flowchart_yolo/images/train/27_png_jpg.rf.a405ca2830871aced949e30f5ac9514d.jpg: ignoring corrupt image/label: Label class 18 exceeds dataset class count 18. Possible class labels are 0-17\n",
      "\u001b[34m\u001b[1mtrain: \u001b[0mWARNING ⚠️ /sfs/ceph/standard/sds_managed_sadewole/DS6050_SP25/group6/kaggle/kaggle_flowchart_yolo/images/train/27_png_jpg.rf.d4a487fb062a1b5fe229338328142812.jpg: ignoring corrupt image/label: Label class 18 exceeds dataset class count 18. Possible class labels are 0-17\n",
      "\u001b[34m\u001b[1mtrain: \u001b[0mWARNING ⚠️ /sfs/ceph/standard/sds_managed_sadewole/DS6050_SP25/group6/kaggle/kaggle_flowchart_yolo/images/train/27_png_jpg.rf.de10ac517f34d86d7fe708aa28c3852b.jpg: ignoring corrupt image/label: Label class 18 exceeds dataset class count 18. Possible class labels are 0-17\n",
      "\u001b[34m\u001b[1mtrain: \u001b[0mWARNING ⚠️ /sfs/ceph/standard/sds_managed_sadewole/DS6050_SP25/group6/kaggle/kaggle_flowchart_yolo/images/train/27_png_jpg.rf.f3966bea8dac36f39c9cc7b2cff7dc91.jpg: ignoring corrupt image/label: Label class 18 exceeds dataset class count 18. Possible class labels are 0-17\n",
      "\u001b[34m\u001b[1mtrain: \u001b[0mWARNING ⚠️ /sfs/ceph/standard/sds_managed_sadewole/DS6050_SP25/group6/kaggle/kaggle_flowchart_yolo/images/train/281_png_jpg.rf.4871a938df86393a644fe59414ac9b8c.jpg: ignoring corrupt image/label: Label class 18 exceeds dataset class count 18. Possible class labels are 0-17\n",
      "\u001b[34m\u001b[1mtrain: \u001b[0mWARNING ⚠️ /sfs/ceph/standard/sds_managed_sadewole/DS6050_SP25/group6/kaggle/kaggle_flowchart_yolo/images/train/281_png_jpg.rf.6f2eaadcc9446cfeeed11697f90705d4.jpg: ignoring corrupt image/label: Label class 18 exceeds dataset class count 18. Possible class labels are 0-17\n",
      "\u001b[34m\u001b[1mtrain: \u001b[0mWARNING ⚠️ /sfs/ceph/standard/sds_managed_sadewole/DS6050_SP25/group6/kaggle/kaggle_flowchart_yolo/images/train/281_png_jpg.rf.a4b78386c7110bbd4f82b31a22853fec.jpg: ignoring corrupt image/label: Label class 18 exceeds dataset class count 18. Possible class labels are 0-17\n",
      "\u001b[34m\u001b[1mtrain: \u001b[0mWARNING ⚠️ /sfs/ceph/standard/sds_managed_sadewole/DS6050_SP25/group6/kaggle/kaggle_flowchart_yolo/images/train/282_png_jpg.rf.5bfd2c04b660497a569db067a73217f1.jpg: ignoring corrupt image/label: Label class 18 exceeds dataset class count 18. Possible class labels are 0-17\n",
      "\u001b[34m\u001b[1mtrain: \u001b[0mWARNING ⚠️ /sfs/ceph/standard/sds_managed_sadewole/DS6050_SP25/group6/kaggle/kaggle_flowchart_yolo/images/train/282_png_jpg.rf.62cb61a6a554a2d1cfd8a481fabd7dbb.jpg: ignoring corrupt image/label: Label class 18 exceeds dataset class count 18. Possible class labels are 0-17\n",
      "\u001b[34m\u001b[1mtrain: \u001b[0mWARNING ⚠️ /sfs/ceph/standard/sds_managed_sadewole/DS6050_SP25/group6/kaggle/kaggle_flowchart_yolo/images/train/282_png_jpg.rf.874d0d0302c5d311cc195a9d9759783a.jpg: ignoring corrupt image/label: Label class 18 exceeds dataset class count 18. Possible class labels are 0-17\n",
      "\u001b[34m\u001b[1mtrain: \u001b[0mWARNING ⚠️ /sfs/ceph/standard/sds_managed_sadewole/DS6050_SP25/group6/kaggle/kaggle_flowchart_yolo/images/train/282_png_jpg.rf.bec70fc1b13d10641fc77da196a2df64.jpg: ignoring corrupt image/label: Label class 18 exceeds dataset class count 18. Possible class labels are 0-17\n",
      "\u001b[34m\u001b[1mtrain: \u001b[0mWARNING ⚠️ /sfs/ceph/standard/sds_managed_sadewole/DS6050_SP25/group6/kaggle/kaggle_flowchart_yolo/images/train/282_png_jpg.rf.c325d73bc77b0dbcbd9f5d935a48391e.jpg: ignoring corrupt image/label: Label class 18 exceeds dataset class count 18. Possible class labels are 0-17\n",
      "\u001b[34m\u001b[1mtrain: \u001b[0mWARNING ⚠️ /sfs/ceph/standard/sds_managed_sadewole/DS6050_SP25/group6/kaggle/kaggle_flowchart_yolo/images/train/282_png_jpg.rf.e2215f678f798e818273536b674ab69b.jpg: ignoring corrupt image/label: Label class 18 exceeds dataset class count 18. Possible class labels are 0-17\n",
      "\u001b[34m\u001b[1mtrain: \u001b[0mWARNING ⚠️ /sfs/ceph/standard/sds_managed_sadewole/DS6050_SP25/group6/kaggle/kaggle_flowchart_yolo/images/train/287_png_jpg.rf.31c25fe51bcd4ee4f0c7d2d11854f5d8.jpg: ignoring corrupt image/label: Label class 18 exceeds dataset class count 18. Possible class labels are 0-17\n",
      "\u001b[34m\u001b[1mtrain: \u001b[0mWARNING ⚠️ /sfs/ceph/standard/sds_managed_sadewole/DS6050_SP25/group6/kaggle/kaggle_flowchart_yolo/images/train/287_png_jpg.rf.4b5acfb40becba0ca2e17591d1eb2d85.jpg: ignoring corrupt image/label: Label class 18 exceeds dataset class count 18. Possible class labels are 0-17\n",
      "\u001b[34m\u001b[1mtrain: \u001b[0mWARNING ⚠️ /sfs/ceph/standard/sds_managed_sadewole/DS6050_SP25/group6/kaggle/kaggle_flowchart_yolo/images/train/287_png_jpg.rf.654eee0c5967447e5e45483158955a42.jpg: ignoring corrupt image/label: Label class 18 exceeds dataset class count 18. Possible class labels are 0-17\n",
      "\u001b[34m\u001b[1mtrain: \u001b[0mWARNING ⚠️ /sfs/ceph/standard/sds_managed_sadewole/DS6050_SP25/group6/kaggle/kaggle_flowchart_yolo/images/train/289_png_jpg.rf.58f95b2c78e9f65e0eb724f5ea062382.jpg: ignoring corrupt image/label: Label class 18 exceeds dataset class count 18. Possible class labels are 0-17\n",
      "\u001b[34m\u001b[1mtrain: \u001b[0mWARNING ⚠️ /sfs/ceph/standard/sds_managed_sadewole/DS6050_SP25/group6/kaggle/kaggle_flowchart_yolo/images/train/289_png_jpg.rf.b8e1c18f6865da276163527ea638e6a4.jpg: ignoring corrupt image/label: Label class 18 exceeds dataset class count 18. Possible class labels are 0-17\n",
      "\u001b[34m\u001b[1mtrain: \u001b[0mWARNING ⚠️ /sfs/ceph/standard/sds_managed_sadewole/DS6050_SP25/group6/kaggle/kaggle_flowchart_yolo/images/train/289_png_jpg.rf.c1530c9b7516859830899aa2ccf9f423.jpg: ignoring corrupt image/label: Label class 18 exceeds dataset class count 18. Possible class labels are 0-17\n",
      "\u001b[34m\u001b[1mtrain: \u001b[0mWARNING ⚠️ /sfs/ceph/standard/sds_managed_sadewole/DS6050_SP25/group6/kaggle/kaggle_flowchart_yolo/images/train/28_png_jpg.rf.27fa15380188bafa5f9bea4241b36931.jpg: ignoring corrupt image/label: Label class 18 exceeds dataset class count 18. Possible class labels are 0-17\n",
      "\u001b[34m\u001b[1mtrain: \u001b[0mWARNING ⚠️ /sfs/ceph/standard/sds_managed_sadewole/DS6050_SP25/group6/kaggle/kaggle_flowchart_yolo/images/train/28_png_jpg.rf.4067d5d6f2dabe652b9c0324b1a8b29e.jpg: ignoring corrupt image/label: Label class 18 exceeds dataset class count 18. Possible class labels are 0-17\n",
      "\u001b[34m\u001b[1mtrain: \u001b[0mWARNING ⚠️ /sfs/ceph/standard/sds_managed_sadewole/DS6050_SP25/group6/kaggle/kaggle_flowchart_yolo/images/train/28_png_jpg.rf.8e3ab459ab61b504ed3900f29566d7e7.jpg: ignoring corrupt image/label: Label class 18 exceeds dataset class count 18. Possible class labels are 0-17\n",
      "\u001b[34m\u001b[1mtrain: \u001b[0mWARNING ⚠️ /sfs/ceph/standard/sds_managed_sadewole/DS6050_SP25/group6/kaggle/kaggle_flowchart_yolo/images/train/291_png_jpg.rf.0573a1a3e78da5fb8f3267a0a0bdf4c6.jpg: ignoring corrupt image/label: Label class 18 exceeds dataset class count 18. Possible class labels are 0-17\n",
      "\u001b[34m\u001b[1mtrain: \u001b[0mWARNING ⚠️ /sfs/ceph/standard/sds_managed_sadewole/DS6050_SP25/group6/kaggle/kaggle_flowchart_yolo/images/train/291_png_jpg.rf.5c5a84ccd9f99436e01b543912eb5c41.jpg: ignoring corrupt image/label: Label class 18 exceeds dataset class count 18. Possible class labels are 0-17\n",
      "\u001b[34m\u001b[1mtrain: \u001b[0mWARNING ⚠️ /sfs/ceph/standard/sds_managed_sadewole/DS6050_SP25/group6/kaggle/kaggle_flowchart_yolo/images/train/291_png_jpg.rf.82619c9080704f3f75feded5638aa4fb.jpg: ignoring corrupt image/label: Label class 18 exceeds dataset class count 18. Possible class labels are 0-17\n",
      "\u001b[34m\u001b[1mtrain: \u001b[0mWARNING ⚠️ /sfs/ceph/standard/sds_managed_sadewole/DS6050_SP25/group6/kaggle/kaggle_flowchart_yolo/images/train/291_png_jpg.rf.ac7132da39211e7fc6bb9178f39af80a.jpg: ignoring corrupt image/label: Label class 18 exceeds dataset class count 18. Possible class labels are 0-17\n",
      "\u001b[34m\u001b[1mtrain: \u001b[0mWARNING ⚠️ /sfs/ceph/standard/sds_managed_sadewole/DS6050_SP25/group6/kaggle/kaggle_flowchart_yolo/images/train/291_png_jpg.rf.b3aff1979901f689ff59eab62aa064a8.jpg: ignoring corrupt image/label: Label class 18 exceeds dataset class count 18. Possible class labels are 0-17\n",
      "\u001b[34m\u001b[1mtrain: \u001b[0mWARNING ⚠️ /sfs/ceph/standard/sds_managed_sadewole/DS6050_SP25/group6/kaggle/kaggle_flowchart_yolo/images/train/291_png_jpg.rf.dc44f08e0403a663cbab11b47dde5d0f.jpg: ignoring corrupt image/label: Label class 18 exceeds dataset class count 18. Possible class labels are 0-17\n",
      "\u001b[34m\u001b[1mtrain: \u001b[0mWARNING ⚠️ /sfs/ceph/standard/sds_managed_sadewole/DS6050_SP25/group6/kaggle/kaggle_flowchart_yolo/images/train/292_jpeg_jpg.rf.0e858de0e282ac781275fab0d58e73c8.jpg: ignoring corrupt image/label: Label class 18 exceeds dataset class count 18. Possible class labels are 0-17\n",
      "\u001b[34m\u001b[1mtrain: \u001b[0mWARNING ⚠️ /sfs/ceph/standard/sds_managed_sadewole/DS6050_SP25/group6/kaggle/kaggle_flowchart_yolo/images/train/292_jpeg_jpg.rf.1e4659edf1feae9cbdab222cf0d4efff.jpg: ignoring corrupt image/label: Label class 18 exceeds dataset class count 18. Possible class labels are 0-17\n",
      "\u001b[34m\u001b[1mtrain: \u001b[0mWARNING ⚠️ /sfs/ceph/standard/sds_managed_sadewole/DS6050_SP25/group6/kaggle/kaggle_flowchart_yolo/images/train/292_jpeg_jpg.rf.a1879f6a74d5808a1dd6e741f2776780.jpg: ignoring corrupt image/label: Label class 18 exceeds dataset class count 18. Possible class labels are 0-17\n",
      "\u001b[34m\u001b[1mtrain: \u001b[0mWARNING ⚠️ /sfs/ceph/standard/sds_managed_sadewole/DS6050_SP25/group6/kaggle/kaggle_flowchart_yolo/images/train/292_jpeg_jpg.rf.b431c2985dbcca3fb525769c2d8b963f.jpg: ignoring corrupt image/label: Label class 18 exceeds dataset class count 18. Possible class labels are 0-17\n",
      "\u001b[34m\u001b[1mtrain: \u001b[0mWARNING ⚠️ /sfs/ceph/standard/sds_managed_sadewole/DS6050_SP25/group6/kaggle/kaggle_flowchart_yolo/images/train/292_jpeg_jpg.rf.c7ed167be4adaa7550bf440e889a1bc3.jpg: ignoring corrupt image/label: Label class 18 exceeds dataset class count 18. Possible class labels are 0-17\n",
      "\u001b[34m\u001b[1mtrain: \u001b[0mWARNING ⚠️ /sfs/ceph/standard/sds_managed_sadewole/DS6050_SP25/group6/kaggle/kaggle_flowchart_yolo/images/train/292_jpeg_jpg.rf.f780b2923d465132a66b3412945a8ed8.jpg: ignoring corrupt image/label: Label class 18 exceeds dataset class count 18. Possible class labels are 0-17\n",
      "\u001b[34m\u001b[1mtrain: \u001b[0mWARNING ⚠️ /sfs/ceph/standard/sds_managed_sadewole/DS6050_SP25/group6/kaggle/kaggle_flowchart_yolo/images/train/295_jpeg_jpg.rf.10e811dcfc6b40e3da4796c215339b41.jpg: ignoring corrupt image/label: Label class 18 exceeds dataset class count 18. Possible class labels are 0-17\n",
      "\u001b[34m\u001b[1mtrain: \u001b[0mWARNING ⚠️ /sfs/ceph/standard/sds_managed_sadewole/DS6050_SP25/group6/kaggle/kaggle_flowchart_yolo/images/train/295_jpeg_jpg.rf.2fb7aef6d7d69cf26815b701e2010fcb.jpg: ignoring corrupt image/label: Label class 18 exceeds dataset class count 18. Possible class labels are 0-17\n",
      "\u001b[34m\u001b[1mtrain: \u001b[0mWARNING ⚠️ /sfs/ceph/standard/sds_managed_sadewole/DS6050_SP25/group6/kaggle/kaggle_flowchart_yolo/images/train/295_jpeg_jpg.rf.304e1d0725ada5fb5a0ad35b0d337e60.jpg: ignoring corrupt image/label: Label class 18 exceeds dataset class count 18. Possible class labels are 0-17\n",
      "\u001b[34m\u001b[1mtrain: \u001b[0mWARNING ⚠️ /sfs/ceph/standard/sds_managed_sadewole/DS6050_SP25/group6/kaggle/kaggle_flowchart_yolo/images/train/295_jpeg_jpg.rf.ced72bd2f1e65788ecfc4dc00861d3cf.jpg: ignoring corrupt image/label: Label class 18 exceeds dataset class count 18. Possible class labels are 0-17\n",
      "\u001b[34m\u001b[1mtrain: \u001b[0mWARNING ⚠️ /sfs/ceph/standard/sds_managed_sadewole/DS6050_SP25/group6/kaggle/kaggle_flowchart_yolo/images/train/295_jpeg_jpg.rf.d363857c5ab69f33b787ef00da503345.jpg: ignoring corrupt image/label: Label class 18 exceeds dataset class count 18. Possible class labels are 0-17\n",
      "\u001b[34m\u001b[1mtrain: \u001b[0mWARNING ⚠️ /sfs/ceph/standard/sds_managed_sadewole/DS6050_SP25/group6/kaggle/kaggle_flowchart_yolo/images/train/295_jpeg_jpg.rf.e7f10de1a01801d8dc9ad69375503eba.jpg: ignoring corrupt image/label: Label class 18 exceeds dataset class count 18. Possible class labels are 0-17\n",
      "\u001b[34m\u001b[1mtrain: \u001b[0mWARNING ⚠️ /sfs/ceph/standard/sds_managed_sadewole/DS6050_SP25/group6/kaggle/kaggle_flowchart_yolo/images/train/297_png_jpg.rf.098a291441c84835ac6e8e95f923ca32.jpg: ignoring corrupt image/label: Label class 18 exceeds dataset class count 18. Possible class labels are 0-17\n",
      "\u001b[34m\u001b[1mtrain: \u001b[0mWARNING ⚠️ /sfs/ceph/standard/sds_managed_sadewole/DS6050_SP25/group6/kaggle/kaggle_flowchart_yolo/images/train/297_png_jpg.rf.229b3e08cb704740c8470983d621e28a.jpg: ignoring corrupt image/label: Label class 18 exceeds dataset class count 18. Possible class labels are 0-17\n",
      "\u001b[34m\u001b[1mtrain: \u001b[0mWARNING ⚠️ /sfs/ceph/standard/sds_managed_sadewole/DS6050_SP25/group6/kaggle/kaggle_flowchart_yolo/images/train/297_png_jpg.rf.6680e7097fb5b3d05682ce4277103d4c.jpg: ignoring corrupt image/label: Label class 18 exceeds dataset class count 18. Possible class labels are 0-17\n",
      "\u001b[34m\u001b[1mtrain: \u001b[0mWARNING ⚠️ /sfs/ceph/standard/sds_managed_sadewole/DS6050_SP25/group6/kaggle/kaggle_flowchart_yolo/images/train/297_png_jpg.rf.83aa80d292989e698e961f14570a4cce.jpg: ignoring corrupt image/label: Label class 18 exceeds dataset class count 18. Possible class labels are 0-17\n",
      "\u001b[34m\u001b[1mtrain: \u001b[0mWARNING ⚠️ /sfs/ceph/standard/sds_managed_sadewole/DS6050_SP25/group6/kaggle/kaggle_flowchart_yolo/images/train/297_png_jpg.rf.f80ef223282b342aa8d830303ff75888.jpg: ignoring corrupt image/label: Label class 18 exceeds dataset class count 18. Possible class labels are 0-17\n",
      "\u001b[34m\u001b[1mtrain: \u001b[0mWARNING ⚠️ /sfs/ceph/standard/sds_managed_sadewole/DS6050_SP25/group6/kaggle/kaggle_flowchart_yolo/images/train/297_png_jpg.rf.ffd135a333b9284923411029cf4ee084.jpg: ignoring corrupt image/label: Label class 18 exceeds dataset class count 18. Possible class labels are 0-17\n",
      "\u001b[34m\u001b[1mtrain: \u001b[0mWARNING ⚠️ /sfs/ceph/standard/sds_managed_sadewole/DS6050_SP25/group6/kaggle/kaggle_flowchart_yolo/images/train/29_png_jpg.rf.15b4089e636fabbc1acbd593bdbb4d9f.jpg: ignoring corrupt image/label: Label class 18 exceeds dataset class count 18. Possible class labels are 0-17\n",
      "\u001b[34m\u001b[1mtrain: \u001b[0mWARNING ⚠️ /sfs/ceph/standard/sds_managed_sadewole/DS6050_SP25/group6/kaggle/kaggle_flowchart_yolo/images/train/29_png_jpg.rf.360895e06134ecad654395135748b740.jpg: ignoring corrupt image/label: Label class 18 exceeds dataset class count 18. Possible class labels are 0-17\n",
      "\u001b[34m\u001b[1mtrain: \u001b[0mWARNING ⚠️ /sfs/ceph/standard/sds_managed_sadewole/DS6050_SP25/group6/kaggle/kaggle_flowchart_yolo/images/train/29_png_jpg.rf.3b6ebf838a9859191c84d7e41d3fb984.jpg: ignoring corrupt image/label: Label class 18 exceeds dataset class count 18. Possible class labels are 0-17\n",
      "\u001b[34m\u001b[1mtrain: \u001b[0mWARNING ⚠️ /sfs/ceph/standard/sds_managed_sadewole/DS6050_SP25/group6/kaggle/kaggle_flowchart_yolo/images/train/29_png_jpg.rf.977e8309cde6c266f3a874c45f25a87f.jpg: ignoring corrupt image/label: Label class 18 exceeds dataset class count 18. Possible class labels are 0-17\n",
      "\u001b[34m\u001b[1mtrain: \u001b[0mWARNING ⚠️ /sfs/ceph/standard/sds_managed_sadewole/DS6050_SP25/group6/kaggle/kaggle_flowchart_yolo/images/train/29_png_jpg.rf.afe45ac8211d14b212dc91afee2dce55.jpg: ignoring corrupt image/label: Label class 18 exceeds dataset class count 18. Possible class labels are 0-17\n",
      "\u001b[34m\u001b[1mtrain: \u001b[0mWARNING ⚠️ /sfs/ceph/standard/sds_managed_sadewole/DS6050_SP25/group6/kaggle/kaggle_flowchart_yolo/images/train/29_png_jpg.rf.d02ed748a68aee95ece2c233c816e1bd.jpg: ignoring corrupt image/label: Label class 18 exceeds dataset class count 18. Possible class labels are 0-17\n",
      "\u001b[34m\u001b[1mtrain: \u001b[0mWARNING ⚠️ /sfs/ceph/standard/sds_managed_sadewole/DS6050_SP25/group6/kaggle/kaggle_flowchart_yolo/images/train/300_jpeg_jpg.rf.63304fa99045045ea708e0f51109a879.jpg: ignoring corrupt image/label: Label class 18 exceeds dataset class count 18. Possible class labels are 0-17\n",
      "\u001b[34m\u001b[1mtrain: \u001b[0mWARNING ⚠️ /sfs/ceph/standard/sds_managed_sadewole/DS6050_SP25/group6/kaggle/kaggle_flowchart_yolo/images/train/300_jpeg_jpg.rf.81eaf184b10ab0697128b89e26ddbf5f.jpg: ignoring corrupt image/label: Label class 18 exceeds dataset class count 18. Possible class labels are 0-17\n",
      "\u001b[34m\u001b[1mtrain: \u001b[0mWARNING ⚠️ /sfs/ceph/standard/sds_managed_sadewole/DS6050_SP25/group6/kaggle/kaggle_flowchart_yolo/images/train/300_jpeg_jpg.rf.dcc19346848963322b9e8e710f86bf92.jpg: ignoring corrupt image/label: Label class 18 exceeds dataset class count 18. Possible class labels are 0-17\n",
      "\u001b[34m\u001b[1mtrain: \u001b[0mWARNING ⚠️ /sfs/ceph/standard/sds_managed_sadewole/DS6050_SP25/group6/kaggle/kaggle_flowchart_yolo/images/train/317_png_jpg.rf.4ab249e5f4d80cc6fbdd1d0706631535.jpg: ignoring corrupt image/label: Label class 18 exceeds dataset class count 18. Possible class labels are 0-17\n",
      "\u001b[34m\u001b[1mtrain: \u001b[0mWARNING ⚠️ /sfs/ceph/standard/sds_managed_sadewole/DS6050_SP25/group6/kaggle/kaggle_flowchart_yolo/images/train/317_png_jpg.rf.9f7ebcea4bff81e60c3e37bd13587248.jpg: ignoring corrupt image/label: Label class 18 exceeds dataset class count 18. Possible class labels are 0-17\n",
      "\u001b[34m\u001b[1mtrain: \u001b[0mWARNING ⚠️ /sfs/ceph/standard/sds_managed_sadewole/DS6050_SP25/group6/kaggle/kaggle_flowchart_yolo/images/train/317_png_jpg.rf.a6313c559d3f47ddbb6ff510a7c130c8.jpg: ignoring corrupt image/label: Label class 18 exceeds dataset class count 18. Possible class labels are 0-17\n",
      "\u001b[34m\u001b[1mtrain: \u001b[0mWARNING ⚠️ /sfs/ceph/standard/sds_managed_sadewole/DS6050_SP25/group6/kaggle/kaggle_flowchart_yolo/images/train/321_png_jpg.rf.284057b2c85241eb3f2f6911ba2015f9.jpg: ignoring corrupt image/label: Label class 18 exceeds dataset class count 18. Possible class labels are 0-17\n",
      "\u001b[34m\u001b[1mtrain: \u001b[0mWARNING ⚠️ /sfs/ceph/standard/sds_managed_sadewole/DS6050_SP25/group6/kaggle/kaggle_flowchart_yolo/images/train/321_png_jpg.rf.58a2e9c76c261ad728d50c0989a4292b.jpg: ignoring corrupt image/label: Label class 18 exceeds dataset class count 18. Possible class labels are 0-17\n",
      "\u001b[34m\u001b[1mtrain: \u001b[0mWARNING ⚠️ /sfs/ceph/standard/sds_managed_sadewole/DS6050_SP25/group6/kaggle/kaggle_flowchart_yolo/images/train/321_png_jpg.rf.67fe300c5f6eb16483fb8b24b0c97302.jpg: ignoring corrupt image/label: Label class 18 exceeds dataset class count 18. Possible class labels are 0-17\n",
      "\u001b[34m\u001b[1mtrain: \u001b[0mWARNING ⚠️ /sfs/ceph/standard/sds_managed_sadewole/DS6050_SP25/group6/kaggle/kaggle_flowchart_yolo/images/train/322_png_jpg.rf.0483f8599911de1a8e81bba569669b32.jpg: ignoring corrupt image/label: Label class 18 exceeds dataset class count 18. Possible class labels are 0-17\n",
      "\u001b[34m\u001b[1mtrain: \u001b[0mWARNING ⚠️ /sfs/ceph/standard/sds_managed_sadewole/DS6050_SP25/group6/kaggle/kaggle_flowchart_yolo/images/train/322_png_jpg.rf.04f1b94098d0c66e78c60cf2b50ffe2a.jpg: ignoring corrupt image/label: Label class 18 exceeds dataset class count 18. Possible class labels are 0-17\n",
      "\u001b[34m\u001b[1mtrain: \u001b[0mWARNING ⚠️ /sfs/ceph/standard/sds_managed_sadewole/DS6050_SP25/group6/kaggle/kaggle_flowchart_yolo/images/train/322_png_jpg.rf.61ebdfc0f8522a408d6e18283931108f.jpg: ignoring corrupt image/label: Label class 18 exceeds dataset class count 18. Possible class labels are 0-17\n",
      "\u001b[34m\u001b[1mtrain: \u001b[0mWARNING ⚠️ /sfs/ceph/standard/sds_managed_sadewole/DS6050_SP25/group6/kaggle/kaggle_flowchart_yolo/images/train/322_png_jpg.rf.765b9802749e3c0adf53364d78922b7b.jpg: ignoring corrupt image/label: Label class 18 exceeds dataset class count 18. Possible class labels are 0-17\n",
      "\u001b[34m\u001b[1mtrain: \u001b[0mWARNING ⚠️ /sfs/ceph/standard/sds_managed_sadewole/DS6050_SP25/group6/kaggle/kaggle_flowchart_yolo/images/train/322_png_jpg.rf.a71d992ee4060ecfee72492ee026e1f0.jpg: ignoring corrupt image/label: Label class 18 exceeds dataset class count 18. Possible class labels are 0-17\n",
      "\u001b[34m\u001b[1mtrain: \u001b[0mWARNING ⚠️ /sfs/ceph/standard/sds_managed_sadewole/DS6050_SP25/group6/kaggle/kaggle_flowchart_yolo/images/train/322_png_jpg.rf.f67c07c6b693b6b1005ec7fa5e572ea0.jpg: ignoring corrupt image/label: Label class 18 exceeds dataset class count 18. Possible class labels are 0-17\n",
      "\u001b[34m\u001b[1mtrain: \u001b[0mWARNING ⚠️ /sfs/ceph/standard/sds_managed_sadewole/DS6050_SP25/group6/kaggle/kaggle_flowchart_yolo/images/train/328_png_jpg.rf.7132c8c54fe95ef825faef9a5871eb82.jpg: ignoring corrupt image/label: Label class 18 exceeds dataset class count 18. Possible class labels are 0-17\n",
      "\u001b[34m\u001b[1mtrain: \u001b[0mWARNING ⚠️ /sfs/ceph/standard/sds_managed_sadewole/DS6050_SP25/group6/kaggle/kaggle_flowchart_yolo/images/train/328_png_jpg.rf.c21aeefa07f4dee284c33d91c9d833c9.jpg: ignoring corrupt image/label: Label class 18 exceeds dataset class count 18. Possible class labels are 0-17\n",
      "\u001b[34m\u001b[1mtrain: \u001b[0mWARNING ⚠️ /sfs/ceph/standard/sds_managed_sadewole/DS6050_SP25/group6/kaggle/kaggle_flowchart_yolo/images/train/328_png_jpg.rf.e8300673868a139f8bffa774a57f58db.jpg: ignoring corrupt image/label: Label class 18 exceeds dataset class count 18. Possible class labels are 0-17\n",
      "\u001b[34m\u001b[1mtrain: \u001b[0mWARNING ⚠️ /sfs/ceph/standard/sds_managed_sadewole/DS6050_SP25/group6/kaggle/kaggle_flowchart_yolo/images/train/33_png_jpg.rf.5afcbdbd8db185f1302c4ebd8330db97.jpg: ignoring corrupt image/label: Label class 18 exceeds dataset class count 18. Possible class labels are 0-17\n",
      "\u001b[34m\u001b[1mtrain: \u001b[0mWARNING ⚠️ /sfs/ceph/standard/sds_managed_sadewole/DS6050_SP25/group6/kaggle/kaggle_flowchart_yolo/images/train/33_png_jpg.rf.b231121960ddc871b33c275012bd7496.jpg: ignoring corrupt image/label: Label class 18 exceeds dataset class count 18. Possible class labels are 0-17\n",
      "\u001b[34m\u001b[1mtrain: \u001b[0mWARNING ⚠️ /sfs/ceph/standard/sds_managed_sadewole/DS6050_SP25/group6/kaggle/kaggle_flowchart_yolo/images/train/33_png_jpg.rf.ed6bb6338d282957aabe687546f084ad.jpg: ignoring corrupt image/label: Label class 18 exceeds dataset class count 18. Possible class labels are 0-17\n",
      "\u001b[34m\u001b[1mtrain: \u001b[0mWARNING ⚠️ /sfs/ceph/standard/sds_managed_sadewole/DS6050_SP25/group6/kaggle/kaggle_flowchart_yolo/images/train/349_png_jpg.rf.17fff3e80498edadacc9dc9448b28d38.jpg: ignoring corrupt image/label: Label class 18 exceeds dataset class count 18. Possible class labels are 0-17\n",
      "\u001b[34m\u001b[1mtrain: \u001b[0mWARNING ⚠️ /sfs/ceph/standard/sds_managed_sadewole/DS6050_SP25/group6/kaggle/kaggle_flowchart_yolo/images/train/349_png_jpg.rf.1fca5a470cc240d62bb05454fe9f06cc.jpg: ignoring corrupt image/label: Label class 18 exceeds dataset class count 18. Possible class labels are 0-17\n",
      "\u001b[34m\u001b[1mtrain: \u001b[0mWARNING ⚠️ /sfs/ceph/standard/sds_managed_sadewole/DS6050_SP25/group6/kaggle/kaggle_flowchart_yolo/images/train/349_png_jpg.rf.4979355bdf57a8e936fa95031c1f4d5b.jpg: ignoring corrupt image/label: Label class 18 exceeds dataset class count 18. Possible class labels are 0-17\n",
      "\u001b[34m\u001b[1mtrain: \u001b[0mWARNING ⚠️ /sfs/ceph/standard/sds_managed_sadewole/DS6050_SP25/group6/kaggle/kaggle_flowchart_yolo/images/train/349_png_jpg.rf.c3427d489466b52f797dfbda5034ba5b.jpg: ignoring corrupt image/label: Label class 18 exceeds dataset class count 18. Possible class labels are 0-17\n",
      "\u001b[34m\u001b[1mtrain: \u001b[0mWARNING ⚠️ /sfs/ceph/standard/sds_managed_sadewole/DS6050_SP25/group6/kaggle/kaggle_flowchart_yolo/images/train/349_png_jpg.rf.d50e6aae34bf7045d8e2e69112941c82.jpg: ignoring corrupt image/label: Label class 18 exceeds dataset class count 18. Possible class labels are 0-17\n",
      "\u001b[34m\u001b[1mtrain: \u001b[0mWARNING ⚠️ /sfs/ceph/standard/sds_managed_sadewole/DS6050_SP25/group6/kaggle/kaggle_flowchart_yolo/images/train/349_png_jpg.rf.fd3022eadefb90076d453c54bbc33978.jpg: ignoring corrupt image/label: Label class 18 exceeds dataset class count 18. Possible class labels are 0-17\n",
      "\u001b[34m\u001b[1mtrain: \u001b[0mWARNING ⚠️ /sfs/ceph/standard/sds_managed_sadewole/DS6050_SP25/group6/kaggle/kaggle_flowchart_yolo/images/train/34_png_jpg.rf.12d65758f2fd2a48f20425956dba0328.jpg: ignoring corrupt image/label: Label class 18 exceeds dataset class count 18. Possible class labels are 0-17\n",
      "\u001b[34m\u001b[1mtrain: \u001b[0mWARNING ⚠️ /sfs/ceph/standard/sds_managed_sadewole/DS6050_SP25/group6/kaggle/kaggle_flowchart_yolo/images/train/34_png_jpg.rf.18e26727fe0f67497ba93de7aa7933f5.jpg: ignoring corrupt image/label: Label class 18 exceeds dataset class count 18. Possible class labels are 0-17\n",
      "\u001b[34m\u001b[1mtrain: \u001b[0mWARNING ⚠️ /sfs/ceph/standard/sds_managed_sadewole/DS6050_SP25/group6/kaggle/kaggle_flowchart_yolo/images/train/34_png_jpg.rf.7f03b18665fc7c20e91df9614dc13500.jpg: ignoring corrupt image/label: Label class 18 exceeds dataset class count 18. Possible class labels are 0-17\n",
      "\u001b[34m\u001b[1mtrain: \u001b[0mWARNING ⚠️ /sfs/ceph/standard/sds_managed_sadewole/DS6050_SP25/group6/kaggle/kaggle_flowchart_yolo/images/train/34_png_jpg.rf.a4d8c2f29d45e4b07eb529cbd44bc52f.jpg: ignoring corrupt image/label: Label class 18 exceeds dataset class count 18. Possible class labels are 0-17\n",
      "\u001b[34m\u001b[1mtrain: \u001b[0mWARNING ⚠️ /sfs/ceph/standard/sds_managed_sadewole/DS6050_SP25/group6/kaggle/kaggle_flowchart_yolo/images/train/34_png_jpg.rf.c59ad292488283c116be4a3dc303a7e4.jpg: ignoring corrupt image/label: Label class 18 exceeds dataset class count 18. Possible class labels are 0-17\n",
      "\u001b[34m\u001b[1mtrain: \u001b[0mWARNING ⚠️ /sfs/ceph/standard/sds_managed_sadewole/DS6050_SP25/group6/kaggle/kaggle_flowchart_yolo/images/train/34_png_jpg.rf.cc68073497c8f5dcf593aa4440eb6103.jpg: ignoring corrupt image/label: Label class 18 exceeds dataset class count 18. Possible class labels are 0-17\n",
      "\u001b[34m\u001b[1mtrain: \u001b[0mWARNING ⚠️ /sfs/ceph/standard/sds_managed_sadewole/DS6050_SP25/group6/kaggle/kaggle_flowchart_yolo/images/train/366_png_jpg.rf.0b248fb313e9849f740b019d8e8a5b97.jpg: ignoring corrupt image/label: Label class 18 exceeds dataset class count 18. Possible class labels are 0-17\n",
      "\u001b[34m\u001b[1mtrain: \u001b[0mWARNING ⚠️ /sfs/ceph/standard/sds_managed_sadewole/DS6050_SP25/group6/kaggle/kaggle_flowchart_yolo/images/train/366_png_jpg.rf.3f0173676ab840b5e22863130a4729a4.jpg: ignoring corrupt image/label: Label class 18 exceeds dataset class count 18. Possible class labels are 0-17\n",
      "\u001b[34m\u001b[1mtrain: \u001b[0mWARNING ⚠️ /sfs/ceph/standard/sds_managed_sadewole/DS6050_SP25/group6/kaggle/kaggle_flowchart_yolo/images/train/366_png_jpg.rf.4c0718a7fe8dc6a9c9b7b793b9e68dc3.jpg: ignoring corrupt image/label: Label class 18 exceeds dataset class count 18. Possible class labels are 0-17\n",
      "\u001b[34m\u001b[1mtrain: \u001b[0mWARNING ⚠️ /sfs/ceph/standard/sds_managed_sadewole/DS6050_SP25/group6/kaggle/kaggle_flowchart_yolo/images/train/366_png_jpg.rf.572b42be50c1635f1f54e9d21531246b.jpg: ignoring corrupt image/label: Label class 18 exceeds dataset class count 18. Possible class labels are 0-17\n",
      "\u001b[34m\u001b[1mtrain: \u001b[0mWARNING ⚠️ /sfs/ceph/standard/sds_managed_sadewole/DS6050_SP25/group6/kaggle/kaggle_flowchart_yolo/images/train/366_png_jpg.rf.bd25c10c6e1ead4bfca504f040220a15.jpg: ignoring corrupt image/label: Label class 18 exceeds dataset class count 18. Possible class labels are 0-17\n",
      "\u001b[34m\u001b[1mtrain: \u001b[0mWARNING ⚠️ /sfs/ceph/standard/sds_managed_sadewole/DS6050_SP25/group6/kaggle/kaggle_flowchart_yolo/images/train/366_png_jpg.rf.cb9cc45bca3886d23195bb8a5cb9c51e.jpg: ignoring corrupt image/label: Label class 18 exceeds dataset class count 18. Possible class labels are 0-17\n",
      "\u001b[34m\u001b[1mtrain: \u001b[0mWARNING ⚠️ /sfs/ceph/standard/sds_managed_sadewole/DS6050_SP25/group6/kaggle/kaggle_flowchart_yolo/images/train/372_jpeg_jpg.rf.0cb2d408d9365a81a50c53c608bc5450.jpg: ignoring corrupt image/label: Label class 18 exceeds dataset class count 18. Possible class labels are 0-17\n",
      "\u001b[34m\u001b[1mtrain: \u001b[0mWARNING ⚠️ /sfs/ceph/standard/sds_managed_sadewole/DS6050_SP25/group6/kaggle/kaggle_flowchart_yolo/images/train/372_jpeg_jpg.rf.1974238aa4f0750782e0fdc71120fd01.jpg: ignoring corrupt image/label: Label class 18 exceeds dataset class count 18. Possible class labels are 0-17\n",
      "\u001b[34m\u001b[1mtrain: \u001b[0mWARNING ⚠️ /sfs/ceph/standard/sds_managed_sadewole/DS6050_SP25/group6/kaggle/kaggle_flowchart_yolo/images/train/372_jpeg_jpg.rf.cad5b63fbe090137a2a657d2bdd54027.jpg: ignoring corrupt image/label: Label class 18 exceeds dataset class count 18. Possible class labels are 0-17\n",
      "\u001b[34m\u001b[1mtrain: \u001b[0mWARNING ⚠️ /sfs/ceph/standard/sds_managed_sadewole/DS6050_SP25/group6/kaggle/kaggle_flowchart_yolo/images/train/381_png_jpg.rf.26ffb8cb760828a174eeb6bff06258fe.jpg: ignoring corrupt image/label: Label class 18 exceeds dataset class count 18. Possible class labels are 0-17\n",
      "\u001b[34m\u001b[1mtrain: \u001b[0mWARNING ⚠️ /sfs/ceph/standard/sds_managed_sadewole/DS6050_SP25/group6/kaggle/kaggle_flowchart_yolo/images/train/381_png_jpg.rf.59095cba4f554c89c552ba6503b67d06.jpg: ignoring corrupt image/label: Label class 18 exceeds dataset class count 18. Possible class labels are 0-17\n",
      "\u001b[34m\u001b[1mtrain: \u001b[0mWARNING ⚠️ /sfs/ceph/standard/sds_managed_sadewole/DS6050_SP25/group6/kaggle/kaggle_flowchart_yolo/images/train/381_png_jpg.rf.eda98bbb1d2961ddc66480e9e42229cb.jpg: ignoring corrupt image/label: Label class 18 exceeds dataset class count 18. Possible class labels are 0-17\n",
      "\u001b[34m\u001b[1mtrain: \u001b[0mWARNING ⚠️ /sfs/ceph/standard/sds_managed_sadewole/DS6050_SP25/group6/kaggle/kaggle_flowchart_yolo/images/train/382_png_jpg.rf.2c17ec9f72596c35db507411350aa318.jpg: ignoring corrupt image/label: Label class 18 exceeds dataset class count 18. Possible class labels are 0-17\n",
      "\u001b[34m\u001b[1mtrain: \u001b[0mWARNING ⚠️ /sfs/ceph/standard/sds_managed_sadewole/DS6050_SP25/group6/kaggle/kaggle_flowchart_yolo/images/train/382_png_jpg.rf.3f6164c46572ea05c78ccdc3e7db52b2.jpg: ignoring corrupt image/label: Label class 18 exceeds dataset class count 18. Possible class labels are 0-17\n",
      "\u001b[34m\u001b[1mtrain: \u001b[0mWARNING ⚠️ /sfs/ceph/standard/sds_managed_sadewole/DS6050_SP25/group6/kaggle/kaggle_flowchart_yolo/images/train/382_png_jpg.rf.4b04a4a5d97ca1127991a5dfabbb9270.jpg: ignoring corrupt image/label: Label class 18 exceeds dataset class count 18. Possible class labels are 0-17\n",
      "\u001b[34m\u001b[1mtrain: \u001b[0mWARNING ⚠️ /sfs/ceph/standard/sds_managed_sadewole/DS6050_SP25/group6/kaggle/kaggle_flowchart_yolo/images/train/382_png_jpg.rf.60dfc9fcbd060d7ea99deeeb2256a694.jpg: ignoring corrupt image/label: Label class 18 exceeds dataset class count 18. Possible class labels are 0-17\n",
      "\u001b[34m\u001b[1mtrain: \u001b[0mWARNING ⚠️ /sfs/ceph/standard/sds_managed_sadewole/DS6050_SP25/group6/kaggle/kaggle_flowchart_yolo/images/train/382_png_jpg.rf.90499b4a74823e3dc0f741047051f683.jpg: ignoring corrupt image/label: Label class 18 exceeds dataset class count 18. Possible class labels are 0-17\n",
      "\u001b[34m\u001b[1mtrain: \u001b[0mWARNING ⚠️ /sfs/ceph/standard/sds_managed_sadewole/DS6050_SP25/group6/kaggle/kaggle_flowchart_yolo/images/train/382_png_jpg.rf.bc25120a9703ee23c182620c968a2cb6.jpg: ignoring corrupt image/label: Label class 18 exceeds dataset class count 18. Possible class labels are 0-17\n",
      "\u001b[34m\u001b[1mtrain: \u001b[0mWARNING ⚠️ /sfs/ceph/standard/sds_managed_sadewole/DS6050_SP25/group6/kaggle/kaggle_flowchart_yolo/images/train/394_jpeg_jpg.rf.4a484805c7989fba247e5735ab1205ec.jpg: ignoring corrupt image/label: Label class 18 exceeds dataset class count 18. Possible class labels are 0-17\n",
      "\u001b[34m\u001b[1mtrain: \u001b[0mWARNING ⚠️ /sfs/ceph/standard/sds_managed_sadewole/DS6050_SP25/group6/kaggle/kaggle_flowchart_yolo/images/train/394_jpeg_jpg.rf.6bdd933eed5d887cdfdf24ec7c8b5bf1.jpg: ignoring corrupt image/label: Label class 18 exceeds dataset class count 18. Possible class labels are 0-17\n",
      "\u001b[34m\u001b[1mtrain: \u001b[0mWARNING ⚠️ /sfs/ceph/standard/sds_managed_sadewole/DS6050_SP25/group6/kaggle/kaggle_flowchart_yolo/images/train/394_jpeg_jpg.rf.82d5cccf9f936cc0ab781717a83ecc83.jpg: ignoring corrupt image/label: Label class 18 exceeds dataset class count 18. Possible class labels are 0-17\n",
      "\u001b[34m\u001b[1mtrain: \u001b[0mWARNING ⚠️ /sfs/ceph/standard/sds_managed_sadewole/DS6050_SP25/group6/kaggle/kaggle_flowchart_yolo/images/train/413_jpeg_jpg.rf.3243bfc6c7e7756e4697952801963ebe.jpg: ignoring corrupt image/label: Label class 18 exceeds dataset class count 18. Possible class labels are 0-17\n",
      "\u001b[34m\u001b[1mtrain: \u001b[0mWARNING ⚠️ /sfs/ceph/standard/sds_managed_sadewole/DS6050_SP25/group6/kaggle/kaggle_flowchart_yolo/images/train/413_jpeg_jpg.rf.7d290beb2f75e85c61ce5096c5334e50.jpg: ignoring corrupt image/label: Label class 18 exceeds dataset class count 18. Possible class labels are 0-17\n",
      "\u001b[34m\u001b[1mtrain: \u001b[0mWARNING ⚠️ /sfs/ceph/standard/sds_managed_sadewole/DS6050_SP25/group6/kaggle/kaggle_flowchart_yolo/images/train/413_jpeg_jpg.rf.b6cdb29e138f8ab2542db5382f1ced27.jpg: ignoring corrupt image/label: Label class 18 exceeds dataset class count 18. Possible class labels are 0-17\n",
      "\u001b[34m\u001b[1mtrain: \u001b[0mWARNING ⚠️ /sfs/ceph/standard/sds_managed_sadewole/DS6050_SP25/group6/kaggle/kaggle_flowchart_yolo/images/train/416_jpeg_jpg.rf.0538a65279bf9ca569fd13182beb2014.jpg: ignoring corrupt image/label: Label class 18 exceeds dataset class count 18. Possible class labels are 0-17\n",
      "\u001b[34m\u001b[1mtrain: \u001b[0mWARNING ⚠️ /sfs/ceph/standard/sds_managed_sadewole/DS6050_SP25/group6/kaggle/kaggle_flowchart_yolo/images/train/416_jpeg_jpg.rf.16e663d54b286e07efb930fef4ac37be.jpg: ignoring corrupt image/label: Label class 18 exceeds dataset class count 18. Possible class labels are 0-17\n",
      "\u001b[34m\u001b[1mtrain: \u001b[0mWARNING ⚠️ /sfs/ceph/standard/sds_managed_sadewole/DS6050_SP25/group6/kaggle/kaggle_flowchart_yolo/images/train/416_jpeg_jpg.rf.200bd578f6d9d4d1a932a842897b4afd.jpg: ignoring corrupt image/label: Label class 18 exceeds dataset class count 18. Possible class labels are 0-17\n",
      "\u001b[34m\u001b[1mtrain: \u001b[0mWARNING ⚠️ /sfs/ceph/standard/sds_managed_sadewole/DS6050_SP25/group6/kaggle/kaggle_flowchart_yolo/images/train/416_jpeg_jpg.rf.6f5449efafbd8674e5d42c2ce6720aed.jpg: ignoring corrupt image/label: Label class 18 exceeds dataset class count 18. Possible class labels are 0-17\n",
      "\u001b[34m\u001b[1mtrain: \u001b[0mWARNING ⚠️ /sfs/ceph/standard/sds_managed_sadewole/DS6050_SP25/group6/kaggle/kaggle_flowchart_yolo/images/train/416_jpeg_jpg.rf.7ddd820c3c7786263c0d50b0aa7544c7.jpg: ignoring corrupt image/label: Label class 18 exceeds dataset class count 18. Possible class labels are 0-17\n",
      "\u001b[34m\u001b[1mtrain: \u001b[0mWARNING ⚠️ /sfs/ceph/standard/sds_managed_sadewole/DS6050_SP25/group6/kaggle/kaggle_flowchart_yolo/images/train/416_jpeg_jpg.rf.b40d3c455c60076a275c57cfde19692c.jpg: ignoring corrupt image/label: Label class 18 exceeds dataset class count 18. Possible class labels are 0-17\n",
      "\u001b[34m\u001b[1mtrain: \u001b[0mWARNING ⚠️ /sfs/ceph/standard/sds_managed_sadewole/DS6050_SP25/group6/kaggle/kaggle_flowchart_yolo/images/train/418_png_jpg.rf.331a1b61ce5c8bca62761b4b0b44bbf2.jpg: ignoring corrupt image/label: Label class 18 exceeds dataset class count 18. Possible class labels are 0-17\n",
      "\u001b[34m\u001b[1mtrain: \u001b[0mWARNING ⚠️ /sfs/ceph/standard/sds_managed_sadewole/DS6050_SP25/group6/kaggle/kaggle_flowchart_yolo/images/train/418_png_jpg.rf.46b2fb3e8cbf40d46bdbd14d5d67469a.jpg: ignoring corrupt image/label: Label class 18 exceeds dataset class count 18. Possible class labels are 0-17\n",
      "\u001b[34m\u001b[1mtrain: \u001b[0mWARNING ⚠️ /sfs/ceph/standard/sds_managed_sadewole/DS6050_SP25/group6/kaggle/kaggle_flowchart_yolo/images/train/418_png_jpg.rf.56f38da45de0744f015c166306755997.jpg: ignoring corrupt image/label: Label class 18 exceeds dataset class count 18. Possible class labels are 0-17\n",
      "\u001b[34m\u001b[1mtrain: \u001b[0mWARNING ⚠️ /sfs/ceph/standard/sds_managed_sadewole/DS6050_SP25/group6/kaggle/kaggle_flowchart_yolo/images/train/431_jpeg_jpg.rf.42e266eeb90b577b1526b0548b211e84.jpg: ignoring corrupt image/label: Label class 18 exceeds dataset class count 18. Possible class labels are 0-17\n",
      "\u001b[34m\u001b[1mtrain: \u001b[0mWARNING ⚠️ /sfs/ceph/standard/sds_managed_sadewole/DS6050_SP25/group6/kaggle/kaggle_flowchart_yolo/images/train/431_jpeg_jpg.rf.b7c7c8b862918ecae6969ef4464afbe2.jpg: ignoring corrupt image/label: Label class 18 exceeds dataset class count 18. Possible class labels are 0-17\n",
      "\u001b[34m\u001b[1mtrain: \u001b[0mWARNING ⚠️ /sfs/ceph/standard/sds_managed_sadewole/DS6050_SP25/group6/kaggle/kaggle_flowchart_yolo/images/train/431_jpeg_jpg.rf.bfee96a7f12169fde00b99f4d19c3aa1.jpg: ignoring corrupt image/label: Label class 18 exceeds dataset class count 18. Possible class labels are 0-17\n",
      "\u001b[34m\u001b[1mtrain: \u001b[0mWARNING ⚠️ /sfs/ceph/standard/sds_managed_sadewole/DS6050_SP25/group6/kaggle/kaggle_flowchart_yolo/images/train/450_png_jpg.rf.3a8bd4e0294ac0dd1ed3aa515293ca44.jpg: ignoring corrupt image/label: Label class 18 exceeds dataset class count 18. Possible class labels are 0-17\n",
      "\u001b[34m\u001b[1mtrain: \u001b[0mWARNING ⚠️ /sfs/ceph/standard/sds_managed_sadewole/DS6050_SP25/group6/kaggle/kaggle_flowchart_yolo/images/train/450_png_jpg.rf.51c346a6ddff6cfdf8105c235e92b41d.jpg: ignoring corrupt image/label: Label class 18 exceeds dataset class count 18. Possible class labels are 0-17\n",
      "\u001b[34m\u001b[1mtrain: \u001b[0mWARNING ⚠️ /sfs/ceph/standard/sds_managed_sadewole/DS6050_SP25/group6/kaggle/kaggle_flowchart_yolo/images/train/450_png_jpg.rf.526e1b8ba267236377e21f067924ea74.jpg: ignoring corrupt image/label: Label class 18 exceeds dataset class count 18. Possible class labels are 0-17\n",
      "\u001b[34m\u001b[1mtrain: \u001b[0mWARNING ⚠️ /sfs/ceph/standard/sds_managed_sadewole/DS6050_SP25/group6/kaggle/kaggle_flowchart_yolo/images/train/450_png_jpg.rf.58804d8e7131d0e8ae9f736d62257be9.jpg: ignoring corrupt image/label: Label class 18 exceeds dataset class count 18. Possible class labels are 0-17\n",
      "\u001b[34m\u001b[1mtrain: \u001b[0mWARNING ⚠️ /sfs/ceph/standard/sds_managed_sadewole/DS6050_SP25/group6/kaggle/kaggle_flowchart_yolo/images/train/450_png_jpg.rf.5abf4dd8c31a8ce70ce6760071fe0576.jpg: ignoring corrupt image/label: Label class 18 exceeds dataset class count 18. Possible class labels are 0-17\n",
      "\u001b[34m\u001b[1mtrain: \u001b[0mWARNING ⚠️ /sfs/ceph/standard/sds_managed_sadewole/DS6050_SP25/group6/kaggle/kaggle_flowchart_yolo/images/train/450_png_jpg.rf.ca3432c1a9c5668e0dc2602b332e8561.jpg: ignoring corrupt image/label: Label class 18 exceeds dataset class count 18. Possible class labels are 0-17\n",
      "\u001b[34m\u001b[1mtrain: \u001b[0mWARNING ⚠️ /sfs/ceph/standard/sds_managed_sadewole/DS6050_SP25/group6/kaggle/kaggle_flowchart_yolo/images/train/455_png_jpg.rf.0e00552102d72f865c96b8200639486f.jpg: ignoring corrupt image/label: Label class 18 exceeds dataset class count 18. Possible class labels are 0-17\n",
      "\u001b[34m\u001b[1mtrain: \u001b[0mWARNING ⚠️ /sfs/ceph/standard/sds_managed_sadewole/DS6050_SP25/group6/kaggle/kaggle_flowchart_yolo/images/train/455_png_jpg.rf.306c8b31faf3da3696c8f2c2756be9c2.jpg: ignoring corrupt image/label: Label class 18 exceeds dataset class count 18. Possible class labels are 0-17\n",
      "\u001b[34m\u001b[1mtrain: \u001b[0mWARNING ⚠️ /sfs/ceph/standard/sds_managed_sadewole/DS6050_SP25/group6/kaggle/kaggle_flowchart_yolo/images/train/455_png_jpg.rf.dba4dd5acbd83543f28eab8411804426.jpg: ignoring corrupt image/label: Label class 18 exceeds dataset class count 18. Possible class labels are 0-17\n",
      "\u001b[34m\u001b[1mtrain: \u001b[0mWARNING ⚠️ /sfs/ceph/standard/sds_managed_sadewole/DS6050_SP25/group6/kaggle/kaggle_flowchart_yolo/images/train/461_png_jpg.rf.25fed6e6050361f7bea13af0d22896a1.jpg: ignoring corrupt image/label: Label class 18 exceeds dataset class count 18. Possible class labels are 0-17\n",
      "\u001b[34m\u001b[1mtrain: \u001b[0mWARNING ⚠️ /sfs/ceph/standard/sds_managed_sadewole/DS6050_SP25/group6/kaggle/kaggle_flowchart_yolo/images/train/461_png_jpg.rf.292d9455118a884480425045eb9dccd7.jpg: ignoring corrupt image/label: Label class 18 exceeds dataset class count 18. Possible class labels are 0-17\n",
      "\u001b[34m\u001b[1mtrain: \u001b[0mWARNING ⚠️ /sfs/ceph/standard/sds_managed_sadewole/DS6050_SP25/group6/kaggle/kaggle_flowchart_yolo/images/train/461_png_jpg.rf.62e44352c2d836fce0c052f3b985b472.jpg: ignoring corrupt image/label: Label class 18 exceeds dataset class count 18. Possible class labels are 0-17\n",
      "\u001b[34m\u001b[1mtrain: \u001b[0mWARNING ⚠️ /sfs/ceph/standard/sds_managed_sadewole/DS6050_SP25/group6/kaggle/kaggle_flowchart_yolo/images/train/461_png_jpg.rf.6784ae5a3e061d1583f6d05dd171b074.jpg: ignoring corrupt image/label: Label class 18 exceeds dataset class count 18. Possible class labels are 0-17\n",
      "\u001b[34m\u001b[1mtrain: \u001b[0mWARNING ⚠️ /sfs/ceph/standard/sds_managed_sadewole/DS6050_SP25/group6/kaggle/kaggle_flowchart_yolo/images/train/461_png_jpg.rf.7372e703daede998068b5632a4b0ca8e.jpg: ignoring corrupt image/label: Label class 18 exceeds dataset class count 18. Possible class labels are 0-17\n",
      "\u001b[34m\u001b[1mtrain: \u001b[0mWARNING ⚠️ /sfs/ceph/standard/sds_managed_sadewole/DS6050_SP25/group6/kaggle/kaggle_flowchart_yolo/images/train/461_png_jpg.rf.ccd4a66d6e0cd302e94594a9787577f0.jpg: ignoring corrupt image/label: Label class 18 exceeds dataset class count 18. Possible class labels are 0-17\n",
      "\u001b[34m\u001b[1mtrain: \u001b[0mWARNING ⚠️ /sfs/ceph/standard/sds_managed_sadewole/DS6050_SP25/group6/kaggle/kaggle_flowchart_yolo/images/train/465_jpeg_jpg.rf.0b7f6284b5ff32faa78ee2e9342fa914.jpg: ignoring corrupt image/label: Label class 18 exceeds dataset class count 18. Possible class labels are 0-17\n",
      "\u001b[34m\u001b[1mtrain: \u001b[0mWARNING ⚠️ /sfs/ceph/standard/sds_managed_sadewole/DS6050_SP25/group6/kaggle/kaggle_flowchart_yolo/images/train/465_jpeg_jpg.rf.412981ac923b3a64100219de38155db9.jpg: ignoring corrupt image/label: Label class 18 exceeds dataset class count 18. Possible class labels are 0-17\n",
      "\u001b[34m\u001b[1mtrain: \u001b[0mWARNING ⚠️ /sfs/ceph/standard/sds_managed_sadewole/DS6050_SP25/group6/kaggle/kaggle_flowchart_yolo/images/train/465_jpeg_jpg.rf.cc49966e79915a5693bed7302143c018.jpg: ignoring corrupt image/label: Label class 18 exceeds dataset class count 18. Possible class labels are 0-17\n",
      "\u001b[34m\u001b[1mtrain: \u001b[0mWARNING ⚠️ /sfs/ceph/standard/sds_managed_sadewole/DS6050_SP25/group6/kaggle/kaggle_flowchart_yolo/images/train/465_jpeg_jpg.rf.e9347852abe4a741ad2534a3335e0fcb.jpg: ignoring corrupt image/label: Label class 18 exceeds dataset class count 18. Possible class labels are 0-17\n",
      "\u001b[34m\u001b[1mtrain: \u001b[0mWARNING ⚠️ /sfs/ceph/standard/sds_managed_sadewole/DS6050_SP25/group6/kaggle/kaggle_flowchart_yolo/images/train/465_jpeg_jpg.rf.e98c3149ec275fa3086f84e650a6ac5e.jpg: ignoring corrupt image/label: Label class 18 exceeds dataset class count 18. Possible class labels are 0-17\n",
      "\u001b[34m\u001b[1mtrain: \u001b[0mWARNING ⚠️ /sfs/ceph/standard/sds_managed_sadewole/DS6050_SP25/group6/kaggle/kaggle_flowchart_yolo/images/train/465_jpeg_jpg.rf.f5bff5709f4f97ec8ee99cb2ac40f0cb.jpg: ignoring corrupt image/label: Label class 18 exceeds dataset class count 18. Possible class labels are 0-17\n",
      "\u001b[34m\u001b[1mtrain: \u001b[0mWARNING ⚠️ /sfs/ceph/standard/sds_managed_sadewole/DS6050_SP25/group6/kaggle/kaggle_flowchart_yolo/images/train/470_png_jpg.rf.0466b9740f9aff55773cf8f9efff6b3f.jpg: ignoring corrupt image/label: Label class 18 exceeds dataset class count 18. Possible class labels are 0-17\n",
      "\u001b[34m\u001b[1mtrain: \u001b[0mWARNING ⚠️ /sfs/ceph/standard/sds_managed_sadewole/DS6050_SP25/group6/kaggle/kaggle_flowchart_yolo/images/train/470_png_jpg.rf.4cd5abe2c61b6af89d1920530b91f8b9.jpg: ignoring corrupt image/label: Label class 18 exceeds dataset class count 18. Possible class labels are 0-17\n",
      "\u001b[34m\u001b[1mtrain: \u001b[0mWARNING ⚠️ /sfs/ceph/standard/sds_managed_sadewole/DS6050_SP25/group6/kaggle/kaggle_flowchart_yolo/images/train/470_png_jpg.rf.8779cbada26ee73c90a72a8ea53908c9.jpg: ignoring corrupt image/label: Label class 18 exceeds dataset class count 18. Possible class labels are 0-17\n",
      "\u001b[34m\u001b[1mtrain: \u001b[0mWARNING ⚠️ /sfs/ceph/standard/sds_managed_sadewole/DS6050_SP25/group6/kaggle/kaggle_flowchart_yolo/images/train/470_png_jpg.rf.96fddd1c41e96140a770b6304e637735.jpg: ignoring corrupt image/label: Label class 18 exceeds dataset class count 18. Possible class labels are 0-17\n",
      "\u001b[34m\u001b[1mtrain: \u001b[0mWARNING ⚠️ /sfs/ceph/standard/sds_managed_sadewole/DS6050_SP25/group6/kaggle/kaggle_flowchart_yolo/images/train/470_png_jpg.rf.a098bb2604c4a5872be177175d9890db.jpg: ignoring corrupt image/label: Label class 18 exceeds dataset class count 18. Possible class labels are 0-17\n",
      "\u001b[34m\u001b[1mtrain: \u001b[0mWARNING ⚠️ /sfs/ceph/standard/sds_managed_sadewole/DS6050_SP25/group6/kaggle/kaggle_flowchart_yolo/images/train/470_png_jpg.rf.afec8876ebed7e54ca75ad24f5beb1c6.jpg: ignoring corrupt image/label: Label class 18 exceeds dataset class count 18. Possible class labels are 0-17\n",
      "\u001b[34m\u001b[1mtrain: \u001b[0mWARNING ⚠️ /sfs/ceph/standard/sds_managed_sadewole/DS6050_SP25/group6/kaggle/kaggle_flowchart_yolo/images/train/473_png_jpg.rf.680bc9eb2ef155e73ffcb8ae0b7e55ae.jpg: ignoring corrupt image/label: Label class 18 exceeds dataset class count 18. Possible class labels are 0-17\n",
      "\u001b[34m\u001b[1mtrain: \u001b[0mWARNING ⚠️ /sfs/ceph/standard/sds_managed_sadewole/DS6050_SP25/group6/kaggle/kaggle_flowchart_yolo/images/train/473_png_jpg.rf.9a416ae1a565956fd9451d3015a78d6e.jpg: ignoring corrupt image/label: Label class 18 exceeds dataset class count 18. Possible class labels are 0-17\n",
      "\u001b[34m\u001b[1mtrain: \u001b[0mWARNING ⚠️ /sfs/ceph/standard/sds_managed_sadewole/DS6050_SP25/group6/kaggle/kaggle_flowchart_yolo/images/train/473_png_jpg.rf.c8d67fb90fe1fe7a321ed821f50dc601.jpg: ignoring corrupt image/label: Label class 18 exceeds dataset class count 18. Possible class labels are 0-17\n",
      "\u001b[34m\u001b[1mtrain: \u001b[0mWARNING ⚠️ /sfs/ceph/standard/sds_managed_sadewole/DS6050_SP25/group6/kaggle/kaggle_flowchart_yolo/images/train/47_png_jpg.rf.28e1bf08e22117cabb29c3ea50b0a321.jpg: ignoring corrupt image/label: Label class 18 exceeds dataset class count 18. Possible class labels are 0-17\n",
      "\u001b[34m\u001b[1mtrain: \u001b[0mWARNING ⚠️ /sfs/ceph/standard/sds_managed_sadewole/DS6050_SP25/group6/kaggle/kaggle_flowchart_yolo/images/train/47_png_jpg.rf.6936a99b2d0b79bd98fee88ecee9471e.jpg: ignoring corrupt image/label: Label class 18 exceeds dataset class count 18. Possible class labels are 0-17\n",
      "\u001b[34m\u001b[1mtrain: \u001b[0mWARNING ⚠️ /sfs/ceph/standard/sds_managed_sadewole/DS6050_SP25/group6/kaggle/kaggle_flowchart_yolo/images/train/47_png_jpg.rf.c3fe875a0954a8d18caaf1f76b41efd6.jpg: ignoring corrupt image/label: Label class 18 exceeds dataset class count 18. Possible class labels are 0-17\n",
      "\u001b[34m\u001b[1mtrain: \u001b[0mWARNING ⚠️ /sfs/ceph/standard/sds_managed_sadewole/DS6050_SP25/group6/kaggle/kaggle_flowchart_yolo/images/train/55_jpg.rf.37a84720a94dae9c5ccf8c8052e3fc68.jpg: ignoring corrupt image/label: Label class 18 exceeds dataset class count 18. Possible class labels are 0-17\n",
      "\u001b[34m\u001b[1mtrain: \u001b[0mWARNING ⚠️ /sfs/ceph/standard/sds_managed_sadewole/DS6050_SP25/group6/kaggle/kaggle_flowchart_yolo/images/train/55_jpg.rf.59983a347547877666579668d5c026f7.jpg: ignoring corrupt image/label: Label class 18 exceeds dataset class count 18. Possible class labels are 0-17\n",
      "\u001b[34m\u001b[1mtrain: \u001b[0mWARNING ⚠️ /sfs/ceph/standard/sds_managed_sadewole/DS6050_SP25/group6/kaggle/kaggle_flowchart_yolo/images/train/55_jpg.rf.62c49bf226a88d79cd00e4dc1899d13c.jpg: ignoring corrupt image/label: Label class 18 exceeds dataset class count 18. Possible class labels are 0-17\n",
      "\u001b[34m\u001b[1mtrain: \u001b[0mWARNING ⚠️ /sfs/ceph/standard/sds_managed_sadewole/DS6050_SP25/group6/kaggle/kaggle_flowchart_yolo/images/train/55_jpg.rf.909851d486e3b00781d3acd3fa2c94a8.jpg: ignoring corrupt image/label: Label class 18 exceeds dataset class count 18. Possible class labels are 0-17\n",
      "\u001b[34m\u001b[1mtrain: \u001b[0mWARNING ⚠️ /sfs/ceph/standard/sds_managed_sadewole/DS6050_SP25/group6/kaggle/kaggle_flowchart_yolo/images/train/55_jpg.rf.afeb1f26c7b231c059dd8cbadea04867.jpg: ignoring corrupt image/label: Label class 18 exceeds dataset class count 18. Possible class labels are 0-17\n",
      "\u001b[34m\u001b[1mtrain: \u001b[0mWARNING ⚠️ /sfs/ceph/standard/sds_managed_sadewole/DS6050_SP25/group6/kaggle/kaggle_flowchart_yolo/images/train/55_jpg.rf.b24a4de06f4df1e97d8da0f957072ed1.jpg: ignoring corrupt image/label: Label class 18 exceeds dataset class count 18. Possible class labels are 0-17\n",
      "\u001b[34m\u001b[1mtrain: \u001b[0mWARNING ⚠️ /sfs/ceph/standard/sds_managed_sadewole/DS6050_SP25/group6/kaggle/kaggle_flowchart_yolo/images/train/57_png_jpg.rf.257aa73c9d346f91c7a51bbb4645c92e.jpg: ignoring corrupt image/label: Label class 18 exceeds dataset class count 18. Possible class labels are 0-17\n",
      "\u001b[34m\u001b[1mtrain: \u001b[0mWARNING ⚠️ /sfs/ceph/standard/sds_managed_sadewole/DS6050_SP25/group6/kaggle/kaggle_flowchart_yolo/images/train/57_png_jpg.rf.78b891781b17e069dc051120e1efce38.jpg: ignoring corrupt image/label: Label class 18 exceeds dataset class count 18. Possible class labels are 0-17\n",
      "\u001b[34m\u001b[1mtrain: \u001b[0mWARNING ⚠️ /sfs/ceph/standard/sds_managed_sadewole/DS6050_SP25/group6/kaggle/kaggle_flowchart_yolo/images/train/57_png_jpg.rf.7c303182fd40731db2f66c821bca6e00.jpg: ignoring corrupt image/label: Label class 18 exceeds dataset class count 18. Possible class labels are 0-17\n",
      "\u001b[34m\u001b[1mtrain: \u001b[0mWARNING ⚠️ /sfs/ceph/standard/sds_managed_sadewole/DS6050_SP25/group6/kaggle/kaggle_flowchart_yolo/images/train/57_png_jpg.rf.81c7342ea5c8b2c8be61979c8bb05c4c.jpg: ignoring corrupt image/label: Label class 18 exceeds dataset class count 18. Possible class labels are 0-17\n",
      "\u001b[34m\u001b[1mtrain: \u001b[0mWARNING ⚠️ /sfs/ceph/standard/sds_managed_sadewole/DS6050_SP25/group6/kaggle/kaggle_flowchart_yolo/images/train/57_png_jpg.rf.9abdb5f57077e6270ca31a29ef29872f.jpg: ignoring corrupt image/label: Label class 18 exceeds dataset class count 18. Possible class labels are 0-17\n",
      "\u001b[34m\u001b[1mtrain: \u001b[0mWARNING ⚠️ /sfs/ceph/standard/sds_managed_sadewole/DS6050_SP25/group6/kaggle/kaggle_flowchart_yolo/images/train/57_png_jpg.rf.d44c1deadb2e9accf0727a27a6f25272.jpg: ignoring corrupt image/label: Label class 18 exceeds dataset class count 18. Possible class labels are 0-17\n",
      "\u001b[34m\u001b[1mtrain: \u001b[0mWARNING ⚠️ /sfs/ceph/standard/sds_managed_sadewole/DS6050_SP25/group6/kaggle/kaggle_flowchart_yolo/images/train/62_png_jpg.rf.3a5234a0231c2216ce5193997dc1accc.jpg: ignoring corrupt image/label: Label class 18 exceeds dataset class count 18. Possible class labels are 0-17\n",
      "\u001b[34m\u001b[1mtrain: \u001b[0mWARNING ⚠️ /sfs/ceph/standard/sds_managed_sadewole/DS6050_SP25/group6/kaggle/kaggle_flowchart_yolo/images/train/62_png_jpg.rf.4479bc5cd04a898f13095d202d2d6fb8.jpg: ignoring corrupt image/label: Label class 18 exceeds dataset class count 18. Possible class labels are 0-17\n",
      "\u001b[34m\u001b[1mtrain: \u001b[0mWARNING ⚠️ /sfs/ceph/standard/sds_managed_sadewole/DS6050_SP25/group6/kaggle/kaggle_flowchart_yolo/images/train/62_png_jpg.rf.51e28985e4dc4aaeae01ee30e7c51422.jpg: ignoring corrupt image/label: Label class 18 exceeds dataset class count 18. Possible class labels are 0-17\n",
      "\u001b[34m\u001b[1mtrain: \u001b[0mWARNING ⚠️ /sfs/ceph/standard/sds_managed_sadewole/DS6050_SP25/group6/kaggle/kaggle_flowchart_yolo/images/train/62_png_jpg.rf.778c9f225b0ed38f57aebcb7efdf9a7d.jpg: ignoring corrupt image/label: Label class 18 exceeds dataset class count 18. Possible class labels are 0-17\n",
      "\u001b[34m\u001b[1mtrain: \u001b[0mWARNING ⚠️ /sfs/ceph/standard/sds_managed_sadewole/DS6050_SP25/group6/kaggle/kaggle_flowchart_yolo/images/train/62_png_jpg.rf.c467d243dff03510d8b2f72dd7911663.jpg: ignoring corrupt image/label: Label class 18 exceeds dataset class count 18. Possible class labels are 0-17\n",
      "\u001b[34m\u001b[1mtrain: \u001b[0mWARNING ⚠️ /sfs/ceph/standard/sds_managed_sadewole/DS6050_SP25/group6/kaggle/kaggle_flowchart_yolo/images/train/62_png_jpg.rf.e488637ea9f131a6c41d7fb8a97969d5.jpg: ignoring corrupt image/label: Label class 18 exceeds dataset class count 18. Possible class labels are 0-17\n",
      "\u001b[34m\u001b[1mtrain: \u001b[0mWARNING ⚠️ /sfs/ceph/standard/sds_managed_sadewole/DS6050_SP25/group6/kaggle/kaggle_flowchart_yolo/images/train/64_jpg.rf.2f7e57f5d845ecf325d256c091d03d6b.jpg: ignoring corrupt image/label: Label class 18 exceeds dataset class count 18. Possible class labels are 0-17\n",
      "\u001b[34m\u001b[1mtrain: \u001b[0mWARNING ⚠️ /sfs/ceph/standard/sds_managed_sadewole/DS6050_SP25/group6/kaggle/kaggle_flowchart_yolo/images/train/64_jpg.rf.69e41595cda540704edbdd60c5035bc1.jpg: ignoring corrupt image/label: Label class 18 exceeds dataset class count 18. Possible class labels are 0-17\n",
      "\u001b[34m\u001b[1mtrain: \u001b[0mWARNING ⚠️ /sfs/ceph/standard/sds_managed_sadewole/DS6050_SP25/group6/kaggle/kaggle_flowchart_yolo/images/train/64_jpg.rf.b4136e2fe9e66626bb4537c42f5d1aba.jpg: ignoring corrupt image/label: Label class 18 exceeds dataset class count 18. Possible class labels are 0-17\n",
      "\u001b[34m\u001b[1mtrain: \u001b[0mWARNING ⚠️ /sfs/ceph/standard/sds_managed_sadewole/DS6050_SP25/group6/kaggle/kaggle_flowchart_yolo/images/train/64_jpg.rf.f32bcd8b2b9ed8771b45ff5052404fc4.jpg: ignoring corrupt image/label: Label class 18 exceeds dataset class count 18. Possible class labels are 0-17\n",
      "\u001b[34m\u001b[1mtrain: \u001b[0mWARNING ⚠️ /sfs/ceph/standard/sds_managed_sadewole/DS6050_SP25/group6/kaggle/kaggle_flowchart_yolo/images/train/64_jpg.rf.f69367071a28cf6a4a5c863e174617ae.jpg: ignoring corrupt image/label: Label class 18 exceeds dataset class count 18. Possible class labels are 0-17\n",
      "\u001b[34m\u001b[1mtrain: \u001b[0mWARNING ⚠️ /sfs/ceph/standard/sds_managed_sadewole/DS6050_SP25/group6/kaggle/kaggle_flowchart_yolo/images/train/64_jpg.rf.fdb8ed5955e2d1b40bbad5c1edc83478.jpg: ignoring corrupt image/label: Label class 18 exceeds dataset class count 18. Possible class labels are 0-17\n",
      "\u001b[34m\u001b[1mtrain: \u001b[0mWARNING ⚠️ /sfs/ceph/standard/sds_managed_sadewole/DS6050_SP25/group6/kaggle/kaggle_flowchart_yolo/images/train/65_png_jpg.rf.34913fd0e3320c8d1ca19ab54732082b.jpg: ignoring corrupt image/label: Label class 18 exceeds dataset class count 18. Possible class labels are 0-17\n",
      "\u001b[34m\u001b[1mtrain: \u001b[0mWARNING ⚠️ /sfs/ceph/standard/sds_managed_sadewole/DS6050_SP25/group6/kaggle/kaggle_flowchart_yolo/images/train/65_png_jpg.rf.3ff1d764c546473e52d1719df1f20262.jpg: ignoring corrupt image/label: Label class 18 exceeds dataset class count 18. Possible class labels are 0-17\n",
      "\u001b[34m\u001b[1mtrain: \u001b[0mWARNING ⚠️ /sfs/ceph/standard/sds_managed_sadewole/DS6050_SP25/group6/kaggle/kaggle_flowchart_yolo/images/train/65_png_jpg.rf.46e53db967c8ae26083f1ad313ce352d.jpg: ignoring corrupt image/label: Label class 18 exceeds dataset class count 18. Possible class labels are 0-17\n",
      "\u001b[34m\u001b[1mtrain: \u001b[0mWARNING ⚠️ /sfs/ceph/standard/sds_managed_sadewole/DS6050_SP25/group6/kaggle/kaggle_flowchart_yolo/images/train/67_png_jpg.rf.1e168d8c11042d2890804c32b2bc9bf8.jpg: ignoring corrupt image/label: Label class 18 exceeds dataset class count 18. Possible class labels are 0-17\n",
      "\u001b[34m\u001b[1mtrain: \u001b[0mWARNING ⚠️ /sfs/ceph/standard/sds_managed_sadewole/DS6050_SP25/group6/kaggle/kaggle_flowchart_yolo/images/train/67_png_jpg.rf.3f968234922596fe70c802f7c51e49a8.jpg: ignoring corrupt image/label: Label class 18 exceeds dataset class count 18. Possible class labels are 0-17\n",
      "\u001b[34m\u001b[1mtrain: \u001b[0mWARNING ⚠️ /sfs/ceph/standard/sds_managed_sadewole/DS6050_SP25/group6/kaggle/kaggle_flowchart_yolo/images/train/67_png_jpg.rf.75e4b51b182809343dbe88974d923735.jpg: ignoring corrupt image/label: Label class 18 exceeds dataset class count 18. Possible class labels are 0-17\n",
      "\u001b[34m\u001b[1mtrain: \u001b[0mWARNING ⚠️ /sfs/ceph/standard/sds_managed_sadewole/DS6050_SP25/group6/kaggle/kaggle_flowchart_yolo/images/train/67_png_jpg.rf.85d88ecfcfcdbdd604de984b975af97f.jpg: ignoring corrupt image/label: Label class 18 exceeds dataset class count 18. Possible class labels are 0-17\n",
      "\u001b[34m\u001b[1mtrain: \u001b[0mWARNING ⚠️ /sfs/ceph/standard/sds_managed_sadewole/DS6050_SP25/group6/kaggle/kaggle_flowchart_yolo/images/train/67_png_jpg.rf.8ac1bcb2a0c7f5723305124bc503e727.jpg: ignoring corrupt image/label: Label class 18 exceeds dataset class count 18. Possible class labels are 0-17\n",
      "\u001b[34m\u001b[1mtrain: \u001b[0mWARNING ⚠️ /sfs/ceph/standard/sds_managed_sadewole/DS6050_SP25/group6/kaggle/kaggle_flowchart_yolo/images/train/67_png_jpg.rf.da1924053e875e9b0ac027a1b026ea18.jpg: ignoring corrupt image/label: Label class 18 exceeds dataset class count 18. Possible class labels are 0-17\n",
      "\u001b[34m\u001b[1mtrain: \u001b[0mWARNING ⚠️ /sfs/ceph/standard/sds_managed_sadewole/DS6050_SP25/group6/kaggle/kaggle_flowchart_yolo/images/train/69_png_jpg.rf.1f0a84271f33d0de1739649723dcef72.jpg: ignoring corrupt image/label: Label class 18 exceeds dataset class count 18. Possible class labels are 0-17\n",
      "\u001b[34m\u001b[1mtrain: \u001b[0mWARNING ⚠️ /sfs/ceph/standard/sds_managed_sadewole/DS6050_SP25/group6/kaggle/kaggle_flowchart_yolo/images/train/69_png_jpg.rf.22fe46b5a62b86bdb27abc162577b414.jpg: ignoring corrupt image/label: Label class 18 exceeds dataset class count 18. Possible class labels are 0-17\n",
      "\u001b[34m\u001b[1mtrain: \u001b[0mWARNING ⚠️ /sfs/ceph/standard/sds_managed_sadewole/DS6050_SP25/group6/kaggle/kaggle_flowchart_yolo/images/train/69_png_jpg.rf.f2d13671085a952ef4c6db2bdfa7b46e.jpg: ignoring corrupt image/label: Label class 18 exceeds dataset class count 18. Possible class labels are 0-17\n",
      "\u001b[34m\u001b[1mtrain: \u001b[0mWARNING ⚠️ /sfs/ceph/standard/sds_managed_sadewole/DS6050_SP25/group6/kaggle/kaggle_flowchart_yolo/images/train/71_png_jpg.rf.1966396826fdc19658fc0a2404a8c028.jpg: ignoring corrupt image/label: Label class 18 exceeds dataset class count 18. Possible class labels are 0-17\n",
      "\u001b[34m\u001b[1mtrain: \u001b[0mWARNING ⚠️ /sfs/ceph/standard/sds_managed_sadewole/DS6050_SP25/group6/kaggle/kaggle_flowchart_yolo/images/train/71_png_jpg.rf.592965e8adabd62df72c6414eedc5a38.jpg: ignoring corrupt image/label: Label class 18 exceeds dataset class count 18. Possible class labels are 0-17\n",
      "\u001b[34m\u001b[1mtrain: \u001b[0mWARNING ⚠️ /sfs/ceph/standard/sds_managed_sadewole/DS6050_SP25/group6/kaggle/kaggle_flowchart_yolo/images/train/71_png_jpg.rf.5be8eb3bc17c8de73f3d9ff4c6ace5f0.jpg: ignoring corrupt image/label: Label class 18 exceeds dataset class count 18. Possible class labels are 0-17\n",
      "\u001b[34m\u001b[1mtrain: \u001b[0mWARNING ⚠️ /sfs/ceph/standard/sds_managed_sadewole/DS6050_SP25/group6/kaggle/kaggle_flowchart_yolo/images/train/71_png_jpg.rf.61c8c8ed449253f642ea0c873afe86b7.jpg: ignoring corrupt image/label: Label class 18 exceeds dataset class count 18. Possible class labels are 0-17\n",
      "\u001b[34m\u001b[1mtrain: \u001b[0mWARNING ⚠️ /sfs/ceph/standard/sds_managed_sadewole/DS6050_SP25/group6/kaggle/kaggle_flowchart_yolo/images/train/71_png_jpg.rf.9572772d39969375308ce48fb063a9e5.jpg: ignoring corrupt image/label: Label class 18 exceeds dataset class count 18. Possible class labels are 0-17\n",
      "\u001b[34m\u001b[1mtrain: \u001b[0mWARNING ⚠️ /sfs/ceph/standard/sds_managed_sadewole/DS6050_SP25/group6/kaggle/kaggle_flowchart_yolo/images/train/71_png_jpg.rf.e3fcef02cb8dc3bc25c58eeba44371ee.jpg: ignoring corrupt image/label: Label class 18 exceeds dataset class count 18. Possible class labels are 0-17\n",
      "\u001b[34m\u001b[1mtrain: \u001b[0mWARNING ⚠️ /sfs/ceph/standard/sds_managed_sadewole/DS6050_SP25/group6/kaggle/kaggle_flowchart_yolo/images/train/75_png_jpg.rf.1ad8559686a57e797455ec0311926fa2.jpg: ignoring corrupt image/label: Label class 18 exceeds dataset class count 18. Possible class labels are 0-17\n",
      "\u001b[34m\u001b[1mtrain: \u001b[0mWARNING ⚠️ /sfs/ceph/standard/sds_managed_sadewole/DS6050_SP25/group6/kaggle/kaggle_flowchart_yolo/images/train/75_png_jpg.rf.cfdd94d9ac390d7a095dbdc7972c5e83.jpg: ignoring corrupt image/label: Label class 18 exceeds dataset class count 18. Possible class labels are 0-17\n",
      "\u001b[34m\u001b[1mtrain: \u001b[0mWARNING ⚠️ /sfs/ceph/standard/sds_managed_sadewole/DS6050_SP25/group6/kaggle/kaggle_flowchart_yolo/images/train/75_png_jpg.rf.eac47c7e6c5ed175d4307d0ea23b54f8.jpg: ignoring corrupt image/label: Label class 18 exceeds dataset class count 18. Possible class labels are 0-17\n",
      "\u001b[34m\u001b[1mtrain: \u001b[0mWARNING ⚠️ /sfs/ceph/standard/sds_managed_sadewole/DS6050_SP25/group6/kaggle/kaggle_flowchart_yolo/images/train/77_png_jpg.rf.0869ceb48d5ce0922daaf4bbf7b35390.jpg: ignoring corrupt image/label: Label class 18 exceeds dataset class count 18. Possible class labels are 0-17\n",
      "\u001b[34m\u001b[1mtrain: \u001b[0mWARNING ⚠️ /sfs/ceph/standard/sds_managed_sadewole/DS6050_SP25/group6/kaggle/kaggle_flowchart_yolo/images/train/77_png_jpg.rf.23baa95c9d18d8a44a091603478498bd.jpg: ignoring corrupt image/label: Label class 18 exceeds dataset class count 18. Possible class labels are 0-17\n",
      "\u001b[34m\u001b[1mtrain: \u001b[0mWARNING ⚠️ /sfs/ceph/standard/sds_managed_sadewole/DS6050_SP25/group6/kaggle/kaggle_flowchart_yolo/images/train/77_png_jpg.rf.5866b42562a0ee434524f741e834a9f6.jpg: ignoring corrupt image/label: Label class 18 exceeds dataset class count 18. Possible class labels are 0-17\n",
      "\u001b[34m\u001b[1mtrain: \u001b[0mWARNING ⚠️ /sfs/ceph/standard/sds_managed_sadewole/DS6050_SP25/group6/kaggle/kaggle_flowchart_yolo/images/train/77_png_jpg.rf.7e6d1eeba765bc7a6769fec87f3b02b0.jpg: ignoring corrupt image/label: Label class 18 exceeds dataset class count 18. Possible class labels are 0-17\n",
      "\u001b[34m\u001b[1mtrain: \u001b[0mWARNING ⚠️ /sfs/ceph/standard/sds_managed_sadewole/DS6050_SP25/group6/kaggle/kaggle_flowchart_yolo/images/train/77_png_jpg.rf.c2c709002969e7dffd02c4ecc9b5df53.jpg: ignoring corrupt image/label: Label class 18 exceeds dataset class count 18. Possible class labels are 0-17\n",
      "\u001b[34m\u001b[1mtrain: \u001b[0mWARNING ⚠️ /sfs/ceph/standard/sds_managed_sadewole/DS6050_SP25/group6/kaggle/kaggle_flowchart_yolo/images/train/77_png_jpg.rf.e9a1e352b9b765f00e124620b7bda687.jpg: ignoring corrupt image/label: Label class 18 exceeds dataset class count 18. Possible class labels are 0-17\n",
      "\u001b[34m\u001b[1mtrain: \u001b[0mWARNING ⚠️ /sfs/ceph/standard/sds_managed_sadewole/DS6050_SP25/group6/kaggle/kaggle_flowchart_yolo/images/train/7_png_jpg.rf.4ad74241717e9d3bbefb9964507adad2.jpg: ignoring corrupt image/label: Label class 18 exceeds dataset class count 18. Possible class labels are 0-17\n",
      "\u001b[34m\u001b[1mtrain: \u001b[0mWARNING ⚠️ /sfs/ceph/standard/sds_managed_sadewole/DS6050_SP25/group6/kaggle/kaggle_flowchart_yolo/images/train/7_png_jpg.rf.61c35519e668dd3a829d5768cf8ca4f0.jpg: ignoring corrupt image/label: Label class 18 exceeds dataset class count 18. Possible class labels are 0-17\n",
      "\u001b[34m\u001b[1mtrain: \u001b[0mWARNING ⚠️ /sfs/ceph/standard/sds_managed_sadewole/DS6050_SP25/group6/kaggle/kaggle_flowchart_yolo/images/train/7_png_jpg.rf.a7c58f511e4e61e3915859054c96e907.jpg: ignoring corrupt image/label: Label class 18 exceeds dataset class count 18. Possible class labels are 0-17\n",
      "\u001b[34m\u001b[1mtrain: \u001b[0mWARNING ⚠️ /sfs/ceph/standard/sds_managed_sadewole/DS6050_SP25/group6/kaggle/kaggle_flowchart_yolo/images/train/81_jpg.rf.185d646d51ef3ee6e29517671399ab19.jpg: ignoring corrupt image/label: Label class 18 exceeds dataset class count 18. Possible class labels are 0-17\n",
      "\u001b[34m\u001b[1mtrain: \u001b[0mWARNING ⚠️ /sfs/ceph/standard/sds_managed_sadewole/DS6050_SP25/group6/kaggle/kaggle_flowchart_yolo/images/train/81_jpg.rf.23c1026f6f911c697e54ebf526fc9614.jpg: ignoring corrupt image/label: Label class 18 exceeds dataset class count 18. Possible class labels are 0-17\n",
      "\u001b[34m\u001b[1mtrain: \u001b[0mWARNING ⚠️ /sfs/ceph/standard/sds_managed_sadewole/DS6050_SP25/group6/kaggle/kaggle_flowchart_yolo/images/train/81_jpg.rf.3cb2298af98b060c82dc7d44eefd5bcc.jpg: ignoring corrupt image/label: Label class 18 exceeds dataset class count 18. Possible class labels are 0-17\n",
      "\u001b[34m\u001b[1mtrain: \u001b[0mWARNING ⚠️ /sfs/ceph/standard/sds_managed_sadewole/DS6050_SP25/group6/kaggle/kaggle_flowchart_yolo/images/train/81_jpg.rf.64604edbd7ae5672448bd7f32f83559f.jpg: ignoring corrupt image/label: Label class 18 exceeds dataset class count 18. Possible class labels are 0-17\n",
      "\u001b[34m\u001b[1mtrain: \u001b[0mWARNING ⚠️ /sfs/ceph/standard/sds_managed_sadewole/DS6050_SP25/group6/kaggle/kaggle_flowchart_yolo/images/train/81_jpg.rf.af9930fd23ce01befe240107d4975f51.jpg: ignoring corrupt image/label: Label class 18 exceeds dataset class count 18. Possible class labels are 0-17\n",
      "\u001b[34m\u001b[1mtrain: \u001b[0mWARNING ⚠️ /sfs/ceph/standard/sds_managed_sadewole/DS6050_SP25/group6/kaggle/kaggle_flowchart_yolo/images/train/81_jpg.rf.c30dbe86a2433ddcf17b406ddb0c53e0.jpg: ignoring corrupt image/label: Label class 18 exceeds dataset class count 18. Possible class labels are 0-17\n",
      "\u001b[34m\u001b[1mtrain: \u001b[0mWARNING ⚠️ /sfs/ceph/standard/sds_managed_sadewole/DS6050_SP25/group6/kaggle/kaggle_flowchart_yolo/images/train/85_jpg.rf.0f158934b7d51f23f2d4cce2aaa1de10.jpg: ignoring corrupt image/label: Label class 18 exceeds dataset class count 18. Possible class labels are 0-17\n",
      "\u001b[34m\u001b[1mtrain: \u001b[0mWARNING ⚠️ /sfs/ceph/standard/sds_managed_sadewole/DS6050_SP25/group6/kaggle/kaggle_flowchart_yolo/images/train/85_jpg.rf.34c36756fcb0bd176f0037eb7d9cdabc.jpg: ignoring corrupt image/label: Label class 18 exceeds dataset class count 18. Possible class labels are 0-17\n",
      "\u001b[34m\u001b[1mtrain: \u001b[0mWARNING ⚠️ /sfs/ceph/standard/sds_managed_sadewole/DS6050_SP25/group6/kaggle/kaggle_flowchart_yolo/images/train/85_jpg.rf.78e52a03c2ec0ff4ea129b79978e6f18.jpg: ignoring corrupt image/label: Label class 18 exceeds dataset class count 18. Possible class labels are 0-17\n",
      "\u001b[34m\u001b[1mtrain: \u001b[0mWARNING ⚠️ /sfs/ceph/standard/sds_managed_sadewole/DS6050_SP25/group6/kaggle/kaggle_flowchart_yolo/images/train/92_png_jpg.rf.141a0b89f523db1157792877c24bf24b.jpg: ignoring corrupt image/label: Label class 18 exceeds dataset class count 18. Possible class labels are 0-17\n",
      "\u001b[34m\u001b[1mtrain: \u001b[0mWARNING ⚠️ /sfs/ceph/standard/sds_managed_sadewole/DS6050_SP25/group6/kaggle/kaggle_flowchart_yolo/images/train/92_png_jpg.rf.906db94d99b6329d90f6b487a43217b8.jpg: ignoring corrupt image/label: Label class 18 exceeds dataset class count 18. Possible class labels are 0-17\n",
      "\u001b[34m\u001b[1mtrain: \u001b[0mWARNING ⚠️ /sfs/ceph/standard/sds_managed_sadewole/DS6050_SP25/group6/kaggle/kaggle_flowchart_yolo/images/train/92_png_jpg.rf.90bcafbf1aa98365ce997b2470ff25b1.jpg: ignoring corrupt image/label: Label class 18 exceeds dataset class count 18. Possible class labels are 0-17\n",
      "\u001b[34m\u001b[1mtrain: \u001b[0mWARNING ⚠️ /sfs/ceph/standard/sds_managed_sadewole/DS6050_SP25/group6/kaggle/kaggle_flowchart_yolo/images/train/98_png_jpg.rf.0b1493454900dde2cf7931b1d818d1ee.jpg: ignoring corrupt image/label: Label class 18 exceeds dataset class count 18. Possible class labels are 0-17\n",
      "\u001b[34m\u001b[1mtrain: \u001b[0mWARNING ⚠️ /sfs/ceph/standard/sds_managed_sadewole/DS6050_SP25/group6/kaggle/kaggle_flowchart_yolo/images/train/98_png_jpg.rf.4a34fd5fbd3638c3f4e7312b831f7e19.jpg: ignoring corrupt image/label: Label class 18 exceeds dataset class count 18. Possible class labels are 0-17\n",
      "\u001b[34m\u001b[1mtrain: \u001b[0mWARNING ⚠️ /sfs/ceph/standard/sds_managed_sadewole/DS6050_SP25/group6/kaggle/kaggle_flowchart_yolo/images/train/98_png_jpg.rf.5ef52eca2b9878a944bc60c50e3c1d6d.jpg: ignoring corrupt image/label: Label class 18 exceeds dataset class count 18. Possible class labels are 0-17\n",
      "\u001b[34m\u001b[1mtrain: \u001b[0mWARNING ⚠️ /sfs/ceph/standard/sds_managed_sadewole/DS6050_SP25/group6/kaggle/kaggle_flowchart_yolo/images/train/993_jpg.rf.154e1f4b6df1c4f8640c3b6e62d04cbb.jpg: ignoring corrupt image/label: Label class 18 exceeds dataset class count 18. Possible class labels are 0-17\n",
      "\u001b[34m\u001b[1mtrain: \u001b[0mWARNING ⚠️ /sfs/ceph/standard/sds_managed_sadewole/DS6050_SP25/group6/kaggle/kaggle_flowchart_yolo/images/train/993_jpg.rf.340eebe46c7b079a2a34867d984e22c6.jpg: ignoring corrupt image/label: Label class 18 exceeds dataset class count 18. Possible class labels are 0-17\n",
      "\u001b[34m\u001b[1mtrain: \u001b[0mWARNING ⚠️ /sfs/ceph/standard/sds_managed_sadewole/DS6050_SP25/group6/kaggle/kaggle_flowchart_yolo/images/train/993_jpg.rf.def0bae69519518721d0ebba10cb2a14.jpg: ignoring corrupt image/label: Label class 18 exceeds dataset class count 18. Possible class labels are 0-17\n",
      "\u001b[34m\u001b[1mtrain: \u001b[0mWARNING ⚠️ /sfs/ceph/standard/sds_managed_sadewole/DS6050_SP25/group6/kaggle/kaggle_flowchart_yolo/images/train/99_jpg.rf.0e49e897355f4e5e00b353f210fe3042.jpg: ignoring corrupt image/label: Label class 18 exceeds dataset class count 18. Possible class labels are 0-17\n",
      "\u001b[34m\u001b[1mtrain: \u001b[0mWARNING ⚠️ /sfs/ceph/standard/sds_managed_sadewole/DS6050_SP25/group6/kaggle/kaggle_flowchart_yolo/images/train/99_jpg.rf.2ff32f31f01c4f512ae3b9828f971e3e.jpg: ignoring corrupt image/label: Label class 18 exceeds dataset class count 18. Possible class labels are 0-17\n",
      "\u001b[34m\u001b[1mtrain: \u001b[0mWARNING ⚠️ /sfs/ceph/standard/sds_managed_sadewole/DS6050_SP25/group6/kaggle/kaggle_flowchart_yolo/images/train/99_jpg.rf.85901bf7036edaaa9b089023ed937d23.jpg: ignoring corrupt image/label: Label class 18 exceeds dataset class count 18. Possible class labels are 0-17\n",
      "\u001b[34m\u001b[1mtrain: \u001b[0mWARNING ⚠️ /sfs/ceph/standard/sds_managed_sadewole/DS6050_SP25/group6/kaggle/kaggle_flowchart_yolo/images/train/99_jpg.rf.aa241d92f7cf9523e4258bbfa716495c.jpg: ignoring corrupt image/label: Label class 18 exceeds dataset class count 18. Possible class labels are 0-17\n",
      "\u001b[34m\u001b[1mtrain: \u001b[0mWARNING ⚠️ /sfs/ceph/standard/sds_managed_sadewole/DS6050_SP25/group6/kaggle/kaggle_flowchart_yolo/images/train/99_jpg.rf.c26b52974290a9d4cc5909299ff736a5.jpg: ignoring corrupt image/label: Label class 18 exceeds dataset class count 18. Possible class labels are 0-17\n",
      "\u001b[34m\u001b[1mtrain: \u001b[0mWARNING ⚠️ /sfs/ceph/standard/sds_managed_sadewole/DS6050_SP25/group6/kaggle/kaggle_flowchart_yolo/images/train/99_jpg.rf.cda2d7cd51a0fc856d746b912f7e9652.jpg: ignoring corrupt image/label: Label class 18 exceeds dataset class count 18. Possible class labels are 0-17\n"
     ]
    },
    {
     "name": "stderr",
     "output_type": "stream",
     "text": [
      "\n",
      "/home/dfe2zj/.local/lib/python3.12/site-packages/torch/utils/data/dataloader.py:624: UserWarning: This DataLoader will create 8 worker processes in total. Our suggested max number of worker in current system is 1, which is smaller than what this DataLoader is going to create. Please be aware that excessive worker creation might get DataLoader running slow or even freeze, lower the worker number to avoid potential slowness/freeze if necessary.\n",
      "  warnings.warn(\n",
      "\u001b[34m\u001b[1mval: \u001b[0mScanning /sfs/ceph/standard/sds_managed_sadewole/DS6050_SP25/group6/kaggle/kaggle_flowchart_yolo/labels/val.cache... 251 images, 0 backgrounds, 75 corrupt: 100%|██████████| 251/251 [00:00<?, ?it/s]"
     ]
    },
    {
     "name": "stdout",
     "output_type": "stream",
     "text": [
      "\u001b[34m\u001b[1mval: \u001b[0mWARNING ⚠️ /sfs/ceph/standard/sds_managed_sadewole/DS6050_SP25/group6/kaggle/kaggle_flowchart_yolo/images/val/105_png.rf.b08a7a40577e38ffc63fbed170720bb9.jpg: ignoring corrupt image/label: Label class 18 exceeds dataset class count 18. Possible class labels are 0-17\n",
      "\u001b[34m\u001b[1mval: \u001b[0mWARNING ⚠️ /sfs/ceph/standard/sds_managed_sadewole/DS6050_SP25/group6/kaggle/kaggle_flowchart_yolo/images/val/106_jpg.rf.5875c6918001b9ac28175e75e234de42.jpg: ignoring corrupt image/label: Label class 18 exceeds dataset class count 18. Possible class labels are 0-17\n",
      "\u001b[34m\u001b[1mval: \u001b[0mWARNING ⚠️ /sfs/ceph/standard/sds_managed_sadewole/DS6050_SP25/group6/kaggle/kaggle_flowchart_yolo/images/val/106_jpg.rf.c083d9924744066883a17fb726c83c14.jpg: ignoring corrupt image/label: Label class 18 exceeds dataset class count 18. Possible class labels are 0-17\n",
      "\u001b[34m\u001b[1mval: \u001b[0mWARNING ⚠️ /sfs/ceph/standard/sds_managed_sadewole/DS6050_SP25/group6/kaggle/kaggle_flowchart_yolo/images/val/106_jpg.rf.e61d14d70c3d000c67df2865a12c1c1e.jpg: ignoring corrupt image/label: Label class 18 exceeds dataset class count 18. Possible class labels are 0-17\n",
      "\u001b[34m\u001b[1mval: \u001b[0mWARNING ⚠️ /sfs/ceph/standard/sds_managed_sadewole/DS6050_SP25/group6/kaggle/kaggle_flowchart_yolo/images/val/110_png.rf.3624050bf13aa6765234b7794978d08e.jpg: ignoring corrupt image/label: Label class 18 exceeds dataset class count 18. Possible class labels are 0-17\n",
      "\u001b[34m\u001b[1mval: \u001b[0mWARNING ⚠️ /sfs/ceph/standard/sds_managed_sadewole/DS6050_SP25/group6/kaggle/kaggle_flowchart_yolo/images/val/111_png.rf.dcfd97757f983fc67a83413f960616c7.jpg: ignoring corrupt image/label: Label class 18 exceeds dataset class count 18. Possible class labels are 0-17\n",
      "\u001b[34m\u001b[1mval: \u001b[0mWARNING ⚠️ /sfs/ceph/standard/sds_managed_sadewole/DS6050_SP25/group6/kaggle/kaggle_flowchart_yolo/images/val/113_png.rf.8968e535c8e2a241cd507a268362c680.jpg: ignoring corrupt image/label: Label class 18 exceeds dataset class count 18. Possible class labels are 0-17\n",
      "\u001b[34m\u001b[1mval: \u001b[0mWARNING ⚠️ /sfs/ceph/standard/sds_managed_sadewole/DS6050_SP25/group6/kaggle/kaggle_flowchart_yolo/images/val/113_png_jpg.rf.1f5249f367d7d06d204854c317b4d700.jpg: ignoring corrupt image/label: Label class 18 exceeds dataset class count 18. Possible class labels are 0-17\n",
      "\u001b[34m\u001b[1mval: \u001b[0mWARNING ⚠️ /sfs/ceph/standard/sds_managed_sadewole/DS6050_SP25/group6/kaggle/kaggle_flowchart_yolo/images/val/11_png.rf.db94d2f6b4f8627b9ec9cb68c3f6a967.jpg: ignoring corrupt image/label: Label class 18 exceeds dataset class count 18. Possible class labels are 0-17\n",
      "\u001b[34m\u001b[1mval: \u001b[0mWARNING ⚠️ /sfs/ceph/standard/sds_managed_sadewole/DS6050_SP25/group6/kaggle/kaggle_flowchart_yolo/images/val/11_png_jpg.rf.a9f771022d51af8f063e6f46549c54a6.jpg: ignoring corrupt image/label: Label class 18 exceeds dataset class count 18. Possible class labels are 0-17\n",
      "\u001b[34m\u001b[1mval: \u001b[0mWARNING ⚠️ /sfs/ceph/standard/sds_managed_sadewole/DS6050_SP25/group6/kaggle/kaggle_flowchart_yolo/images/val/131_jpg.rf.2860bfc94cc56f418ea17ef3be1efb43.jpg: ignoring corrupt image/label: Label class 18 exceeds dataset class count 18. Possible class labels are 0-17\n",
      "\u001b[34m\u001b[1mval: \u001b[0mWARNING ⚠️ /sfs/ceph/standard/sds_managed_sadewole/DS6050_SP25/group6/kaggle/kaggle_flowchart_yolo/images/val/131_jpg.rf.40d16ef76974893ac71b4cb56707c0d1.jpg: ignoring corrupt image/label: Label class 18 exceeds dataset class count 18. Possible class labels are 0-17\n",
      "\u001b[34m\u001b[1mval: \u001b[0mWARNING ⚠️ /sfs/ceph/standard/sds_managed_sadewole/DS6050_SP25/group6/kaggle/kaggle_flowchart_yolo/images/val/131_jpg.rf.a629e6df604b5d97317b4cb253ffbb5b.jpg: ignoring corrupt image/label: Label class 18 exceeds dataset class count 18. Possible class labels are 0-17\n",
      "\u001b[34m\u001b[1mval: \u001b[0mWARNING ⚠️ /sfs/ceph/standard/sds_managed_sadewole/DS6050_SP25/group6/kaggle/kaggle_flowchart_yolo/images/val/13_jpeg.rf.a22b8cb17feee1444322a7bf8bbc4ae4.jpg: ignoring corrupt image/label: Label class 18 exceeds dataset class count 18. Possible class labels are 0-17\n",
      "\u001b[34m\u001b[1mval: \u001b[0mWARNING ⚠️ /sfs/ceph/standard/sds_managed_sadewole/DS6050_SP25/group6/kaggle/kaggle_flowchart_yolo/images/val/13_jpeg_jpg.rf.02eb7f371dce2cf9b33553a7b19aad4a.jpg: ignoring corrupt image/label: Label class 18 exceeds dataset class count 18. Possible class labels are 0-17\n",
      "\u001b[34m\u001b[1mval: \u001b[0mWARNING ⚠️ /sfs/ceph/standard/sds_managed_sadewole/DS6050_SP25/group6/kaggle/kaggle_flowchart_yolo/images/val/146_png.rf.09944bac162e8d4e370fbe021d503f19.jpg: ignoring corrupt image/label: Label class 18 exceeds dataset class count 18. Possible class labels are 0-17\n",
      "\u001b[34m\u001b[1mval: \u001b[0mWARNING ⚠️ /sfs/ceph/standard/sds_managed_sadewole/DS6050_SP25/group6/kaggle/kaggle_flowchart_yolo/images/val/146_png_jpg.rf.a9c2a54706aaa2fde7dc0891289fd999.jpg: ignoring corrupt image/label: Label class 18 exceeds dataset class count 18. Possible class labels are 0-17\n",
      "\u001b[34m\u001b[1mval: \u001b[0mWARNING ⚠️ /sfs/ceph/standard/sds_managed_sadewole/DS6050_SP25/group6/kaggle/kaggle_flowchart_yolo/images/val/160_png_jpg.rf.fc6922b089fd2d3fcb73f08206a12dd3.jpg: ignoring corrupt image/label: Label class 18 exceeds dataset class count 18. Possible class labels are 0-17\n",
      "\u001b[34m\u001b[1mval: \u001b[0mWARNING ⚠️ /sfs/ceph/standard/sds_managed_sadewole/DS6050_SP25/group6/kaggle/kaggle_flowchart_yolo/images/val/161_png.rf.cd74f2f908a12e79973735fb63c710b1.jpg: ignoring corrupt image/label: Label class 18 exceeds dataset class count 18. Possible class labels are 0-17\n",
      "\u001b[34m\u001b[1mval: \u001b[0mWARNING ⚠️ /sfs/ceph/standard/sds_managed_sadewole/DS6050_SP25/group6/kaggle/kaggle_flowchart_yolo/images/val/161_png_jpg.rf.5d384b9d018679a84c5b4687b90a619e.jpg: ignoring corrupt image/label: Label class 18 exceeds dataset class count 18. Possible class labels are 0-17\n",
      "\u001b[34m\u001b[1mval: \u001b[0mWARNING ⚠️ /sfs/ceph/standard/sds_managed_sadewole/DS6050_SP25/group6/kaggle/kaggle_flowchart_yolo/images/val/183_png_jpg.rf.210e76699f202ab520ea882f3a6917b3.jpg: ignoring corrupt image/label: Label class 18 exceeds dataset class count 18. Possible class labels are 0-17\n",
      "\u001b[34m\u001b[1mval: \u001b[0mWARNING ⚠️ /sfs/ceph/standard/sds_managed_sadewole/DS6050_SP25/group6/kaggle/kaggle_flowchart_yolo/images/val/186_jpeg_jpg.rf.1d87a7db0271527d28d0d522e857c1fb.jpg: ignoring corrupt image/label: Label class 18 exceeds dataset class count 18. Possible class labels are 0-17\n",
      "\u001b[34m\u001b[1mval: \u001b[0mWARNING ⚠️ /sfs/ceph/standard/sds_managed_sadewole/DS6050_SP25/group6/kaggle/kaggle_flowchart_yolo/images/val/194_jpeg_jpg.rf.af4ab2bba601bdd4397ac9339ba6cd41.jpg: ignoring corrupt image/label: Label class 18 exceeds dataset class count 18. Possible class labels are 0-17\n",
      "\u001b[34m\u001b[1mval: \u001b[0mWARNING ⚠️ /sfs/ceph/standard/sds_managed_sadewole/DS6050_SP25/group6/kaggle/kaggle_flowchart_yolo/images/val/205_png.rf.18b8cd3333e7b3ce0a5e64e7c4790228.jpg: ignoring corrupt image/label: Label class 18 exceeds dataset class count 18. Possible class labels are 0-17\n",
      "\u001b[34m\u001b[1mval: \u001b[0mWARNING ⚠️ /sfs/ceph/standard/sds_managed_sadewole/DS6050_SP25/group6/kaggle/kaggle_flowchart_yolo/images/val/205_png_jpg.rf.451a009e75022e213346c31bd0df6869.jpg: ignoring corrupt image/label: Label class 18 exceeds dataset class count 18. Possible class labels are 0-17\n",
      "\u001b[34m\u001b[1mval: \u001b[0mWARNING ⚠️ /sfs/ceph/standard/sds_managed_sadewole/DS6050_SP25/group6/kaggle/kaggle_flowchart_yolo/images/val/209_png.rf.956518a2486d535f6e90edcc27509249.jpg: ignoring corrupt image/label: Label class 18 exceeds dataset class count 18. Possible class labels are 0-17\n",
      "\u001b[34m\u001b[1mval: \u001b[0mWARNING ⚠️ /sfs/ceph/standard/sds_managed_sadewole/DS6050_SP25/group6/kaggle/kaggle_flowchart_yolo/images/val/209_png_jpg.rf.84f95e3eff4b5d73f14f088ea305b84d.jpg: ignoring corrupt image/label: Label class 18 exceeds dataset class count 18. Possible class labels are 0-17\n",
      "\u001b[34m\u001b[1mval: \u001b[0mWARNING ⚠️ /sfs/ceph/standard/sds_managed_sadewole/DS6050_SP25/group6/kaggle/kaggle_flowchart_yolo/images/val/21_png.rf.cb0cc7fd0558ed461a6241e777fde3cc.jpg: ignoring corrupt image/label: Label class 18 exceeds dataset class count 18. Possible class labels are 0-17\n",
      "\u001b[34m\u001b[1mval: \u001b[0mWARNING ⚠️ /sfs/ceph/standard/sds_managed_sadewole/DS6050_SP25/group6/kaggle/kaggle_flowchart_yolo/images/val/21_png_jpg.rf.05cb7a6afc3bf444c752105eca0deb08.jpg: ignoring corrupt image/label: Label class 18 exceeds dataset class count 18. Possible class labels are 0-17\n",
      "\u001b[34m\u001b[1mval: \u001b[0mWARNING ⚠️ /sfs/ceph/standard/sds_managed_sadewole/DS6050_SP25/group6/kaggle/kaggle_flowchart_yolo/images/val/21_png_jpg.rf.72f7e1196786ea32bd5afc345df788a9.jpg: ignoring corrupt image/label: Label class 18 exceeds dataset class count 18. Possible class labels are 0-17\n",
      "\u001b[34m\u001b[1mval: \u001b[0mWARNING ⚠️ /sfs/ceph/standard/sds_managed_sadewole/DS6050_SP25/group6/kaggle/kaggle_flowchart_yolo/images/val/225_png_jpg.rf.9fafb918611ff45786cac22bd1304c35.jpg: ignoring corrupt image/label: Label class 18 exceeds dataset class count 18. Possible class labels are 0-17\n",
      "\u001b[34m\u001b[1mval: \u001b[0mWARNING ⚠️ /sfs/ceph/standard/sds_managed_sadewole/DS6050_SP25/group6/kaggle/kaggle_flowchart_yolo/images/val/231_png_jpg.rf.b2aed1006b3a63393279608bd1eb857a.jpg: ignoring corrupt image/label: Label class 18 exceeds dataset class count 18. Possible class labels are 0-17\n",
      "\u001b[34m\u001b[1mval: \u001b[0mWARNING ⚠️ /sfs/ceph/standard/sds_managed_sadewole/DS6050_SP25/group6/kaggle/kaggle_flowchart_yolo/images/val/249_png.rf.393a2c46f624caabffa2d8d6872918ef.jpg: ignoring corrupt image/label: Label class 18 exceeds dataset class count 18. Possible class labels are 0-17\n",
      "\u001b[34m\u001b[1mval: \u001b[0mWARNING ⚠️ /sfs/ceph/standard/sds_managed_sadewole/DS6050_SP25/group6/kaggle/kaggle_flowchart_yolo/images/val/249_png_jpg.rf.9871318b3c869e6d3c069e957f615121.jpg: ignoring corrupt image/label: Label class 18 exceeds dataset class count 18. Possible class labels are 0-17\n",
      "\u001b[34m\u001b[1mval: \u001b[0mWARNING ⚠️ /sfs/ceph/standard/sds_managed_sadewole/DS6050_SP25/group6/kaggle/kaggle_flowchart_yolo/images/val/249_png_jpg.rf.b7dbfba0fb9e20015c7ad75292b27100.jpg: ignoring corrupt image/label: Label class 18 exceeds dataset class count 18. Possible class labels are 0-17\n",
      "\u001b[34m\u001b[1mval: \u001b[0mWARNING ⚠️ /sfs/ceph/standard/sds_managed_sadewole/DS6050_SP25/group6/kaggle/kaggle_flowchart_yolo/images/val/258_png.rf.44fee98af50470d3a129155262fa96da.jpg: ignoring corrupt image/label: Label class 18 exceeds dataset class count 18. Possible class labels are 0-17\n",
      "\u001b[34m\u001b[1mval: \u001b[0mWARNING ⚠️ /sfs/ceph/standard/sds_managed_sadewole/DS6050_SP25/group6/kaggle/kaggle_flowchart_yolo/images/val/258_png_jpg.rf.a6265ce1ed8053d7a36b4dddbbb72873.jpg: ignoring corrupt image/label: Label class 18 exceeds dataset class count 18. Possible class labels are 0-17\n",
      "\u001b[34m\u001b[1mval: \u001b[0mWARNING ⚠️ /sfs/ceph/standard/sds_managed_sadewole/DS6050_SP25/group6/kaggle/kaggle_flowchart_yolo/images/val/25_png.rf.9a6b938d8fe8f3ede410d8d154d8eeb2.jpg: ignoring corrupt image/label: Label class 18 exceeds dataset class count 18. Possible class labels are 0-17\n",
      "\u001b[34m\u001b[1mval: \u001b[0mWARNING ⚠️ /sfs/ceph/standard/sds_managed_sadewole/DS6050_SP25/group6/kaggle/kaggle_flowchart_yolo/images/val/25_png_jpg.rf.365db008c722c96198526141f0a64574.jpg: ignoring corrupt image/label: Label class 18 exceeds dataset class count 18. Possible class labels are 0-17\n",
      "\u001b[34m\u001b[1mval: \u001b[0mWARNING ⚠️ /sfs/ceph/standard/sds_managed_sadewole/DS6050_SP25/group6/kaggle/kaggle_flowchart_yolo/images/val/271_png.rf.5bcb8f41b7fe091bf06286469b41065f.jpg: ignoring corrupt image/label: Label class 18 exceeds dataset class count 18. Possible class labels are 0-17\n",
      "\u001b[34m\u001b[1mval: \u001b[0mWARNING ⚠️ /sfs/ceph/standard/sds_managed_sadewole/DS6050_SP25/group6/kaggle/kaggle_flowchart_yolo/images/val/271_png_jpg.rf.c64d0832d36c0a5b66adb47189c93d45.jpg: ignoring corrupt image/label: Label class 18 exceeds dataset class count 18. Possible class labels are 0-17\n",
      "\u001b[34m\u001b[1mval: \u001b[0mWARNING ⚠️ /sfs/ceph/standard/sds_managed_sadewole/DS6050_SP25/group6/kaggle/kaggle_flowchart_yolo/images/val/281_png.rf.1ededb6deec1b60822ccbe68a2d2549f.jpg: ignoring corrupt image/label: Label class 18 exceeds dataset class count 18. Possible class labels are 0-17\n",
      "\u001b[34m\u001b[1mval: \u001b[0mWARNING ⚠️ /sfs/ceph/standard/sds_managed_sadewole/DS6050_SP25/group6/kaggle/kaggle_flowchart_yolo/images/val/281_png_jpg.rf.bbc39386ebbe1ab693da142fcca777fd.jpg: ignoring corrupt image/label: Label class 18 exceeds dataset class count 18. Possible class labels are 0-17\n",
      "\u001b[34m\u001b[1mval: \u001b[0mWARNING ⚠️ /sfs/ceph/standard/sds_managed_sadewole/DS6050_SP25/group6/kaggle/kaggle_flowchart_yolo/images/val/287_png.rf.b74409e48debb459ebea6407ba7b03d1.jpg: ignoring corrupt image/label: Label class 18 exceeds dataset class count 18. Possible class labels are 0-17\n",
      "\u001b[34m\u001b[1mval: \u001b[0mWARNING ⚠️ /sfs/ceph/standard/sds_managed_sadewole/DS6050_SP25/group6/kaggle/kaggle_flowchart_yolo/images/val/287_png_jpg.rf.d3a916fc2922b06ad502d5fea5131724.jpg: ignoring corrupt image/label: Label class 18 exceeds dataset class count 18. Possible class labels are 0-17\n",
      "\u001b[34m\u001b[1mval: \u001b[0mWARNING ⚠️ /sfs/ceph/standard/sds_managed_sadewole/DS6050_SP25/group6/kaggle/kaggle_flowchart_yolo/images/val/289_png_jpg.rf.fcec50ae2523859ee652de26c2e73a63.jpg: ignoring corrupt image/label: Label class 18 exceeds dataset class count 18. Possible class labels are 0-17\n",
      "\u001b[34m\u001b[1mval: \u001b[0mWARNING ⚠️ /sfs/ceph/standard/sds_managed_sadewole/DS6050_SP25/group6/kaggle/kaggle_flowchart_yolo/images/val/301_png.rf.b29b2e5f946798acce173a909c2abd93.jpg: ignoring corrupt image/label: Label class 18 exceeds dataset class count 18. Possible class labels are 0-17\n",
      "\u001b[34m\u001b[1mval: \u001b[0mWARNING ⚠️ /sfs/ceph/standard/sds_managed_sadewole/DS6050_SP25/group6/kaggle/kaggle_flowchart_yolo/images/val/301_png_jpg.rf.61a452e5c13b03bb5c9f34b4ddff86f1.jpg: ignoring corrupt image/label: Label class 18 exceeds dataset class count 18. Possible class labels are 0-17\n",
      "\u001b[34m\u001b[1mval: \u001b[0mWARNING ⚠️ /sfs/ceph/standard/sds_managed_sadewole/DS6050_SP25/group6/kaggle/kaggle_flowchart_yolo/images/val/301_png_jpg.rf.8577d3787222975331636cbbc8e65cc9.jpg: ignoring corrupt image/label: Label class 18 exceeds dataset class count 18. Possible class labels are 0-17\n",
      "\u001b[34m\u001b[1mval: \u001b[0mWARNING ⚠️ /sfs/ceph/standard/sds_managed_sadewole/DS6050_SP25/group6/kaggle/kaggle_flowchart_yolo/images/val/317_png.rf.72b1a5da993a2ddfc7759e91d1a9dde2.jpg: ignoring corrupt image/label: Label class 18 exceeds dataset class count 18. Possible class labels are 0-17\n",
      "\u001b[34m\u001b[1mval: \u001b[0mWARNING ⚠️ /sfs/ceph/standard/sds_managed_sadewole/DS6050_SP25/group6/kaggle/kaggle_flowchart_yolo/images/val/317_png_jpg.rf.84e024f115fd6bf2994c975af39fdcb4.jpg: ignoring corrupt image/label: Label class 18 exceeds dataset class count 18. Possible class labels are 0-17\n",
      "\u001b[34m\u001b[1mval: \u001b[0mWARNING ⚠️ /sfs/ceph/standard/sds_managed_sadewole/DS6050_SP25/group6/kaggle/kaggle_flowchart_yolo/images/val/353_jpeg.rf.3e433a42d3757b75808b438f0883932e.jpg: ignoring corrupt image/label: Label class 18 exceeds dataset class count 18. Possible class labels are 0-17\n",
      "\u001b[34m\u001b[1mval: \u001b[0mWARNING ⚠️ /sfs/ceph/standard/sds_managed_sadewole/DS6050_SP25/group6/kaggle/kaggle_flowchart_yolo/images/val/353_jpeg_jpg.rf.2f9210b39de9db0312b9f0c604ddf464.jpg: ignoring corrupt image/label: Label class 18 exceeds dataset class count 18. Possible class labels are 0-17\n",
      "\u001b[34m\u001b[1mval: \u001b[0mWARNING ⚠️ /sfs/ceph/standard/sds_managed_sadewole/DS6050_SP25/group6/kaggle/kaggle_flowchart_yolo/images/val/353_jpeg_jpg.rf.6e60cc745ec59c8c549ef5c749a99ca0.jpg: ignoring corrupt image/label: Label class 18 exceeds dataset class count 18. Possible class labels are 0-17\n",
      "\u001b[34m\u001b[1mval: \u001b[0mWARNING ⚠️ /sfs/ceph/standard/sds_managed_sadewole/DS6050_SP25/group6/kaggle/kaggle_flowchart_yolo/images/val/372_jpeg.rf.0f43da908dd1da572a2477bf6a55a907.jpg: ignoring corrupt image/label: Label class 18 exceeds dataset class count 18. Possible class labels are 0-17\n",
      "\u001b[34m\u001b[1mval: \u001b[0mWARNING ⚠️ /sfs/ceph/standard/sds_managed_sadewole/DS6050_SP25/group6/kaggle/kaggle_flowchart_yolo/images/val/372_jpeg_jpg.rf.1eec58c61432fbc657be110257ab27ab.jpg: ignoring corrupt image/label: Label class 18 exceeds dataset class count 18. Possible class labels are 0-17\n",
      "\u001b[34m\u001b[1mval: \u001b[0mWARNING ⚠️ /sfs/ceph/standard/sds_managed_sadewole/DS6050_SP25/group6/kaggle/kaggle_flowchart_yolo/images/val/376_png.rf.5ec34fa45dc3ec114be2454dc554f106.jpg: ignoring corrupt image/label: Label class 18 exceeds dataset class count 18. Possible class labels are 0-17\n",
      "\u001b[34m\u001b[1mval: \u001b[0mWARNING ⚠️ /sfs/ceph/standard/sds_managed_sadewole/DS6050_SP25/group6/kaggle/kaggle_flowchart_yolo/images/val/376_png_jpg.rf.280dc2e78d6e576dffc70ca97ff91354.jpg: ignoring corrupt image/label: Label class 18 exceeds dataset class count 18. Possible class labels are 0-17\n",
      "\u001b[34m\u001b[1mval: \u001b[0mWARNING ⚠️ /sfs/ceph/standard/sds_managed_sadewole/DS6050_SP25/group6/kaggle/kaggle_flowchart_yolo/images/val/376_png_jpg.rf.4a18b9e803be6dfb7998ffccc528c389.jpg: ignoring corrupt image/label: Label class 18 exceeds dataset class count 18. Possible class labels are 0-17\n",
      "\u001b[34m\u001b[1mval: \u001b[0mWARNING ⚠️ /sfs/ceph/standard/sds_managed_sadewole/DS6050_SP25/group6/kaggle/kaggle_flowchart_yolo/images/val/381_png_jpg.rf.40e91edc7a62898c76954bddea3aca8f.jpg: ignoring corrupt image/label: Label class 18 exceeds dataset class count 18. Possible class labels are 0-17\n",
      "\u001b[34m\u001b[1mval: \u001b[0mWARNING ⚠️ /sfs/ceph/standard/sds_managed_sadewole/DS6050_SP25/group6/kaggle/kaggle_flowchart_yolo/images/val/413_jpeg_jpg.rf.cfba5fe741ab78ed356cadc5bb3d11cd.jpg: ignoring corrupt image/label: Label class 18 exceeds dataset class count 18. Possible class labels are 0-17\n",
      "\u001b[34m\u001b[1mval: \u001b[0mWARNING ⚠️ /sfs/ceph/standard/sds_managed_sadewole/DS6050_SP25/group6/kaggle/kaggle_flowchart_yolo/images/val/455_png_jpg.rf.7ea4f73ec37fa3a290e03c32437021cd.jpg: ignoring corrupt image/label: Label class 18 exceeds dataset class count 18. Possible class labels are 0-17\n",
      "\u001b[34m\u001b[1mval: \u001b[0mWARNING ⚠️ /sfs/ceph/standard/sds_managed_sadewole/DS6050_SP25/group6/kaggle/kaggle_flowchart_yolo/images/val/47_png.rf.2d19ccbefaf2a7bfa85fea0ee67be36c.jpg: ignoring corrupt image/label: Label class 18 exceeds dataset class count 18. Possible class labels are 0-17\n",
      "\u001b[34m\u001b[1mval: \u001b[0mWARNING ⚠️ /sfs/ceph/standard/sds_managed_sadewole/DS6050_SP25/group6/kaggle/kaggle_flowchart_yolo/images/val/47_png_jpg.rf.54fe08f29ccded033e3e511a7680dfa7.jpg: ignoring corrupt image/label: Label class 18 exceeds dataset class count 18. Possible class labels are 0-17\n",
      "\u001b[34m\u001b[1mval: \u001b[0mWARNING ⚠️ /sfs/ceph/standard/sds_managed_sadewole/DS6050_SP25/group6/kaggle/kaggle_flowchart_yolo/images/val/65_png.rf.3f6c6e6bebbeb113493b4e3b54523da9.jpg: ignoring corrupt image/label: Label class 18 exceeds dataset class count 18. Possible class labels are 0-17\n",
      "\u001b[34m\u001b[1mval: \u001b[0mWARNING ⚠️ /sfs/ceph/standard/sds_managed_sadewole/DS6050_SP25/group6/kaggle/kaggle_flowchart_yolo/images/val/65_png_jpg.rf.3a4c17e23764b3c882c7491896a18461.jpg: ignoring corrupt image/label: Label class 18 exceeds dataset class count 18. Possible class labels are 0-17\n",
      "\u001b[34m\u001b[1mval: \u001b[0mWARNING ⚠️ /sfs/ceph/standard/sds_managed_sadewole/DS6050_SP25/group6/kaggle/kaggle_flowchart_yolo/images/val/69_png_jpg.rf.04bb6d1323d5077efb6d828e49cd549b.jpg: ignoring corrupt image/label: Label class 18 exceeds dataset class count 18. Possible class labels are 0-17\n",
      "\u001b[34m\u001b[1mval: \u001b[0mWARNING ⚠️ /sfs/ceph/standard/sds_managed_sadewole/DS6050_SP25/group6/kaggle/kaggle_flowchart_yolo/images/val/74_jpg.rf.1f6d6c65e6864fd0682d79f52a3e8a51.jpg: ignoring corrupt image/label: Label class 18 exceeds dataset class count 18. Possible class labels are 0-17\n",
      "\u001b[34m\u001b[1mval: \u001b[0mWARNING ⚠️ /sfs/ceph/standard/sds_managed_sadewole/DS6050_SP25/group6/kaggle/kaggle_flowchart_yolo/images/val/74_jpg.rf.90b7ac7421a2e121dd2eef5acfcf62a0.jpg: ignoring corrupt image/label: Label class 18 exceeds dataset class count 18. Possible class labels are 0-17\n",
      "\u001b[34m\u001b[1mval: \u001b[0mWARNING ⚠️ /sfs/ceph/standard/sds_managed_sadewole/DS6050_SP25/group6/kaggle/kaggle_flowchart_yolo/images/val/74_jpg.rf.919be6ff987d8a5d8b82afdc304d78a3.jpg: ignoring corrupt image/label: Label class 18 exceeds dataset class count 18. Possible class labels are 0-17\n",
      "\u001b[34m\u001b[1mval: \u001b[0mWARNING ⚠️ /sfs/ceph/standard/sds_managed_sadewole/DS6050_SP25/group6/kaggle/kaggle_flowchart_yolo/images/val/75_png_jpg.rf.65cc64c6658d6f8a6e5898516524efb7.jpg: ignoring corrupt image/label: Label class 18 exceeds dataset class count 18. Possible class labels are 0-17\n",
      "\u001b[34m\u001b[1mval: \u001b[0mWARNING ⚠️ /sfs/ceph/standard/sds_managed_sadewole/DS6050_SP25/group6/kaggle/kaggle_flowchart_yolo/images/val/85_jpg.rf.5aeb22b67f3dc497601c069588921c2b.jpg: ignoring corrupt image/label: Label class 18 exceeds dataset class count 18. Possible class labels are 0-17\n",
      "\u001b[34m\u001b[1mval: \u001b[0mWARNING ⚠️ /sfs/ceph/standard/sds_managed_sadewole/DS6050_SP25/group6/kaggle/kaggle_flowchart_yolo/images/val/92_png_jpg.rf.1bdc608864ecf41ff9d01b2cff672174.jpg: ignoring corrupt image/label: Label class 18 exceeds dataset class count 18. Possible class labels are 0-17\n",
      "\u001b[34m\u001b[1mval: \u001b[0mWARNING ⚠️ /sfs/ceph/standard/sds_managed_sadewole/DS6050_SP25/group6/kaggle/kaggle_flowchart_yolo/images/val/98_png_jpg.rf.e1e4e40aff71a25ce7d1f63825d8de3d.jpg: ignoring corrupt image/label: Label class 18 exceeds dataset class count 18. Possible class labels are 0-17\n",
      "\u001b[34m\u001b[1mval: \u001b[0mWARNING ⚠️ /sfs/ceph/standard/sds_managed_sadewole/DS6050_SP25/group6/kaggle/kaggle_flowchart_yolo/images/val/993_jpg.rf.71e99b2883a69f86bacb1f8723795796.jpg: ignoring corrupt image/label: Label class 18 exceeds dataset class count 18. Possible class labels are 0-17\n"
     ]
    },
    {
     "name": "stderr",
     "output_type": "stream",
     "text": [
      "\n",
      "/home/dfe2zj/.local/lib/python3.12/site-packages/torch/utils/data/dataloader.py:624: UserWarning: This DataLoader will create 16 worker processes in total. Our suggested max number of worker in current system is 1, which is smaller than what this DataLoader is going to create. Please be aware that excessive worker creation might get DataLoader running slow or even freeze, lower the worker number to avoid potential slowness/freeze if necessary.\n",
      "  warnings.warn(\n"
     ]
    },
    {
     "name": "stdout",
     "output_type": "stream",
     "text": [
      "Plotting labels to runs/train_flowchart/v9_flowchart_v1/labels.jpg... \n",
      "\u001b[34m\u001b[1moptimizer:\u001b[0m 'optimizer=auto' found, ignoring 'lr0=0.01' and 'momentum=0.937' and determining best 'optimizer', 'lr0' and 'momentum' automatically... \n",
      "\u001b[34m\u001b[1moptimizer:\u001b[0m AdamW(lr=0.000455, momentum=0.9) with parameter groups 221 weight(decay=0.0), 228 weight(decay=0.0005), 227 bias(decay=0.0)\n",
      "\u001b[34m\u001b[1mTensorBoard: \u001b[0mmodel graph visualization added ✅\n",
      "Image sizes 640 train, 640 val\n",
      "Using 8 dataloader workers\n",
      "Logging results to \u001b[1mruns/train_flowchart/v9_flowchart_v1\u001b[0m\n",
      "Starting training for 40 epochs...\n",
      "\n",
      "      Epoch    GPU_mem   box_loss   cls_loss   dfl_loss  Instances       Size\n"
     ]
    },
    {
     "name": "stderr",
     "output_type": "stream",
     "text": [
      "       1/40      2.89G     0.8706     0.6267      1.007         28        640: 100%|██████████| 122/122 [00:43<00:00,  2.78it/s]\n",
      "                 Class     Images  Instances      Box(P          R      mAP50  mAP50-95): 100%|██████████| 11/11 [00:02<00:00,  4.43it/s]"
     ]
    },
    {
     "name": "stdout",
     "output_type": "stream",
     "text": [
      "                   all        176       3844      0.625      0.694      0.707      0.489\n"
     ]
    },
    {
     "name": "stderr",
     "output_type": "stream",
     "text": [
      "\n"
     ]
    },
    {
     "name": "stdout",
     "output_type": "stream",
     "text": [
      "\n",
      "      Epoch    GPU_mem   box_loss   cls_loss   dfl_loss  Instances       Size\n"
     ]
    },
    {
     "name": "stderr",
     "output_type": "stream",
     "text": [
      "       2/40      3.11G      0.891     0.6233      1.015         45        640: 100%|██████████| 122/122 [00:31<00:00,  3.87it/s]\n",
      "                 Class     Images  Instances      Box(P          R      mAP50  mAP50-95): 100%|██████████| 11/11 [00:01<00:00,  6.26it/s]"
     ]
    },
    {
     "name": "stdout",
     "output_type": "stream",
     "text": [
      "                   all        176       3844      0.672      0.673      0.677      0.448\n"
     ]
    },
    {
     "name": "stderr",
     "output_type": "stream",
     "text": [
      "\n"
     ]
    },
    {
     "name": "stdout",
     "output_type": "stream",
     "text": [
      "\n",
      "      Epoch    GPU_mem   box_loss   cls_loss   dfl_loss  Instances       Size\n"
     ]
    },
    {
     "name": "stderr",
     "output_type": "stream",
     "text": [
      "       3/40      3.11G     0.8892     0.6306      1.019         21        640: 100%|██████████| 122/122 [00:30<00:00,  3.95it/s]\n",
      "                 Class     Images  Instances      Box(P          R      mAP50  mAP50-95): 100%|██████████| 11/11 [00:01<00:00,  6.36it/s]"
     ]
    },
    {
     "name": "stdout",
     "output_type": "stream",
     "text": [
      "                   all        176       3844      0.605      0.723      0.727      0.497\n"
     ]
    },
    {
     "name": "stderr",
     "output_type": "stream",
     "text": [
      "\n"
     ]
    },
    {
     "name": "stdout",
     "output_type": "stream",
     "text": [
      "\n",
      "      Epoch    GPU_mem   box_loss   cls_loss   dfl_loss  Instances       Size\n"
     ]
    },
    {
     "name": "stderr",
     "output_type": "stream",
     "text": [
      "       4/40      3.11G      0.874      0.623      1.007          7        640: 100%|██████████| 122/122 [00:32<00:00,  3.80it/s]\n",
      "                 Class     Images  Instances      Box(P          R      mAP50  mAP50-95): 100%|██████████| 11/11 [00:02<00:00,  4.06it/s]"
     ]
    },
    {
     "name": "stdout",
     "output_type": "stream",
     "text": [
      "                   all        176       3844      0.632      0.689      0.738      0.508\n"
     ]
    },
    {
     "name": "stderr",
     "output_type": "stream",
     "text": [
      "\n"
     ]
    },
    {
     "name": "stdout",
     "output_type": "stream",
     "text": [
      "\n",
      "      Epoch    GPU_mem   box_loss   cls_loss   dfl_loss  Instances       Size\n"
     ]
    },
    {
     "name": "stderr",
     "output_type": "stream",
     "text": [
      "       5/40      3.15G     0.8763     0.6038      1.005         17        640: 100%|██████████| 122/122 [00:36<00:00,  3.37it/s]\n",
      "                 Class     Images  Instances      Box(P          R      mAP50  mAP50-95): 100%|██████████| 11/11 [00:02<00:00,  4.17it/s]"
     ]
    },
    {
     "name": "stdout",
     "output_type": "stream",
     "text": [
      "                   all        176       3844      0.631      0.731      0.754      0.516\n"
     ]
    },
    {
     "name": "stderr",
     "output_type": "stream",
     "text": [
      "\n"
     ]
    },
    {
     "name": "stdout",
     "output_type": "stream",
     "text": [
      "\n",
      "      Epoch    GPU_mem   box_loss   cls_loss   dfl_loss  Instances       Size\n"
     ]
    },
    {
     "name": "stderr",
     "output_type": "stream",
     "text": [
      "       6/40      3.19G     0.8573     0.5815          1         40        640: 100%|██████████| 122/122 [00:31<00:00,  3.88it/s]\n",
      "                 Class     Images  Instances      Box(P          R      mAP50  mAP50-95): 100%|██████████| 11/11 [00:01<00:00,  6.41it/s]"
     ]
    },
    {
     "name": "stdout",
     "output_type": "stream",
     "text": [
      "                   all        176       3844      0.735      0.648      0.732      0.501\n"
     ]
    },
    {
     "name": "stderr",
     "output_type": "stream",
     "text": [
      "\n"
     ]
    },
    {
     "name": "stdout",
     "output_type": "stream",
     "text": [
      "\n",
      "      Epoch    GPU_mem   box_loss   cls_loss   dfl_loss  Instances       Size\n"
     ]
    },
    {
     "name": "stderr",
     "output_type": "stream",
     "text": [
      "       7/40      3.36G     0.8541     0.5823      0.996         22        640: 100%|██████████| 122/122 [00:30<00:00,  4.00it/s]\n",
      "                 Class     Images  Instances      Box(P          R      mAP50  mAP50-95): 100%|██████████| 11/11 [00:01<00:00,  6.41it/s]"
     ]
    },
    {
     "name": "stdout",
     "output_type": "stream",
     "text": [
      "                   all        176       3844      0.694      0.679      0.737       0.49\n"
     ]
    },
    {
     "name": "stderr",
     "output_type": "stream",
     "text": [
      "\n"
     ]
    },
    {
     "name": "stdout",
     "output_type": "stream",
     "text": [
      "\n",
      "      Epoch    GPU_mem   box_loss   cls_loss   dfl_loss  Instances       Size\n"
     ]
    },
    {
     "name": "stderr",
     "output_type": "stream",
     "text": [
      "       8/40      3.36G     0.8364     0.5637     0.9885         25        640: 100%|██████████| 122/122 [00:33<00:00,  3.66it/s]\n",
      "                 Class     Images  Instances      Box(P          R      mAP50  mAP50-95): 100%|██████████| 11/11 [00:02<00:00,  4.14it/s]"
     ]
    },
    {
     "name": "stdout",
     "output_type": "stream",
     "text": [
      "                   all        176       3844      0.659      0.688      0.699      0.487\n"
     ]
    },
    {
     "name": "stderr",
     "output_type": "stream",
     "text": [
      "\n"
     ]
    },
    {
     "name": "stdout",
     "output_type": "stream",
     "text": [
      "\n",
      "      Epoch    GPU_mem   box_loss   cls_loss   dfl_loss  Instances       Size\n"
     ]
    },
    {
     "name": "stderr",
     "output_type": "stream",
     "text": [
      "       9/40      3.36G     0.8243     0.5639     0.9873          3        640: 100%|██████████| 122/122 [00:37<00:00,  3.25it/s]\n",
      "                 Class     Images  Instances      Box(P          R      mAP50  mAP50-95): 100%|██████████| 11/11 [00:01<00:00,  6.31it/s]"
     ]
    },
    {
     "name": "stdout",
     "output_type": "stream",
     "text": [
      "                   all        176       3844      0.667      0.721      0.745      0.508\n"
     ]
    },
    {
     "name": "stderr",
     "output_type": "stream",
     "text": [
      "\n"
     ]
    },
    {
     "name": "stdout",
     "output_type": "stream",
     "text": [
      "\n",
      "      Epoch    GPU_mem   box_loss   cls_loss   dfl_loss  Instances       Size\n"
     ]
    },
    {
     "name": "stderr",
     "output_type": "stream",
     "text": [
      "      10/40      3.36G      0.823      0.546     0.9848         17        640: 100%|██████████| 122/122 [00:32<00:00,  3.80it/s]\n",
      "                 Class     Images  Instances      Box(P          R      mAP50  mAP50-95): 100%|██████████| 11/11 [00:01<00:00,  6.34it/s]"
     ]
    },
    {
     "name": "stdout",
     "output_type": "stream",
     "text": [
      "                   all        176       3844      0.646      0.706      0.718      0.494\n"
     ]
    },
    {
     "name": "stderr",
     "output_type": "stream",
     "text": [
      "\n"
     ]
    },
    {
     "name": "stdout",
     "output_type": "stream",
     "text": [
      "\n",
      "      Epoch    GPU_mem   box_loss   cls_loss   dfl_loss  Instances       Size\n"
     ]
    },
    {
     "name": "stderr",
     "output_type": "stream",
     "text": [
      "      11/40      3.36G     0.8372      0.563     0.9954         53        640: 100%|██████████| 122/122 [00:30<00:00,  3.97it/s]\n",
      "                 Class     Images  Instances      Box(P          R      mAP50  mAP50-95): 100%|██████████| 11/11 [00:01<00:00,  6.34it/s]"
     ]
    },
    {
     "name": "stdout",
     "output_type": "stream",
     "text": [
      "                   all        176       3844      0.639      0.665      0.721      0.501\n"
     ]
    },
    {
     "name": "stderr",
     "output_type": "stream",
     "text": [
      "\n"
     ]
    },
    {
     "name": "stdout",
     "output_type": "stream",
     "text": [
      "\n",
      "      Epoch    GPU_mem   box_loss   cls_loss   dfl_loss  Instances       Size\n"
     ]
    },
    {
     "name": "stderr",
     "output_type": "stream",
     "text": [
      "      12/40      3.36G     0.8421     0.5565      0.993         35        640: 100%|██████████| 122/122 [00:36<00:00,  3.33it/s]\n",
      "                 Class     Images  Instances      Box(P          R      mAP50  mAP50-95): 100%|██████████| 11/11 [00:02<00:00,  4.14it/s]"
     ]
    },
    {
     "name": "stdout",
     "output_type": "stream",
     "text": [
      "                   all        176       3844      0.657      0.739      0.751       0.53\n"
     ]
    },
    {
     "name": "stderr",
     "output_type": "stream",
     "text": [
      "\n"
     ]
    },
    {
     "name": "stdout",
     "output_type": "stream",
     "text": [
      "\n",
      "      Epoch    GPU_mem   box_loss   cls_loss   dfl_loss  Instances       Size\n"
     ]
    },
    {
     "name": "stderr",
     "output_type": "stream",
     "text": [
      "      13/40      3.36G     0.8408     0.5607     0.9924          7        640: 100%|██████████| 122/122 [00:38<00:00,  3.19it/s]\n",
      "                 Class     Images  Instances      Box(P          R      mAP50  mAP50-95): 100%|██████████| 11/11 [00:02<00:00,  4.41it/s]"
     ]
    },
    {
     "name": "stdout",
     "output_type": "stream",
     "text": [
      "                   all        176       3844       0.66      0.713      0.745      0.527\n"
     ]
    },
    {
     "name": "stderr",
     "output_type": "stream",
     "text": [
      "\n"
     ]
    },
    {
     "name": "stdout",
     "output_type": "stream",
     "text": [
      "\n",
      "      Epoch    GPU_mem   box_loss   cls_loss   dfl_loss  Instances       Size\n"
     ]
    },
    {
     "name": "stderr",
     "output_type": "stream",
     "text": [
      "      14/40      3.36G      0.827     0.5398     0.9844         70        640: 100%|██████████| 122/122 [00:34<00:00,  3.53it/s]\n",
      "                 Class     Images  Instances      Box(P          R      mAP50  mAP50-95): 100%|██████████| 11/11 [00:01<00:00,  6.31it/s]"
     ]
    },
    {
     "name": "stdout",
     "output_type": "stream",
     "text": [
      "                   all        176       3844      0.652      0.767      0.759      0.548\n"
     ]
    },
    {
     "name": "stderr",
     "output_type": "stream",
     "text": [
      "\n"
     ]
    },
    {
     "name": "stdout",
     "output_type": "stream",
     "text": [
      "\n",
      "      Epoch    GPU_mem   box_loss   cls_loss   dfl_loss  Instances       Size\n"
     ]
    },
    {
     "name": "stderr",
     "output_type": "stream",
     "text": [
      "      15/40      3.36G     0.8278     0.5378     0.9914         16        640: 100%|██████████| 122/122 [00:31<00:00,  3.87it/s]\n",
      "                 Class     Images  Instances      Box(P          R      mAP50  mAP50-95): 100%|██████████| 11/11 [00:01<00:00,  6.36it/s]"
     ]
    },
    {
     "name": "stdout",
     "output_type": "stream",
     "text": [
      "                   all        176       3844      0.654      0.751      0.762      0.531\n"
     ]
    },
    {
     "name": "stderr",
     "output_type": "stream",
     "text": [
      "\n"
     ]
    },
    {
     "name": "stdout",
     "output_type": "stream",
     "text": [
      "\n",
      "      Epoch    GPU_mem   box_loss   cls_loss   dfl_loss  Instances       Size\n"
     ]
    },
    {
     "name": "stderr",
     "output_type": "stream",
     "text": [
      "      16/40      3.36G     0.8138     0.5291     0.9844         32        640: 100%|██████████| 122/122 [00:33<00:00,  3.68it/s]\n",
      "                 Class     Images  Instances      Box(P          R      mAP50  mAP50-95): 100%|██████████| 11/11 [00:02<00:00,  4.72it/s]"
     ]
    },
    {
     "name": "stdout",
     "output_type": "stream",
     "text": [
      "                   all        176       3844      0.706      0.768      0.784      0.555\n"
     ]
    },
    {
     "name": "stderr",
     "output_type": "stream",
     "text": [
      "\n"
     ]
    },
    {
     "name": "stdout",
     "output_type": "stream",
     "text": [
      "\n",
      "      Epoch    GPU_mem   box_loss   cls_loss   dfl_loss  Instances       Size\n"
     ]
    },
    {
     "name": "stderr",
     "output_type": "stream",
     "text": [
      "      17/40      3.36G     0.8012     0.5194     0.9755         74        640: 100%|██████████| 122/122 [00:38<00:00,  3.19it/s]\n",
      "                 Class     Images  Instances      Box(P          R      mAP50  mAP50-95): 100%|██████████| 11/11 [00:01<00:00,  6.37it/s]"
     ]
    },
    {
     "name": "stdout",
     "output_type": "stream",
     "text": [
      "                   all        176       3844      0.649      0.764      0.753      0.549\n"
     ]
    },
    {
     "name": "stderr",
     "output_type": "stream",
     "text": [
      "\n"
     ]
    },
    {
     "name": "stdout",
     "output_type": "stream",
     "text": [
      "\n",
      "      Epoch    GPU_mem   box_loss   cls_loss   dfl_loss  Instances       Size\n"
     ]
    },
    {
     "name": "stderr",
     "output_type": "stream",
     "text": [
      "      18/40      3.36G      0.797     0.5081     0.9709         62        640: 100%|██████████| 122/122 [00:39<00:00,  3.07it/s]\n",
      "                 Class     Images  Instances      Box(P          R      mAP50  mAP50-95): 100%|██████████| 11/11 [00:01<00:00,  5.94it/s]"
     ]
    },
    {
     "name": "stdout",
     "output_type": "stream",
     "text": [
      "                   all        176       3844        0.7      0.737      0.784      0.569\n"
     ]
    },
    {
     "name": "stderr",
     "output_type": "stream",
     "text": [
      "\n"
     ]
    },
    {
     "name": "stdout",
     "output_type": "stream",
     "text": [
      "\n",
      "      Epoch    GPU_mem   box_loss   cls_loss   dfl_loss  Instances       Size\n"
     ]
    },
    {
     "name": "stderr",
     "output_type": "stream",
     "text": [
      "      19/40      3.36G     0.7858     0.5016     0.9752         26        640: 100%|██████████| 122/122 [00:32<00:00,  3.71it/s]\n",
      "                 Class     Images  Instances      Box(P          R      mAP50  mAP50-95): 100%|██████████| 11/11 [00:01<00:00,  6.37it/s]"
     ]
    },
    {
     "name": "stdout",
     "output_type": "stream",
     "text": [
      "                   all        176       3844      0.636      0.755      0.738       0.53\n"
     ]
    },
    {
     "name": "stderr",
     "output_type": "stream",
     "text": [
      "\n"
     ]
    },
    {
     "name": "stdout",
     "output_type": "stream",
     "text": [
      "\n",
      "      Epoch    GPU_mem   box_loss   cls_loss   dfl_loss  Instances       Size\n"
     ]
    },
    {
     "name": "stderr",
     "output_type": "stream",
     "text": [
      "      20/40      3.36G     0.7825     0.4994     0.9734         28        640: 100%|██████████| 122/122 [00:31<00:00,  3.92it/s]\n",
      "                 Class     Images  Instances      Box(P          R      mAP50  mAP50-95): 100%|██████████| 11/11 [00:01<00:00,  6.37it/s]"
     ]
    },
    {
     "name": "stdout",
     "output_type": "stream",
     "text": [
      "                   all        176       3844      0.653      0.744      0.723       0.52\n"
     ]
    },
    {
     "name": "stderr",
     "output_type": "stream",
     "text": [
      "\n"
     ]
    },
    {
     "name": "stdout",
     "output_type": "stream",
     "text": [
      "\n",
      "      Epoch    GPU_mem   box_loss   cls_loss   dfl_loss  Instances       Size\n"
     ]
    },
    {
     "name": "stderr",
     "output_type": "stream",
     "text": [
      "      21/40      3.36G     0.7731     0.4845     0.9638         66        640: 100%|██████████| 122/122 [00:31<00:00,  3.86it/s]\n",
      "                 Class     Images  Instances      Box(P          R      mAP50  mAP50-95): 100%|██████████| 11/11 [00:01<00:00,  6.36it/s]"
     ]
    },
    {
     "name": "stdout",
     "output_type": "stream",
     "text": [
      "                   all        176       3844      0.668      0.722      0.748       0.53\n"
     ]
    },
    {
     "name": "stderr",
     "output_type": "stream",
     "text": [
      "\n"
     ]
    },
    {
     "name": "stdout",
     "output_type": "stream",
     "text": [
      "\n",
      "      Epoch    GPU_mem   box_loss   cls_loss   dfl_loss  Instances       Size\n"
     ]
    },
    {
     "name": "stderr",
     "output_type": "stream",
     "text": [
      "      22/40      3.36G     0.7792     0.4892     0.9695         23        640: 100%|██████████| 122/122 [00:31<00:00,  3.88it/s]\n",
      "                 Class     Images  Instances      Box(P          R      mAP50  mAP50-95): 100%|██████████| 11/11 [00:02<00:00,  4.89it/s]"
     ]
    },
    {
     "name": "stdout",
     "output_type": "stream",
     "text": [
      "                   all        176       3844      0.625      0.769      0.764      0.576\n"
     ]
    },
    {
     "name": "stderr",
     "output_type": "stream",
     "text": [
      "\n"
     ]
    },
    {
     "name": "stdout",
     "output_type": "stream",
     "text": [
      "\n",
      "      Epoch    GPU_mem   box_loss   cls_loss   dfl_loss  Instances       Size\n"
     ]
    },
    {
     "name": "stderr",
     "output_type": "stream",
     "text": [
      "      23/40      3.36G     0.7723     0.4986     0.9727          9        640: 100%|██████████| 122/122 [00:36<00:00,  3.32it/s]\n",
      "                 Class     Images  Instances      Box(P          R      mAP50  mAP50-95): 100%|██████████| 11/11 [00:02<00:00,  4.03it/s]"
     ]
    },
    {
     "name": "stdout",
     "output_type": "stream",
     "text": [
      "                   all        176       3844      0.696       0.77      0.777      0.576\n"
     ]
    },
    {
     "name": "stderr",
     "output_type": "stream",
     "text": [
      "\n"
     ]
    },
    {
     "name": "stdout",
     "output_type": "stream",
     "text": [
      "\n",
      "      Epoch    GPU_mem   box_loss   cls_loss   dfl_loss  Instances       Size\n"
     ]
    },
    {
     "name": "stderr",
     "output_type": "stream",
     "text": [
      "      24/40      3.36G     0.7717     0.4733     0.9737         62        640: 100%|██████████| 122/122 [00:34<00:00,  3.54it/s]\n",
      "                 Class     Images  Instances      Box(P          R      mAP50  mAP50-95): 100%|██████████| 11/11 [00:01<00:00,  6.41it/s]"
     ]
    },
    {
     "name": "stdout",
     "output_type": "stream",
     "text": [
      "                   all        176       3844      0.739        0.7      0.741      0.557\n"
     ]
    },
    {
     "name": "stderr",
     "output_type": "stream",
     "text": [
      "\n"
     ]
    },
    {
     "name": "stdout",
     "output_type": "stream",
     "text": [
      "\n",
      "      Epoch    GPU_mem   box_loss   cls_loss   dfl_loss  Instances       Size\n"
     ]
    },
    {
     "name": "stderr",
     "output_type": "stream",
     "text": [
      "      25/40      3.36G     0.7642       0.47     0.9644         15        640: 100%|██████████| 122/122 [00:37<00:00,  3.26it/s]\n",
      "                 Class     Images  Instances      Box(P          R      mAP50  mAP50-95): 100%|██████████| 11/11 [00:01<00:00,  6.40it/s]"
     ]
    },
    {
     "name": "stdout",
     "output_type": "stream",
     "text": [
      "                   all        176       3844      0.675      0.783      0.748      0.558\n"
     ]
    },
    {
     "name": "stderr",
     "output_type": "stream",
     "text": [
      "\n"
     ]
    },
    {
     "name": "stdout",
     "output_type": "stream",
     "text": [
      "\n",
      "      Epoch    GPU_mem   box_loss   cls_loss   dfl_loss  Instances       Size\n"
     ]
    },
    {
     "name": "stderr",
     "output_type": "stream",
     "text": [
      "      26/40      3.36G     0.7543     0.4639     0.9607         45        640: 100%|██████████| 122/122 [00:30<00:00,  3.98it/s]\n",
      "                 Class     Images  Instances      Box(P          R      mAP50  mAP50-95): 100%|██████████| 11/11 [00:01<00:00,  6.43it/s]"
     ]
    },
    {
     "name": "stdout",
     "output_type": "stream",
     "text": [
      "                   all        176       3844      0.693      0.744      0.754      0.559\n"
     ]
    },
    {
     "name": "stderr",
     "output_type": "stream",
     "text": [
      "\n"
     ]
    },
    {
     "name": "stdout",
     "output_type": "stream",
     "text": [
      "\n",
      "      Epoch    GPU_mem   box_loss   cls_loss   dfl_loss  Instances       Size\n"
     ]
    },
    {
     "name": "stderr",
     "output_type": "stream",
     "text": [
      "      27/40      3.36G     0.7571     0.4585     0.9606         17        640: 100%|██████████| 122/122 [00:30<00:00,  3.96it/s]\n",
      "                 Class     Images  Instances      Box(P          R      mAP50  mAP50-95): 100%|██████████| 11/11 [00:01<00:00,  6.30it/s]"
     ]
    },
    {
     "name": "stdout",
     "output_type": "stream",
     "text": [
      "                   all        176       3844      0.668       0.73      0.777      0.582\n"
     ]
    },
    {
     "name": "stderr",
     "output_type": "stream",
     "text": [
      "\n"
     ]
    },
    {
     "name": "stdout",
     "output_type": "stream",
     "text": [
      "\n",
      "      Epoch    GPU_mem   box_loss   cls_loss   dfl_loss  Instances       Size\n"
     ]
    },
    {
     "name": "stderr",
     "output_type": "stream",
     "text": [
      "      28/40      3.36G     0.7395     0.4481     0.9523         11        640: 100%|██████████| 122/122 [00:31<00:00,  3.87it/s]\n",
      "                 Class     Images  Instances      Box(P          R      mAP50  mAP50-95): 100%|██████████| 11/11 [00:01<00:00,  6.40it/s]"
     ]
    },
    {
     "name": "stdout",
     "output_type": "stream",
     "text": [
      "                   all        176       3844      0.645      0.779      0.791      0.592\n"
     ]
    },
    {
     "name": "stderr",
     "output_type": "stream",
     "text": [
      "\n"
     ]
    },
    {
     "name": "stdout",
     "output_type": "stream",
     "text": [
      "\n",
      "      Epoch    GPU_mem   box_loss   cls_loss   dfl_loss  Instances       Size\n"
     ]
    },
    {
     "name": "stderr",
     "output_type": "stream",
     "text": [
      "      29/40      3.36G      0.746     0.4493     0.9605         15        640: 100%|██████████| 122/122 [00:30<00:00,  4.01it/s]\n",
      "                 Class     Images  Instances      Box(P          R      mAP50  mAP50-95): 100%|██████████| 11/11 [00:01<00:00,  6.41it/s]"
     ]
    },
    {
     "name": "stdout",
     "output_type": "stream",
     "text": [
      "                   all        176       3844      0.635      0.782      0.752      0.556\n"
     ]
    },
    {
     "name": "stderr",
     "output_type": "stream",
     "text": [
      "\n"
     ]
    },
    {
     "name": "stdout",
     "output_type": "stream",
     "text": [
      "\n",
      "      Epoch    GPU_mem   box_loss   cls_loss   dfl_loss  Instances       Size\n"
     ]
    },
    {
     "name": "stderr",
     "output_type": "stream",
     "text": [
      "      30/40      3.36G     0.7404     0.4443     0.9553         51        640: 100%|██████████| 122/122 [00:30<00:00,  4.02it/s]\n",
      "                 Class     Images  Instances      Box(P          R      mAP50  mAP50-95): 100%|██████████| 11/11 [00:01<00:00,  6.39it/s]"
     ]
    },
    {
     "name": "stdout",
     "output_type": "stream",
     "text": [
      "                   all        176       3844       0.68      0.746      0.756      0.568\n"
     ]
    },
    {
     "name": "stderr",
     "output_type": "stream",
     "text": [
      "\n"
     ]
    },
    {
     "name": "stdout",
     "output_type": "stream",
     "text": [
      "Closing dataloader mosaic\n"
     ]
    },
    {
     "name": "stderr",
     "output_type": "stream",
     "text": [
      "/home/dfe2zj/.local/lib/python3.12/site-packages/torch/utils/data/dataloader.py:624: UserWarning: This DataLoader will create 8 worker processes in total. Our suggested max number of worker in current system is 1, which is smaller than what this DataLoader is going to create. Please be aware that excessive worker creation might get DataLoader running slow or even freeze, lower the worker number to avoid potential slowness/freeze if necessary.\n",
      "  warnings.warn(\n"
     ]
    },
    {
     "name": "stdout",
     "output_type": "stream",
     "text": [
      "\n",
      "      Epoch    GPU_mem   box_loss   cls_loss   dfl_loss  Instances       Size\n"
     ]
    },
    {
     "name": "stderr",
     "output_type": "stream",
     "text": [
      "      31/40      3.36G     0.7189     0.4043     0.9513         18        640: 100%|██████████| 122/122 [00:30<00:00,  3.98it/s]\n",
      "                 Class     Images  Instances      Box(P          R      mAP50  mAP50-95): 100%|██████████| 11/11 [00:01<00:00,  6.43it/s]"
     ]
    },
    {
     "name": "stdout",
     "output_type": "stream",
     "text": [
      "                   all        176       3844      0.685      0.708      0.757      0.566\n"
     ]
    },
    {
     "name": "stderr",
     "output_type": "stream",
     "text": [
      "\n"
     ]
    },
    {
     "name": "stdout",
     "output_type": "stream",
     "text": [
      "\n",
      "      Epoch    GPU_mem   box_loss   cls_loss   dfl_loss  Instances       Size\n"
     ]
    },
    {
     "name": "stderr",
     "output_type": "stream",
     "text": [
      "      32/40      3.36G     0.6973      0.385     0.9387         17        640: 100%|██████████| 122/122 [00:30<00:00,  4.01it/s]\n",
      "                 Class     Images  Instances      Box(P          R      mAP50  mAP50-95): 100%|██████████| 11/11 [00:01<00:00,  6.44it/s]"
     ]
    },
    {
     "name": "stdout",
     "output_type": "stream",
     "text": [
      "                   all        176       3844      0.659      0.768      0.744      0.555\n"
     ]
    },
    {
     "name": "stderr",
     "output_type": "stream",
     "text": [
      "\n"
     ]
    },
    {
     "name": "stdout",
     "output_type": "stream",
     "text": [
      "\n",
      "      Epoch    GPU_mem   box_loss   cls_loss   dfl_loss  Instances       Size\n"
     ]
    },
    {
     "name": "stderr",
     "output_type": "stream",
     "text": [
      "      33/40      3.36G     0.6882     0.3805     0.9378         14        640: 100%|██████████| 122/122 [00:29<00:00,  4.13it/s]\n",
      "                 Class     Images  Instances      Box(P          R      mAP50  mAP50-95): 100%|██████████| 11/11 [00:01<00:00,  6.43it/s]"
     ]
    },
    {
     "name": "stdout",
     "output_type": "stream",
     "text": [
      "                   all        176       3844      0.683      0.762      0.744      0.563\n"
     ]
    },
    {
     "name": "stderr",
     "output_type": "stream",
     "text": [
      "\n"
     ]
    },
    {
     "name": "stdout",
     "output_type": "stream",
     "text": [
      "\n",
      "      Epoch    GPU_mem   box_loss   cls_loss   dfl_loss  Instances       Size\n"
     ]
    },
    {
     "name": "stderr",
     "output_type": "stream",
     "text": [
      "      34/40      3.36G     0.6845     0.3717     0.9314         27        640: 100%|██████████| 122/122 [00:29<00:00,  4.13it/s]\n",
      "                 Class     Images  Instances      Box(P          R      mAP50  mAP50-95): 100%|██████████| 11/11 [00:01<00:00,  6.45it/s]"
     ]
    },
    {
     "name": "stdout",
     "output_type": "stream",
     "text": [
      "                   all        176       3844      0.684      0.761      0.768      0.577\n"
     ]
    },
    {
     "name": "stderr",
     "output_type": "stream",
     "text": [
      "\n"
     ]
    },
    {
     "name": "stdout",
     "output_type": "stream",
     "text": [
      "\n",
      "      Epoch    GPU_mem   box_loss   cls_loss   dfl_loss  Instances       Size\n"
     ]
    },
    {
     "name": "stderr",
     "output_type": "stream",
     "text": [
      "      35/40      3.36G     0.6787     0.3684     0.9322         25        640: 100%|██████████| 122/122 [00:32<00:00,  3.79it/s]\n",
      "                 Class     Images  Instances      Box(P          R      mAP50  mAP50-95): 100%|██████████| 11/11 [00:01<00:00,  6.38it/s]"
     ]
    },
    {
     "name": "stdout",
     "output_type": "stream",
     "text": [
      "                   all        176       3844      0.681      0.765      0.774      0.586\n"
     ]
    },
    {
     "name": "stderr",
     "output_type": "stream",
     "text": [
      "\n"
     ]
    },
    {
     "name": "stdout",
     "output_type": "stream",
     "text": [
      "\n",
      "      Epoch    GPU_mem   box_loss   cls_loss   dfl_loss  Instances       Size\n"
     ]
    },
    {
     "name": "stderr",
     "output_type": "stream",
     "text": [
      "      36/40      3.36G     0.6658     0.3564     0.9283         11        640: 100%|██████████| 122/122 [00:34<00:00,  3.50it/s]\n",
      "                 Class     Images  Instances      Box(P          R      mAP50  mAP50-95): 100%|██████████| 11/11 [00:02<00:00,  4.30it/s]"
     ]
    },
    {
     "name": "stdout",
     "output_type": "stream",
     "text": [
      "                   all        176       3844      0.668      0.743      0.766      0.585\n"
     ]
    },
    {
     "name": "stderr",
     "output_type": "stream",
     "text": [
      "\n"
     ]
    },
    {
     "name": "stdout",
     "output_type": "stream",
     "text": [
      "\n",
      "      Epoch    GPU_mem   box_loss   cls_loss   dfl_loss  Instances       Size\n"
     ]
    },
    {
     "name": "stderr",
     "output_type": "stream",
     "text": [
      "      37/40      3.36G      0.662     0.3603     0.9269         25        640: 100%|██████████| 122/122 [00:34<00:00,  3.55it/s]\n",
      "                 Class     Images  Instances      Box(P          R      mAP50  mAP50-95): 100%|██████████| 11/11 [00:01<00:00,  6.30it/s]"
     ]
    },
    {
     "name": "stdout",
     "output_type": "stream",
     "text": [
      "                   all        176       3844      0.675      0.722      0.762      0.577\n"
     ]
    },
    {
     "name": "stderr",
     "output_type": "stream",
     "text": [
      "\n"
     ]
    },
    {
     "name": "stdout",
     "output_type": "stream",
     "text": [
      "\n",
      "      Epoch    GPU_mem   box_loss   cls_loss   dfl_loss  Instances       Size\n"
     ]
    },
    {
     "name": "stderr",
     "output_type": "stream",
     "text": [
      "      38/40      3.36G      0.663     0.3525     0.9287         43        640: 100%|██████████| 122/122 [00:29<00:00,  4.14it/s]\n",
      "                 Class     Images  Instances      Box(P          R      mAP50  mAP50-95): 100%|██████████| 11/11 [00:02<00:00,  4.94it/s]"
     ]
    },
    {
     "name": "stdout",
     "output_type": "stream",
     "text": [
      "                   all        176       3844      0.684      0.734      0.772      0.594\n",
      "\u001b[34m\u001b[1mEarlyStopping: \u001b[0mTraining stopped early as no improvement observed in last 10 epochs. Best results observed at epoch 28, best model saved as best.pt.\n",
      "To update EarlyStopping(patience=10) pass a new patience value, i.e. `patience=300` or use `patience=0` to disable EarlyStopping.\n"
     ]
    },
    {
     "name": "stderr",
     "output_type": "stream",
     "text": [
      "\n"
     ]
    },
    {
     "name": "stdout",
     "output_type": "stream",
     "text": [
      "\n",
      "38 epochs completed in 0.385 hours.\n",
      "Optimizer stripped from runs/train_flowchart/v9_flowchart_v1/weights/last.pt, 15.2MB\n",
      "Optimizer stripped from runs/train_flowchart/v9_flowchart_v1/weights/best.pt, 15.2MB\n",
      "\n",
      "Validating runs/train_flowchart/v9_flowchart_v1/weights/best.pt...\n",
      "Ultralytics 8.3.103 🚀 Python-3.12.3 torch-2.6.0+cu124 CUDA:0 (NVIDIA RTX A6000, 48670MiB)\n",
      "YOLOv9s summary (fused): 197 layers, 7,174,054 parameters, 0 gradients, 26.8 GFLOPs\n"
     ]
    },
    {
     "name": "stderr",
     "output_type": "stream",
     "text": [
      "                 Class     Images  Instances      Box(P          R      mAP50  mAP50-95): 100%|██████████| 11/11 [00:05<00:00,  1.88it/s]\n"
     ]
    },
    {
     "name": "stdout",
     "output_type": "stream",
     "text": [
      "                   all        176       3844      0.646      0.779      0.791      0.592\n",
      "                action         92        429      0.925      0.853      0.928      0.803\n",
      "              activity        120        642      0.861       0.91      0.934      0.818\n",
      "               comment          6         12      0.427          1      0.886      0.795\n",
      "          control_flow        160       1968      0.886      0.898      0.899      0.563\n",
      "         decision_node          2         12          0          0          0          0\n",
      "             exit_node        137        234      0.891      0.974      0.946      0.588\n",
      "       final_flow_node          2          4      0.722        0.5      0.677      0.317\n",
      "            final_node          4          4      0.692       0.75      0.698      0.548\n",
      "                  fork        136        177      0.862       0.95      0.943      0.644\n",
      "                 merge         62         69      0.785      0.768      0.856      0.553\n",
      "            merge_node         64         68      0.806      0.882      0.911      0.602\n",
      "                  null         36         57      0.828      0.759      0.791      0.563\n",
      "           object_flow          4          4      0.214          1       0.77      0.693\n",
      "         signal_recept          3          4      0.626       0.75      0.856      0.674\n",
      "           signal_send          5          5      0.328        0.8      0.814      0.718\n",
      "            start_node          2          2      0.186        0.5      0.572      0.557\n",
      "                  text        149        153      0.941      0.944      0.967      0.635\n",
      "Speed: 0.1ms preprocess, 6.0ms inference, 0.0ms loss, 3.4ms postprocess per image\n",
      "Results saved to \u001b[1mruns/train_flowchart/v9_flowchart_v1\u001b[0m\n"
     ]
    },
    {
     "data": {
      "text/plain": [
       "ultralytics.utils.metrics.DetMetrics object with attributes:\n",
       "\n",
       "ap_class_index: array([ 0,  1,  2,  3,  4,  5,  6,  7,  8,  9, 10, 11, 13, 14, 15, 16, 17])\n",
       "box: ultralytics.utils.metrics.Metric object\n",
       "confusion_matrix: <ultralytics.utils.metrics.ConfusionMatrix object at 0x7f56ca9b4260>\n",
       "curves: ['Precision-Recall(B)', 'F1-Confidence(B)', 'Precision-Confidence(B)', 'Recall-Confidence(B)']\n",
       "curves_results: [[array([          0,    0.001001,    0.002002,    0.003003,    0.004004,    0.005005,    0.006006,    0.007007,    0.008008,    0.009009,     0.01001,    0.011011,    0.012012,    0.013013,    0.014014,    0.015015,    0.016016,    0.017017,    0.018018,    0.019019,     0.02002,    0.021021,    0.022022,    0.023023,\n",
       "          0.024024,    0.025025,    0.026026,    0.027027,    0.028028,    0.029029,     0.03003,    0.031031,    0.032032,    0.033033,    0.034034,    0.035035,    0.036036,    0.037037,    0.038038,    0.039039,     0.04004,    0.041041,    0.042042,    0.043043,    0.044044,    0.045045,    0.046046,    0.047047,\n",
       "          0.048048,    0.049049,     0.05005,    0.051051,    0.052052,    0.053053,    0.054054,    0.055055,    0.056056,    0.057057,    0.058058,    0.059059,     0.06006,    0.061061,    0.062062,    0.063063,    0.064064,    0.065065,    0.066066,    0.067067,    0.068068,    0.069069,     0.07007,    0.071071,\n",
       "          0.072072,    0.073073,    0.074074,    0.075075,    0.076076,    0.077077,    0.078078,    0.079079,     0.08008,    0.081081,    0.082082,    0.083083,    0.084084,    0.085085,    0.086086,    0.087087,    0.088088,    0.089089,     0.09009,    0.091091,    0.092092,    0.093093,    0.094094,    0.095095,\n",
       "          0.096096,    0.097097,    0.098098,    0.099099,      0.1001,      0.1011,      0.1021,      0.1031,      0.1041,     0.10511,     0.10611,     0.10711,     0.10811,     0.10911,     0.11011,     0.11111,     0.11211,     0.11311,     0.11411,     0.11512,     0.11612,     0.11712,     0.11812,     0.11912,\n",
       "           0.12012,     0.12112,     0.12212,     0.12312,     0.12412,     0.12513,     0.12613,     0.12713,     0.12813,     0.12913,     0.13013,     0.13113,     0.13213,     0.13313,     0.13413,     0.13514,     0.13614,     0.13714,     0.13814,     0.13914,     0.14014,     0.14114,     0.14214,     0.14314,\n",
       "           0.14414,     0.14515,     0.14615,     0.14715,     0.14815,     0.14915,     0.15015,     0.15115,     0.15215,     0.15315,     0.15415,     0.15516,     0.15616,     0.15716,     0.15816,     0.15916,     0.16016,     0.16116,     0.16216,     0.16316,     0.16416,     0.16517,     0.16617,     0.16717,\n",
       "           0.16817,     0.16917,     0.17017,     0.17117,     0.17217,     0.17317,     0.17417,     0.17518,     0.17618,     0.17718,     0.17818,     0.17918,     0.18018,     0.18118,     0.18218,     0.18318,     0.18418,     0.18519,     0.18619,     0.18719,     0.18819,     0.18919,     0.19019,     0.19119,\n",
       "           0.19219,     0.19319,     0.19419,      0.1952,      0.1962,      0.1972,      0.1982,      0.1992,      0.2002,      0.2012,      0.2022,      0.2032,      0.2042,     0.20521,     0.20621,     0.20721,     0.20821,     0.20921,     0.21021,     0.21121,     0.21221,     0.21321,     0.21421,     0.21522,\n",
       "           0.21622,     0.21722,     0.21822,     0.21922,     0.22022,     0.22122,     0.22222,     0.22322,     0.22422,     0.22523,     0.22623,     0.22723,     0.22823,     0.22923,     0.23023,     0.23123,     0.23223,     0.23323,     0.23423,     0.23524,     0.23624,     0.23724,     0.23824,     0.23924,\n",
       "           0.24024,     0.24124,     0.24224,     0.24324,     0.24424,     0.24525,     0.24625,     0.24725,     0.24825,     0.24925,     0.25025,     0.25125,     0.25225,     0.25325,     0.25425,     0.25526,     0.25626,     0.25726,     0.25826,     0.25926,     0.26026,     0.26126,     0.26226,     0.26326,\n",
       "           0.26426,     0.26527,     0.26627,     0.26727,     0.26827,     0.26927,     0.27027,     0.27127,     0.27227,     0.27327,     0.27427,     0.27528,     0.27628,     0.27728,     0.27828,     0.27928,     0.28028,     0.28128,     0.28228,     0.28328,     0.28428,     0.28529,     0.28629,     0.28729,\n",
       "           0.28829,     0.28929,     0.29029,     0.29129,     0.29229,     0.29329,     0.29429,      0.2953,      0.2963,      0.2973,      0.2983,      0.2993,      0.3003,      0.3013,      0.3023,      0.3033,      0.3043,     0.30531,     0.30631,     0.30731,     0.30831,     0.30931,     0.31031,     0.31131,\n",
       "           0.31231,     0.31331,     0.31431,     0.31532,     0.31632,     0.31732,     0.31832,     0.31932,     0.32032,     0.32132,     0.32232,     0.32332,     0.32432,     0.32533,     0.32633,     0.32733,     0.32833,     0.32933,     0.33033,     0.33133,     0.33233,     0.33333,     0.33433,     0.33534,\n",
       "           0.33634,     0.33734,     0.33834,     0.33934,     0.34034,     0.34134,     0.34234,     0.34334,     0.34434,     0.34535,     0.34635,     0.34735,     0.34835,     0.34935,     0.35035,     0.35135,     0.35235,     0.35335,     0.35435,     0.35536,     0.35636,     0.35736,     0.35836,     0.35936,\n",
       "           0.36036,     0.36136,     0.36236,     0.36336,     0.36436,     0.36537,     0.36637,     0.36737,     0.36837,     0.36937,     0.37037,     0.37137,     0.37237,     0.37337,     0.37437,     0.37538,     0.37638,     0.37738,     0.37838,     0.37938,     0.38038,     0.38138,     0.38238,     0.38338,\n",
       "           0.38438,     0.38539,     0.38639,     0.38739,     0.38839,     0.38939,     0.39039,     0.39139,     0.39239,     0.39339,     0.39439,      0.3954,      0.3964,      0.3974,      0.3984,      0.3994,      0.4004,      0.4014,      0.4024,      0.4034,      0.4044,     0.40541,     0.40641,     0.40741,\n",
       "           0.40841,     0.40941,     0.41041,     0.41141,     0.41241,     0.41341,     0.41441,     0.41542,     0.41642,     0.41742,     0.41842,     0.41942,     0.42042,     0.42142,     0.42242,     0.42342,     0.42442,     0.42543,     0.42643,     0.42743,     0.42843,     0.42943,     0.43043,     0.43143,\n",
       "           0.43243,     0.43343,     0.43443,     0.43544,     0.43644,     0.43744,     0.43844,     0.43944,     0.44044,     0.44144,     0.44244,     0.44344,     0.44444,     0.44545,     0.44645,     0.44745,     0.44845,     0.44945,     0.45045,     0.45145,     0.45245,     0.45345,     0.45445,     0.45546,\n",
       "           0.45646,     0.45746,     0.45846,     0.45946,     0.46046,     0.46146,     0.46246,     0.46346,     0.46446,     0.46547,     0.46647,     0.46747,     0.46847,     0.46947,     0.47047,     0.47147,     0.47247,     0.47347,     0.47447,     0.47548,     0.47648,     0.47748,     0.47848,     0.47948,\n",
       "           0.48048,     0.48148,     0.48248,     0.48348,     0.48448,     0.48549,     0.48649,     0.48749,     0.48849,     0.48949,     0.49049,     0.49149,     0.49249,     0.49349,     0.49449,      0.4955,      0.4965,      0.4975,      0.4985,      0.4995,      0.5005,      0.5015,      0.5025,      0.5035,\n",
       "            0.5045,     0.50551,     0.50651,     0.50751,     0.50851,     0.50951,     0.51051,     0.51151,     0.51251,     0.51351,     0.51451,     0.51552,     0.51652,     0.51752,     0.51852,     0.51952,     0.52052,     0.52152,     0.52252,     0.52352,     0.52452,     0.52553,     0.52653,     0.52753,\n",
       "           0.52853,     0.52953,     0.53053,     0.53153,     0.53253,     0.53353,     0.53453,     0.53554,     0.53654,     0.53754,     0.53854,     0.53954,     0.54054,     0.54154,     0.54254,     0.54354,     0.54454,     0.54555,     0.54655,     0.54755,     0.54855,     0.54955,     0.55055,     0.55155,\n",
       "           0.55255,     0.55355,     0.55455,     0.55556,     0.55656,     0.55756,     0.55856,     0.55956,     0.56056,     0.56156,     0.56256,     0.56356,     0.56456,     0.56557,     0.56657,     0.56757,     0.56857,     0.56957,     0.57057,     0.57157,     0.57257,     0.57357,     0.57457,     0.57558,\n",
       "           0.57658,     0.57758,     0.57858,     0.57958,     0.58058,     0.58158,     0.58258,     0.58358,     0.58458,     0.58559,     0.58659,     0.58759,     0.58859,     0.58959,     0.59059,     0.59159,     0.59259,     0.59359,     0.59459,      0.5956,      0.5966,      0.5976,      0.5986,      0.5996,\n",
       "            0.6006,      0.6016,      0.6026,      0.6036,      0.6046,     0.60561,     0.60661,     0.60761,     0.60861,     0.60961,     0.61061,     0.61161,     0.61261,     0.61361,     0.61461,     0.61562,     0.61662,     0.61762,     0.61862,     0.61962,     0.62062,     0.62162,     0.62262,     0.62362,\n",
       "           0.62462,     0.62563,     0.62663,     0.62763,     0.62863,     0.62963,     0.63063,     0.63163,     0.63263,     0.63363,     0.63463,     0.63564,     0.63664,     0.63764,     0.63864,     0.63964,     0.64064,     0.64164,     0.64264,     0.64364,     0.64464,     0.64565,     0.64665,     0.64765,\n",
       "           0.64865,     0.64965,     0.65065,     0.65165,     0.65265,     0.65365,     0.65465,     0.65566,     0.65666,     0.65766,     0.65866,     0.65966,     0.66066,     0.66166,     0.66266,     0.66366,     0.66466,     0.66567,     0.66667,     0.66767,     0.66867,     0.66967,     0.67067,     0.67167,\n",
       "           0.67267,     0.67367,     0.67467,     0.67568,     0.67668,     0.67768,     0.67868,     0.67968,     0.68068,     0.68168,     0.68268,     0.68368,     0.68468,     0.68569,     0.68669,     0.68769,     0.68869,     0.68969,     0.69069,     0.69169,     0.69269,     0.69369,     0.69469,      0.6957,\n",
       "            0.6967,      0.6977,      0.6987,      0.6997,      0.7007,      0.7017,      0.7027,      0.7037,      0.7047,     0.70571,     0.70671,     0.70771,     0.70871,     0.70971,     0.71071,     0.71171,     0.71271,     0.71371,     0.71471,     0.71572,     0.71672,     0.71772,     0.71872,     0.71972,\n",
       "           0.72072,     0.72172,     0.72272,     0.72372,     0.72472,     0.72573,     0.72673,     0.72773,     0.72873,     0.72973,     0.73073,     0.73173,     0.73273,     0.73373,     0.73473,     0.73574,     0.73674,     0.73774,     0.73874,     0.73974,     0.74074,     0.74174,     0.74274,     0.74374,\n",
       "           0.74474,     0.74575,     0.74675,     0.74775,     0.74875,     0.74975,     0.75075,     0.75175,     0.75275,     0.75375,     0.75475,     0.75576,     0.75676,     0.75776,     0.75876,     0.75976,     0.76076,     0.76176,     0.76276,     0.76376,     0.76476,     0.76577,     0.76677,     0.76777,\n",
       "           0.76877,     0.76977,     0.77077,     0.77177,     0.77277,     0.77377,     0.77477,     0.77578,     0.77678,     0.77778,     0.77878,     0.77978,     0.78078,     0.78178,     0.78278,     0.78378,     0.78478,     0.78579,     0.78679,     0.78779,     0.78879,     0.78979,     0.79079,     0.79179,\n",
       "           0.79279,     0.79379,     0.79479,      0.7958,      0.7968,      0.7978,      0.7988,      0.7998,      0.8008,      0.8018,      0.8028,      0.8038,      0.8048,     0.80581,     0.80681,     0.80781,     0.80881,     0.80981,     0.81081,     0.81181,     0.81281,     0.81381,     0.81481,     0.81582,\n",
       "           0.81682,     0.81782,     0.81882,     0.81982,     0.82082,     0.82182,     0.82282,     0.82382,     0.82482,     0.82583,     0.82683,     0.82783,     0.82883,     0.82983,     0.83083,     0.83183,     0.83283,     0.83383,     0.83483,     0.83584,     0.83684,     0.83784,     0.83884,     0.83984,\n",
       "           0.84084,     0.84184,     0.84284,     0.84384,     0.84484,     0.84585,     0.84685,     0.84785,     0.84885,     0.84985,     0.85085,     0.85185,     0.85285,     0.85385,     0.85485,     0.85586,     0.85686,     0.85786,     0.85886,     0.85986,     0.86086,     0.86186,     0.86286,     0.86386,\n",
       "           0.86486,     0.86587,     0.86687,     0.86787,     0.86887,     0.86987,     0.87087,     0.87187,     0.87287,     0.87387,     0.87487,     0.87588,     0.87688,     0.87788,     0.87888,     0.87988,     0.88088,     0.88188,     0.88288,     0.88388,     0.88488,     0.88589,     0.88689,     0.88789,\n",
       "           0.88889,     0.88989,     0.89089,     0.89189,     0.89289,     0.89389,     0.89489,      0.8959,      0.8969,      0.8979,      0.8989,      0.8999,      0.9009,      0.9019,      0.9029,      0.9039,      0.9049,     0.90591,     0.90691,     0.90791,     0.90891,     0.90991,     0.91091,     0.91191,\n",
       "           0.91291,     0.91391,     0.91491,     0.91592,     0.91692,     0.91792,     0.91892,     0.91992,     0.92092,     0.92192,     0.92292,     0.92392,     0.92492,     0.92593,     0.92693,     0.92793,     0.92893,     0.92993,     0.93093,     0.93193,     0.93293,     0.93393,     0.93493,     0.93594,\n",
       "           0.93694,     0.93794,     0.93894,     0.93994,     0.94094,     0.94194,     0.94294,     0.94394,     0.94494,     0.94595,     0.94695,     0.94795,     0.94895,     0.94995,     0.95095,     0.95195,     0.95295,     0.95395,     0.95495,     0.95596,     0.95696,     0.95796,     0.95896,     0.95996,\n",
       "           0.96096,     0.96196,     0.96296,     0.96396,     0.96496,     0.96597,     0.96697,     0.96797,     0.96897,     0.96997,     0.97097,     0.97197,     0.97297,     0.97397,     0.97497,     0.97598,     0.97698,     0.97798,     0.97898,     0.97998,     0.98098,     0.98198,     0.98298,     0.98398,\n",
       "           0.98498,     0.98599,     0.98699,     0.98799,     0.98899,     0.98999,     0.99099,     0.99199,     0.99299,     0.99399,     0.99499,       0.996,       0.997,       0.998,       0.999,           1]), array([[          1,           1,           1, ...,    0.019487,   0.0097434,           0],\n",
       "       [          1,           1,           1, ...,    0.072394,    0.036197,           0],\n",
       "       [          1,           1,           1, ...,     0.54545,     0.54545,           0],\n",
       "       ...,\n",
       "       [          1,           1,           1, ...,     0.29412,     0.29412,           0],\n",
       "       [          1,           1,           1, ...,     0.15385,     0.15385,           0],\n",
       "       [          1,           1,           1, ...,    0.032231,    0.016116,           0]]), 'Recall', 'Precision'], [array([          0,    0.001001,    0.002002,    0.003003,    0.004004,    0.005005,    0.006006,    0.007007,    0.008008,    0.009009,     0.01001,    0.011011,    0.012012,    0.013013,    0.014014,    0.015015,    0.016016,    0.017017,    0.018018,    0.019019,     0.02002,    0.021021,    0.022022,    0.023023,\n",
       "          0.024024,    0.025025,    0.026026,    0.027027,    0.028028,    0.029029,     0.03003,    0.031031,    0.032032,    0.033033,    0.034034,    0.035035,    0.036036,    0.037037,    0.038038,    0.039039,     0.04004,    0.041041,    0.042042,    0.043043,    0.044044,    0.045045,    0.046046,    0.047047,\n",
       "          0.048048,    0.049049,     0.05005,    0.051051,    0.052052,    0.053053,    0.054054,    0.055055,    0.056056,    0.057057,    0.058058,    0.059059,     0.06006,    0.061061,    0.062062,    0.063063,    0.064064,    0.065065,    0.066066,    0.067067,    0.068068,    0.069069,     0.07007,    0.071071,\n",
       "          0.072072,    0.073073,    0.074074,    0.075075,    0.076076,    0.077077,    0.078078,    0.079079,     0.08008,    0.081081,    0.082082,    0.083083,    0.084084,    0.085085,    0.086086,    0.087087,    0.088088,    0.089089,     0.09009,    0.091091,    0.092092,    0.093093,    0.094094,    0.095095,\n",
       "          0.096096,    0.097097,    0.098098,    0.099099,      0.1001,      0.1011,      0.1021,      0.1031,      0.1041,     0.10511,     0.10611,     0.10711,     0.10811,     0.10911,     0.11011,     0.11111,     0.11211,     0.11311,     0.11411,     0.11512,     0.11612,     0.11712,     0.11812,     0.11912,\n",
       "           0.12012,     0.12112,     0.12212,     0.12312,     0.12412,     0.12513,     0.12613,     0.12713,     0.12813,     0.12913,     0.13013,     0.13113,     0.13213,     0.13313,     0.13413,     0.13514,     0.13614,     0.13714,     0.13814,     0.13914,     0.14014,     0.14114,     0.14214,     0.14314,\n",
       "           0.14414,     0.14515,     0.14615,     0.14715,     0.14815,     0.14915,     0.15015,     0.15115,     0.15215,     0.15315,     0.15415,     0.15516,     0.15616,     0.15716,     0.15816,     0.15916,     0.16016,     0.16116,     0.16216,     0.16316,     0.16416,     0.16517,     0.16617,     0.16717,\n",
       "           0.16817,     0.16917,     0.17017,     0.17117,     0.17217,     0.17317,     0.17417,     0.17518,     0.17618,     0.17718,     0.17818,     0.17918,     0.18018,     0.18118,     0.18218,     0.18318,     0.18418,     0.18519,     0.18619,     0.18719,     0.18819,     0.18919,     0.19019,     0.19119,\n",
       "           0.19219,     0.19319,     0.19419,      0.1952,      0.1962,      0.1972,      0.1982,      0.1992,      0.2002,      0.2012,      0.2022,      0.2032,      0.2042,     0.20521,     0.20621,     0.20721,     0.20821,     0.20921,     0.21021,     0.21121,     0.21221,     0.21321,     0.21421,     0.21522,\n",
       "           0.21622,     0.21722,     0.21822,     0.21922,     0.22022,     0.22122,     0.22222,     0.22322,     0.22422,     0.22523,     0.22623,     0.22723,     0.22823,     0.22923,     0.23023,     0.23123,     0.23223,     0.23323,     0.23423,     0.23524,     0.23624,     0.23724,     0.23824,     0.23924,\n",
       "           0.24024,     0.24124,     0.24224,     0.24324,     0.24424,     0.24525,     0.24625,     0.24725,     0.24825,     0.24925,     0.25025,     0.25125,     0.25225,     0.25325,     0.25425,     0.25526,     0.25626,     0.25726,     0.25826,     0.25926,     0.26026,     0.26126,     0.26226,     0.26326,\n",
       "           0.26426,     0.26527,     0.26627,     0.26727,     0.26827,     0.26927,     0.27027,     0.27127,     0.27227,     0.27327,     0.27427,     0.27528,     0.27628,     0.27728,     0.27828,     0.27928,     0.28028,     0.28128,     0.28228,     0.28328,     0.28428,     0.28529,     0.28629,     0.28729,\n",
       "           0.28829,     0.28929,     0.29029,     0.29129,     0.29229,     0.29329,     0.29429,      0.2953,      0.2963,      0.2973,      0.2983,      0.2993,      0.3003,      0.3013,      0.3023,      0.3033,      0.3043,     0.30531,     0.30631,     0.30731,     0.30831,     0.30931,     0.31031,     0.31131,\n",
       "           0.31231,     0.31331,     0.31431,     0.31532,     0.31632,     0.31732,     0.31832,     0.31932,     0.32032,     0.32132,     0.32232,     0.32332,     0.32432,     0.32533,     0.32633,     0.32733,     0.32833,     0.32933,     0.33033,     0.33133,     0.33233,     0.33333,     0.33433,     0.33534,\n",
       "           0.33634,     0.33734,     0.33834,     0.33934,     0.34034,     0.34134,     0.34234,     0.34334,     0.34434,     0.34535,     0.34635,     0.34735,     0.34835,     0.34935,     0.35035,     0.35135,     0.35235,     0.35335,     0.35435,     0.35536,     0.35636,     0.35736,     0.35836,     0.35936,\n",
       "           0.36036,     0.36136,     0.36236,     0.36336,     0.36436,     0.36537,     0.36637,     0.36737,     0.36837,     0.36937,     0.37037,     0.37137,     0.37237,     0.37337,     0.37437,     0.37538,     0.37638,     0.37738,     0.37838,     0.37938,     0.38038,     0.38138,     0.38238,     0.38338,\n",
       "           0.38438,     0.38539,     0.38639,     0.38739,     0.38839,     0.38939,     0.39039,     0.39139,     0.39239,     0.39339,     0.39439,      0.3954,      0.3964,      0.3974,      0.3984,      0.3994,      0.4004,      0.4014,      0.4024,      0.4034,      0.4044,     0.40541,     0.40641,     0.40741,\n",
       "           0.40841,     0.40941,     0.41041,     0.41141,     0.41241,     0.41341,     0.41441,     0.41542,     0.41642,     0.41742,     0.41842,     0.41942,     0.42042,     0.42142,     0.42242,     0.42342,     0.42442,     0.42543,     0.42643,     0.42743,     0.42843,     0.42943,     0.43043,     0.43143,\n",
       "           0.43243,     0.43343,     0.43443,     0.43544,     0.43644,     0.43744,     0.43844,     0.43944,     0.44044,     0.44144,     0.44244,     0.44344,     0.44444,     0.44545,     0.44645,     0.44745,     0.44845,     0.44945,     0.45045,     0.45145,     0.45245,     0.45345,     0.45445,     0.45546,\n",
       "           0.45646,     0.45746,     0.45846,     0.45946,     0.46046,     0.46146,     0.46246,     0.46346,     0.46446,     0.46547,     0.46647,     0.46747,     0.46847,     0.46947,     0.47047,     0.47147,     0.47247,     0.47347,     0.47447,     0.47548,     0.47648,     0.47748,     0.47848,     0.47948,\n",
       "           0.48048,     0.48148,     0.48248,     0.48348,     0.48448,     0.48549,     0.48649,     0.48749,     0.48849,     0.48949,     0.49049,     0.49149,     0.49249,     0.49349,     0.49449,      0.4955,      0.4965,      0.4975,      0.4985,      0.4995,      0.5005,      0.5015,      0.5025,      0.5035,\n",
       "            0.5045,     0.50551,     0.50651,     0.50751,     0.50851,     0.50951,     0.51051,     0.51151,     0.51251,     0.51351,     0.51451,     0.51552,     0.51652,     0.51752,     0.51852,     0.51952,     0.52052,     0.52152,     0.52252,     0.52352,     0.52452,     0.52553,     0.52653,     0.52753,\n",
       "           0.52853,     0.52953,     0.53053,     0.53153,     0.53253,     0.53353,     0.53453,     0.53554,     0.53654,     0.53754,     0.53854,     0.53954,     0.54054,     0.54154,     0.54254,     0.54354,     0.54454,     0.54555,     0.54655,     0.54755,     0.54855,     0.54955,     0.55055,     0.55155,\n",
       "           0.55255,     0.55355,     0.55455,     0.55556,     0.55656,     0.55756,     0.55856,     0.55956,     0.56056,     0.56156,     0.56256,     0.56356,     0.56456,     0.56557,     0.56657,     0.56757,     0.56857,     0.56957,     0.57057,     0.57157,     0.57257,     0.57357,     0.57457,     0.57558,\n",
       "           0.57658,     0.57758,     0.57858,     0.57958,     0.58058,     0.58158,     0.58258,     0.58358,     0.58458,     0.58559,     0.58659,     0.58759,     0.58859,     0.58959,     0.59059,     0.59159,     0.59259,     0.59359,     0.59459,      0.5956,      0.5966,      0.5976,      0.5986,      0.5996,\n",
       "            0.6006,      0.6016,      0.6026,      0.6036,      0.6046,     0.60561,     0.60661,     0.60761,     0.60861,     0.60961,     0.61061,     0.61161,     0.61261,     0.61361,     0.61461,     0.61562,     0.61662,     0.61762,     0.61862,     0.61962,     0.62062,     0.62162,     0.62262,     0.62362,\n",
       "           0.62462,     0.62563,     0.62663,     0.62763,     0.62863,     0.62963,     0.63063,     0.63163,     0.63263,     0.63363,     0.63463,     0.63564,     0.63664,     0.63764,     0.63864,     0.63964,     0.64064,     0.64164,     0.64264,     0.64364,     0.64464,     0.64565,     0.64665,     0.64765,\n",
       "           0.64865,     0.64965,     0.65065,     0.65165,     0.65265,     0.65365,     0.65465,     0.65566,     0.65666,     0.65766,     0.65866,     0.65966,     0.66066,     0.66166,     0.66266,     0.66366,     0.66466,     0.66567,     0.66667,     0.66767,     0.66867,     0.66967,     0.67067,     0.67167,\n",
       "           0.67267,     0.67367,     0.67467,     0.67568,     0.67668,     0.67768,     0.67868,     0.67968,     0.68068,     0.68168,     0.68268,     0.68368,     0.68468,     0.68569,     0.68669,     0.68769,     0.68869,     0.68969,     0.69069,     0.69169,     0.69269,     0.69369,     0.69469,      0.6957,\n",
       "            0.6967,      0.6977,      0.6987,      0.6997,      0.7007,      0.7017,      0.7027,      0.7037,      0.7047,     0.70571,     0.70671,     0.70771,     0.70871,     0.70971,     0.71071,     0.71171,     0.71271,     0.71371,     0.71471,     0.71572,     0.71672,     0.71772,     0.71872,     0.71972,\n",
       "           0.72072,     0.72172,     0.72272,     0.72372,     0.72472,     0.72573,     0.72673,     0.72773,     0.72873,     0.72973,     0.73073,     0.73173,     0.73273,     0.73373,     0.73473,     0.73574,     0.73674,     0.73774,     0.73874,     0.73974,     0.74074,     0.74174,     0.74274,     0.74374,\n",
       "           0.74474,     0.74575,     0.74675,     0.74775,     0.74875,     0.74975,     0.75075,     0.75175,     0.75275,     0.75375,     0.75475,     0.75576,     0.75676,     0.75776,     0.75876,     0.75976,     0.76076,     0.76176,     0.76276,     0.76376,     0.76476,     0.76577,     0.76677,     0.76777,\n",
       "           0.76877,     0.76977,     0.77077,     0.77177,     0.77277,     0.77377,     0.77477,     0.77578,     0.77678,     0.77778,     0.77878,     0.77978,     0.78078,     0.78178,     0.78278,     0.78378,     0.78478,     0.78579,     0.78679,     0.78779,     0.78879,     0.78979,     0.79079,     0.79179,\n",
       "           0.79279,     0.79379,     0.79479,      0.7958,      0.7968,      0.7978,      0.7988,      0.7998,      0.8008,      0.8018,      0.8028,      0.8038,      0.8048,     0.80581,     0.80681,     0.80781,     0.80881,     0.80981,     0.81081,     0.81181,     0.81281,     0.81381,     0.81481,     0.81582,\n",
       "           0.81682,     0.81782,     0.81882,     0.81982,     0.82082,     0.82182,     0.82282,     0.82382,     0.82482,     0.82583,     0.82683,     0.82783,     0.82883,     0.82983,     0.83083,     0.83183,     0.83283,     0.83383,     0.83483,     0.83584,     0.83684,     0.83784,     0.83884,     0.83984,\n",
       "           0.84084,     0.84184,     0.84284,     0.84384,     0.84484,     0.84585,     0.84685,     0.84785,     0.84885,     0.84985,     0.85085,     0.85185,     0.85285,     0.85385,     0.85485,     0.85586,     0.85686,     0.85786,     0.85886,     0.85986,     0.86086,     0.86186,     0.86286,     0.86386,\n",
       "           0.86486,     0.86587,     0.86687,     0.86787,     0.86887,     0.86987,     0.87087,     0.87187,     0.87287,     0.87387,     0.87487,     0.87588,     0.87688,     0.87788,     0.87888,     0.87988,     0.88088,     0.88188,     0.88288,     0.88388,     0.88488,     0.88589,     0.88689,     0.88789,\n",
       "           0.88889,     0.88989,     0.89089,     0.89189,     0.89289,     0.89389,     0.89489,      0.8959,      0.8969,      0.8979,      0.8989,      0.8999,      0.9009,      0.9019,      0.9029,      0.9039,      0.9049,     0.90591,     0.90691,     0.90791,     0.90891,     0.90991,     0.91091,     0.91191,\n",
       "           0.91291,     0.91391,     0.91491,     0.91592,     0.91692,     0.91792,     0.91892,     0.91992,     0.92092,     0.92192,     0.92292,     0.92392,     0.92492,     0.92593,     0.92693,     0.92793,     0.92893,     0.92993,     0.93093,     0.93193,     0.93293,     0.93393,     0.93493,     0.93594,\n",
       "           0.93694,     0.93794,     0.93894,     0.93994,     0.94094,     0.94194,     0.94294,     0.94394,     0.94494,     0.94595,     0.94695,     0.94795,     0.94895,     0.94995,     0.95095,     0.95195,     0.95295,     0.95395,     0.95495,     0.95596,     0.95696,     0.95796,     0.95896,     0.95996,\n",
       "           0.96096,     0.96196,     0.96296,     0.96396,     0.96496,     0.96597,     0.96697,     0.96797,     0.96897,     0.96997,     0.97097,     0.97197,     0.97297,     0.97397,     0.97497,     0.97598,     0.97698,     0.97798,     0.97898,     0.97998,     0.98098,     0.98198,     0.98298,     0.98398,\n",
       "           0.98498,     0.98599,     0.98699,     0.98799,     0.98899,     0.98999,     0.99099,     0.99199,     0.99299,     0.99399,     0.99499,       0.996,       0.997,       0.998,       0.999,           1]), array([[    0.67274,     0.67274,     0.75606, ...,           0,           0,           0],\n",
       "       [    0.61884,     0.61884,     0.69996, ...,           0,           0,           0],\n",
       "       [    0.12698,     0.12698,     0.18473, ...,           0,           0,           0],\n",
       "       ...,\n",
       "       [   0.075188,    0.075188,    0.097643, ...,           0,           0,           0],\n",
       "       [   0.040816,    0.040816,    0.059761, ...,           0,           0,           0],\n",
       "       [    0.58777,     0.58777,     0.70809, ...,           0,           0,           0]]), 'Confidence', 'F1'], [array([          0,    0.001001,    0.002002,    0.003003,    0.004004,    0.005005,    0.006006,    0.007007,    0.008008,    0.009009,     0.01001,    0.011011,    0.012012,    0.013013,    0.014014,    0.015015,    0.016016,    0.017017,    0.018018,    0.019019,     0.02002,    0.021021,    0.022022,    0.023023,\n",
       "          0.024024,    0.025025,    0.026026,    0.027027,    0.028028,    0.029029,     0.03003,    0.031031,    0.032032,    0.033033,    0.034034,    0.035035,    0.036036,    0.037037,    0.038038,    0.039039,     0.04004,    0.041041,    0.042042,    0.043043,    0.044044,    0.045045,    0.046046,    0.047047,\n",
       "          0.048048,    0.049049,     0.05005,    0.051051,    0.052052,    0.053053,    0.054054,    0.055055,    0.056056,    0.057057,    0.058058,    0.059059,     0.06006,    0.061061,    0.062062,    0.063063,    0.064064,    0.065065,    0.066066,    0.067067,    0.068068,    0.069069,     0.07007,    0.071071,\n",
       "          0.072072,    0.073073,    0.074074,    0.075075,    0.076076,    0.077077,    0.078078,    0.079079,     0.08008,    0.081081,    0.082082,    0.083083,    0.084084,    0.085085,    0.086086,    0.087087,    0.088088,    0.089089,     0.09009,    0.091091,    0.092092,    0.093093,    0.094094,    0.095095,\n",
       "          0.096096,    0.097097,    0.098098,    0.099099,      0.1001,      0.1011,      0.1021,      0.1031,      0.1041,     0.10511,     0.10611,     0.10711,     0.10811,     0.10911,     0.11011,     0.11111,     0.11211,     0.11311,     0.11411,     0.11512,     0.11612,     0.11712,     0.11812,     0.11912,\n",
       "           0.12012,     0.12112,     0.12212,     0.12312,     0.12412,     0.12513,     0.12613,     0.12713,     0.12813,     0.12913,     0.13013,     0.13113,     0.13213,     0.13313,     0.13413,     0.13514,     0.13614,     0.13714,     0.13814,     0.13914,     0.14014,     0.14114,     0.14214,     0.14314,\n",
       "           0.14414,     0.14515,     0.14615,     0.14715,     0.14815,     0.14915,     0.15015,     0.15115,     0.15215,     0.15315,     0.15415,     0.15516,     0.15616,     0.15716,     0.15816,     0.15916,     0.16016,     0.16116,     0.16216,     0.16316,     0.16416,     0.16517,     0.16617,     0.16717,\n",
       "           0.16817,     0.16917,     0.17017,     0.17117,     0.17217,     0.17317,     0.17417,     0.17518,     0.17618,     0.17718,     0.17818,     0.17918,     0.18018,     0.18118,     0.18218,     0.18318,     0.18418,     0.18519,     0.18619,     0.18719,     0.18819,     0.18919,     0.19019,     0.19119,\n",
       "           0.19219,     0.19319,     0.19419,      0.1952,      0.1962,      0.1972,      0.1982,      0.1992,      0.2002,      0.2012,      0.2022,      0.2032,      0.2042,     0.20521,     0.20621,     0.20721,     0.20821,     0.20921,     0.21021,     0.21121,     0.21221,     0.21321,     0.21421,     0.21522,\n",
       "           0.21622,     0.21722,     0.21822,     0.21922,     0.22022,     0.22122,     0.22222,     0.22322,     0.22422,     0.22523,     0.22623,     0.22723,     0.22823,     0.22923,     0.23023,     0.23123,     0.23223,     0.23323,     0.23423,     0.23524,     0.23624,     0.23724,     0.23824,     0.23924,\n",
       "           0.24024,     0.24124,     0.24224,     0.24324,     0.24424,     0.24525,     0.24625,     0.24725,     0.24825,     0.24925,     0.25025,     0.25125,     0.25225,     0.25325,     0.25425,     0.25526,     0.25626,     0.25726,     0.25826,     0.25926,     0.26026,     0.26126,     0.26226,     0.26326,\n",
       "           0.26426,     0.26527,     0.26627,     0.26727,     0.26827,     0.26927,     0.27027,     0.27127,     0.27227,     0.27327,     0.27427,     0.27528,     0.27628,     0.27728,     0.27828,     0.27928,     0.28028,     0.28128,     0.28228,     0.28328,     0.28428,     0.28529,     0.28629,     0.28729,\n",
       "           0.28829,     0.28929,     0.29029,     0.29129,     0.29229,     0.29329,     0.29429,      0.2953,      0.2963,      0.2973,      0.2983,      0.2993,      0.3003,      0.3013,      0.3023,      0.3033,      0.3043,     0.30531,     0.30631,     0.30731,     0.30831,     0.30931,     0.31031,     0.31131,\n",
       "           0.31231,     0.31331,     0.31431,     0.31532,     0.31632,     0.31732,     0.31832,     0.31932,     0.32032,     0.32132,     0.32232,     0.32332,     0.32432,     0.32533,     0.32633,     0.32733,     0.32833,     0.32933,     0.33033,     0.33133,     0.33233,     0.33333,     0.33433,     0.33534,\n",
       "           0.33634,     0.33734,     0.33834,     0.33934,     0.34034,     0.34134,     0.34234,     0.34334,     0.34434,     0.34535,     0.34635,     0.34735,     0.34835,     0.34935,     0.35035,     0.35135,     0.35235,     0.35335,     0.35435,     0.35536,     0.35636,     0.35736,     0.35836,     0.35936,\n",
       "           0.36036,     0.36136,     0.36236,     0.36336,     0.36436,     0.36537,     0.36637,     0.36737,     0.36837,     0.36937,     0.37037,     0.37137,     0.37237,     0.37337,     0.37437,     0.37538,     0.37638,     0.37738,     0.37838,     0.37938,     0.38038,     0.38138,     0.38238,     0.38338,\n",
       "           0.38438,     0.38539,     0.38639,     0.38739,     0.38839,     0.38939,     0.39039,     0.39139,     0.39239,     0.39339,     0.39439,      0.3954,      0.3964,      0.3974,      0.3984,      0.3994,      0.4004,      0.4014,      0.4024,      0.4034,      0.4044,     0.40541,     0.40641,     0.40741,\n",
       "           0.40841,     0.40941,     0.41041,     0.41141,     0.41241,     0.41341,     0.41441,     0.41542,     0.41642,     0.41742,     0.41842,     0.41942,     0.42042,     0.42142,     0.42242,     0.42342,     0.42442,     0.42543,     0.42643,     0.42743,     0.42843,     0.42943,     0.43043,     0.43143,\n",
       "           0.43243,     0.43343,     0.43443,     0.43544,     0.43644,     0.43744,     0.43844,     0.43944,     0.44044,     0.44144,     0.44244,     0.44344,     0.44444,     0.44545,     0.44645,     0.44745,     0.44845,     0.44945,     0.45045,     0.45145,     0.45245,     0.45345,     0.45445,     0.45546,\n",
       "           0.45646,     0.45746,     0.45846,     0.45946,     0.46046,     0.46146,     0.46246,     0.46346,     0.46446,     0.46547,     0.46647,     0.46747,     0.46847,     0.46947,     0.47047,     0.47147,     0.47247,     0.47347,     0.47447,     0.47548,     0.47648,     0.47748,     0.47848,     0.47948,\n",
       "           0.48048,     0.48148,     0.48248,     0.48348,     0.48448,     0.48549,     0.48649,     0.48749,     0.48849,     0.48949,     0.49049,     0.49149,     0.49249,     0.49349,     0.49449,      0.4955,      0.4965,      0.4975,      0.4985,      0.4995,      0.5005,      0.5015,      0.5025,      0.5035,\n",
       "            0.5045,     0.50551,     0.50651,     0.50751,     0.50851,     0.50951,     0.51051,     0.51151,     0.51251,     0.51351,     0.51451,     0.51552,     0.51652,     0.51752,     0.51852,     0.51952,     0.52052,     0.52152,     0.52252,     0.52352,     0.52452,     0.52553,     0.52653,     0.52753,\n",
       "           0.52853,     0.52953,     0.53053,     0.53153,     0.53253,     0.53353,     0.53453,     0.53554,     0.53654,     0.53754,     0.53854,     0.53954,     0.54054,     0.54154,     0.54254,     0.54354,     0.54454,     0.54555,     0.54655,     0.54755,     0.54855,     0.54955,     0.55055,     0.55155,\n",
       "           0.55255,     0.55355,     0.55455,     0.55556,     0.55656,     0.55756,     0.55856,     0.55956,     0.56056,     0.56156,     0.56256,     0.56356,     0.56456,     0.56557,     0.56657,     0.56757,     0.56857,     0.56957,     0.57057,     0.57157,     0.57257,     0.57357,     0.57457,     0.57558,\n",
       "           0.57658,     0.57758,     0.57858,     0.57958,     0.58058,     0.58158,     0.58258,     0.58358,     0.58458,     0.58559,     0.58659,     0.58759,     0.58859,     0.58959,     0.59059,     0.59159,     0.59259,     0.59359,     0.59459,      0.5956,      0.5966,      0.5976,      0.5986,      0.5996,\n",
       "            0.6006,      0.6016,      0.6026,      0.6036,      0.6046,     0.60561,     0.60661,     0.60761,     0.60861,     0.60961,     0.61061,     0.61161,     0.61261,     0.61361,     0.61461,     0.61562,     0.61662,     0.61762,     0.61862,     0.61962,     0.62062,     0.62162,     0.62262,     0.62362,\n",
       "           0.62462,     0.62563,     0.62663,     0.62763,     0.62863,     0.62963,     0.63063,     0.63163,     0.63263,     0.63363,     0.63463,     0.63564,     0.63664,     0.63764,     0.63864,     0.63964,     0.64064,     0.64164,     0.64264,     0.64364,     0.64464,     0.64565,     0.64665,     0.64765,\n",
       "           0.64865,     0.64965,     0.65065,     0.65165,     0.65265,     0.65365,     0.65465,     0.65566,     0.65666,     0.65766,     0.65866,     0.65966,     0.66066,     0.66166,     0.66266,     0.66366,     0.66466,     0.66567,     0.66667,     0.66767,     0.66867,     0.66967,     0.67067,     0.67167,\n",
       "           0.67267,     0.67367,     0.67467,     0.67568,     0.67668,     0.67768,     0.67868,     0.67968,     0.68068,     0.68168,     0.68268,     0.68368,     0.68468,     0.68569,     0.68669,     0.68769,     0.68869,     0.68969,     0.69069,     0.69169,     0.69269,     0.69369,     0.69469,      0.6957,\n",
       "            0.6967,      0.6977,      0.6987,      0.6997,      0.7007,      0.7017,      0.7027,      0.7037,      0.7047,     0.70571,     0.70671,     0.70771,     0.70871,     0.70971,     0.71071,     0.71171,     0.71271,     0.71371,     0.71471,     0.71572,     0.71672,     0.71772,     0.71872,     0.71972,\n",
       "           0.72072,     0.72172,     0.72272,     0.72372,     0.72472,     0.72573,     0.72673,     0.72773,     0.72873,     0.72973,     0.73073,     0.73173,     0.73273,     0.73373,     0.73473,     0.73574,     0.73674,     0.73774,     0.73874,     0.73974,     0.74074,     0.74174,     0.74274,     0.74374,\n",
       "           0.74474,     0.74575,     0.74675,     0.74775,     0.74875,     0.74975,     0.75075,     0.75175,     0.75275,     0.75375,     0.75475,     0.75576,     0.75676,     0.75776,     0.75876,     0.75976,     0.76076,     0.76176,     0.76276,     0.76376,     0.76476,     0.76577,     0.76677,     0.76777,\n",
       "           0.76877,     0.76977,     0.77077,     0.77177,     0.77277,     0.77377,     0.77477,     0.77578,     0.77678,     0.77778,     0.77878,     0.77978,     0.78078,     0.78178,     0.78278,     0.78378,     0.78478,     0.78579,     0.78679,     0.78779,     0.78879,     0.78979,     0.79079,     0.79179,\n",
       "           0.79279,     0.79379,     0.79479,      0.7958,      0.7968,      0.7978,      0.7988,      0.7998,      0.8008,      0.8018,      0.8028,      0.8038,      0.8048,     0.80581,     0.80681,     0.80781,     0.80881,     0.80981,     0.81081,     0.81181,     0.81281,     0.81381,     0.81481,     0.81582,\n",
       "           0.81682,     0.81782,     0.81882,     0.81982,     0.82082,     0.82182,     0.82282,     0.82382,     0.82482,     0.82583,     0.82683,     0.82783,     0.82883,     0.82983,     0.83083,     0.83183,     0.83283,     0.83383,     0.83483,     0.83584,     0.83684,     0.83784,     0.83884,     0.83984,\n",
       "           0.84084,     0.84184,     0.84284,     0.84384,     0.84484,     0.84585,     0.84685,     0.84785,     0.84885,     0.84985,     0.85085,     0.85185,     0.85285,     0.85385,     0.85485,     0.85586,     0.85686,     0.85786,     0.85886,     0.85986,     0.86086,     0.86186,     0.86286,     0.86386,\n",
       "           0.86486,     0.86587,     0.86687,     0.86787,     0.86887,     0.86987,     0.87087,     0.87187,     0.87287,     0.87387,     0.87487,     0.87588,     0.87688,     0.87788,     0.87888,     0.87988,     0.88088,     0.88188,     0.88288,     0.88388,     0.88488,     0.88589,     0.88689,     0.88789,\n",
       "           0.88889,     0.88989,     0.89089,     0.89189,     0.89289,     0.89389,     0.89489,      0.8959,      0.8969,      0.8979,      0.8989,      0.8999,      0.9009,      0.9019,      0.9029,      0.9039,      0.9049,     0.90591,     0.90691,     0.90791,     0.90891,     0.90991,     0.91091,     0.91191,\n",
       "           0.91291,     0.91391,     0.91491,     0.91592,     0.91692,     0.91792,     0.91892,     0.91992,     0.92092,     0.92192,     0.92292,     0.92392,     0.92492,     0.92593,     0.92693,     0.92793,     0.92893,     0.92993,     0.93093,     0.93193,     0.93293,     0.93393,     0.93493,     0.93594,\n",
       "           0.93694,     0.93794,     0.93894,     0.93994,     0.94094,     0.94194,     0.94294,     0.94394,     0.94494,     0.94595,     0.94695,     0.94795,     0.94895,     0.94995,     0.95095,     0.95195,     0.95295,     0.95395,     0.95495,     0.95596,     0.95696,     0.95796,     0.95896,     0.95996,\n",
       "           0.96096,     0.96196,     0.96296,     0.96396,     0.96496,     0.96597,     0.96697,     0.96797,     0.96897,     0.96997,     0.97097,     0.97197,     0.97297,     0.97397,     0.97497,     0.97598,     0.97698,     0.97798,     0.97898,     0.97998,     0.98098,     0.98198,     0.98298,     0.98398,\n",
       "           0.98498,     0.98599,     0.98699,     0.98799,     0.98899,     0.98999,     0.99099,     0.99199,     0.99299,     0.99399,     0.99499,       0.996,       0.997,       0.998,       0.999,           1]), array([[    0.52185,     0.52185,     0.63261, ...,           1,           1,           1],\n",
       "       [     0.4506,      0.4506,       0.544, ...,           1,           1,           1],\n",
       "       [   0.067797,    0.067797,     0.10176, ...,           1,           1,           1],\n",
       "       ...,\n",
       "       [   0.039062,    0.039062,    0.051328, ...,           1,           1,           1],\n",
       "       [   0.020833,    0.020833,    0.030801, ...,           1,           1,           1],\n",
       "       [     0.4209,      0.4209,     0.55844, ...,           1,           1,           1]]), 'Confidence', 'Precision'], [array([          0,    0.001001,    0.002002,    0.003003,    0.004004,    0.005005,    0.006006,    0.007007,    0.008008,    0.009009,     0.01001,    0.011011,    0.012012,    0.013013,    0.014014,    0.015015,    0.016016,    0.017017,    0.018018,    0.019019,     0.02002,    0.021021,    0.022022,    0.023023,\n",
       "          0.024024,    0.025025,    0.026026,    0.027027,    0.028028,    0.029029,     0.03003,    0.031031,    0.032032,    0.033033,    0.034034,    0.035035,    0.036036,    0.037037,    0.038038,    0.039039,     0.04004,    0.041041,    0.042042,    0.043043,    0.044044,    0.045045,    0.046046,    0.047047,\n",
       "          0.048048,    0.049049,     0.05005,    0.051051,    0.052052,    0.053053,    0.054054,    0.055055,    0.056056,    0.057057,    0.058058,    0.059059,     0.06006,    0.061061,    0.062062,    0.063063,    0.064064,    0.065065,    0.066066,    0.067067,    0.068068,    0.069069,     0.07007,    0.071071,\n",
       "          0.072072,    0.073073,    0.074074,    0.075075,    0.076076,    0.077077,    0.078078,    0.079079,     0.08008,    0.081081,    0.082082,    0.083083,    0.084084,    0.085085,    0.086086,    0.087087,    0.088088,    0.089089,     0.09009,    0.091091,    0.092092,    0.093093,    0.094094,    0.095095,\n",
       "          0.096096,    0.097097,    0.098098,    0.099099,      0.1001,      0.1011,      0.1021,      0.1031,      0.1041,     0.10511,     0.10611,     0.10711,     0.10811,     0.10911,     0.11011,     0.11111,     0.11211,     0.11311,     0.11411,     0.11512,     0.11612,     0.11712,     0.11812,     0.11912,\n",
       "           0.12012,     0.12112,     0.12212,     0.12312,     0.12412,     0.12513,     0.12613,     0.12713,     0.12813,     0.12913,     0.13013,     0.13113,     0.13213,     0.13313,     0.13413,     0.13514,     0.13614,     0.13714,     0.13814,     0.13914,     0.14014,     0.14114,     0.14214,     0.14314,\n",
       "           0.14414,     0.14515,     0.14615,     0.14715,     0.14815,     0.14915,     0.15015,     0.15115,     0.15215,     0.15315,     0.15415,     0.15516,     0.15616,     0.15716,     0.15816,     0.15916,     0.16016,     0.16116,     0.16216,     0.16316,     0.16416,     0.16517,     0.16617,     0.16717,\n",
       "           0.16817,     0.16917,     0.17017,     0.17117,     0.17217,     0.17317,     0.17417,     0.17518,     0.17618,     0.17718,     0.17818,     0.17918,     0.18018,     0.18118,     0.18218,     0.18318,     0.18418,     0.18519,     0.18619,     0.18719,     0.18819,     0.18919,     0.19019,     0.19119,\n",
       "           0.19219,     0.19319,     0.19419,      0.1952,      0.1962,      0.1972,      0.1982,      0.1992,      0.2002,      0.2012,      0.2022,      0.2032,      0.2042,     0.20521,     0.20621,     0.20721,     0.20821,     0.20921,     0.21021,     0.21121,     0.21221,     0.21321,     0.21421,     0.21522,\n",
       "           0.21622,     0.21722,     0.21822,     0.21922,     0.22022,     0.22122,     0.22222,     0.22322,     0.22422,     0.22523,     0.22623,     0.22723,     0.22823,     0.22923,     0.23023,     0.23123,     0.23223,     0.23323,     0.23423,     0.23524,     0.23624,     0.23724,     0.23824,     0.23924,\n",
       "           0.24024,     0.24124,     0.24224,     0.24324,     0.24424,     0.24525,     0.24625,     0.24725,     0.24825,     0.24925,     0.25025,     0.25125,     0.25225,     0.25325,     0.25425,     0.25526,     0.25626,     0.25726,     0.25826,     0.25926,     0.26026,     0.26126,     0.26226,     0.26326,\n",
       "           0.26426,     0.26527,     0.26627,     0.26727,     0.26827,     0.26927,     0.27027,     0.27127,     0.27227,     0.27327,     0.27427,     0.27528,     0.27628,     0.27728,     0.27828,     0.27928,     0.28028,     0.28128,     0.28228,     0.28328,     0.28428,     0.28529,     0.28629,     0.28729,\n",
       "           0.28829,     0.28929,     0.29029,     0.29129,     0.29229,     0.29329,     0.29429,      0.2953,      0.2963,      0.2973,      0.2983,      0.2993,      0.3003,      0.3013,      0.3023,      0.3033,      0.3043,     0.30531,     0.30631,     0.30731,     0.30831,     0.30931,     0.31031,     0.31131,\n",
       "           0.31231,     0.31331,     0.31431,     0.31532,     0.31632,     0.31732,     0.31832,     0.31932,     0.32032,     0.32132,     0.32232,     0.32332,     0.32432,     0.32533,     0.32633,     0.32733,     0.32833,     0.32933,     0.33033,     0.33133,     0.33233,     0.33333,     0.33433,     0.33534,\n",
       "           0.33634,     0.33734,     0.33834,     0.33934,     0.34034,     0.34134,     0.34234,     0.34334,     0.34434,     0.34535,     0.34635,     0.34735,     0.34835,     0.34935,     0.35035,     0.35135,     0.35235,     0.35335,     0.35435,     0.35536,     0.35636,     0.35736,     0.35836,     0.35936,\n",
       "           0.36036,     0.36136,     0.36236,     0.36336,     0.36436,     0.36537,     0.36637,     0.36737,     0.36837,     0.36937,     0.37037,     0.37137,     0.37237,     0.37337,     0.37437,     0.37538,     0.37638,     0.37738,     0.37838,     0.37938,     0.38038,     0.38138,     0.38238,     0.38338,\n",
       "           0.38438,     0.38539,     0.38639,     0.38739,     0.38839,     0.38939,     0.39039,     0.39139,     0.39239,     0.39339,     0.39439,      0.3954,      0.3964,      0.3974,      0.3984,      0.3994,      0.4004,      0.4014,      0.4024,      0.4034,      0.4044,     0.40541,     0.40641,     0.40741,\n",
       "           0.40841,     0.40941,     0.41041,     0.41141,     0.41241,     0.41341,     0.41441,     0.41542,     0.41642,     0.41742,     0.41842,     0.41942,     0.42042,     0.42142,     0.42242,     0.42342,     0.42442,     0.42543,     0.42643,     0.42743,     0.42843,     0.42943,     0.43043,     0.43143,\n",
       "           0.43243,     0.43343,     0.43443,     0.43544,     0.43644,     0.43744,     0.43844,     0.43944,     0.44044,     0.44144,     0.44244,     0.44344,     0.44444,     0.44545,     0.44645,     0.44745,     0.44845,     0.44945,     0.45045,     0.45145,     0.45245,     0.45345,     0.45445,     0.45546,\n",
       "           0.45646,     0.45746,     0.45846,     0.45946,     0.46046,     0.46146,     0.46246,     0.46346,     0.46446,     0.46547,     0.46647,     0.46747,     0.46847,     0.46947,     0.47047,     0.47147,     0.47247,     0.47347,     0.47447,     0.47548,     0.47648,     0.47748,     0.47848,     0.47948,\n",
       "           0.48048,     0.48148,     0.48248,     0.48348,     0.48448,     0.48549,     0.48649,     0.48749,     0.48849,     0.48949,     0.49049,     0.49149,     0.49249,     0.49349,     0.49449,      0.4955,      0.4965,      0.4975,      0.4985,      0.4995,      0.5005,      0.5015,      0.5025,      0.5035,\n",
       "            0.5045,     0.50551,     0.50651,     0.50751,     0.50851,     0.50951,     0.51051,     0.51151,     0.51251,     0.51351,     0.51451,     0.51552,     0.51652,     0.51752,     0.51852,     0.51952,     0.52052,     0.52152,     0.52252,     0.52352,     0.52452,     0.52553,     0.52653,     0.52753,\n",
       "           0.52853,     0.52953,     0.53053,     0.53153,     0.53253,     0.53353,     0.53453,     0.53554,     0.53654,     0.53754,     0.53854,     0.53954,     0.54054,     0.54154,     0.54254,     0.54354,     0.54454,     0.54555,     0.54655,     0.54755,     0.54855,     0.54955,     0.55055,     0.55155,\n",
       "           0.55255,     0.55355,     0.55455,     0.55556,     0.55656,     0.55756,     0.55856,     0.55956,     0.56056,     0.56156,     0.56256,     0.56356,     0.56456,     0.56557,     0.56657,     0.56757,     0.56857,     0.56957,     0.57057,     0.57157,     0.57257,     0.57357,     0.57457,     0.57558,\n",
       "           0.57658,     0.57758,     0.57858,     0.57958,     0.58058,     0.58158,     0.58258,     0.58358,     0.58458,     0.58559,     0.58659,     0.58759,     0.58859,     0.58959,     0.59059,     0.59159,     0.59259,     0.59359,     0.59459,      0.5956,      0.5966,      0.5976,      0.5986,      0.5996,\n",
       "            0.6006,      0.6016,      0.6026,      0.6036,      0.6046,     0.60561,     0.60661,     0.60761,     0.60861,     0.60961,     0.61061,     0.61161,     0.61261,     0.61361,     0.61461,     0.61562,     0.61662,     0.61762,     0.61862,     0.61962,     0.62062,     0.62162,     0.62262,     0.62362,\n",
       "           0.62462,     0.62563,     0.62663,     0.62763,     0.62863,     0.62963,     0.63063,     0.63163,     0.63263,     0.63363,     0.63463,     0.63564,     0.63664,     0.63764,     0.63864,     0.63964,     0.64064,     0.64164,     0.64264,     0.64364,     0.64464,     0.64565,     0.64665,     0.64765,\n",
       "           0.64865,     0.64965,     0.65065,     0.65165,     0.65265,     0.65365,     0.65465,     0.65566,     0.65666,     0.65766,     0.65866,     0.65966,     0.66066,     0.66166,     0.66266,     0.66366,     0.66466,     0.66567,     0.66667,     0.66767,     0.66867,     0.66967,     0.67067,     0.67167,\n",
       "           0.67267,     0.67367,     0.67467,     0.67568,     0.67668,     0.67768,     0.67868,     0.67968,     0.68068,     0.68168,     0.68268,     0.68368,     0.68468,     0.68569,     0.68669,     0.68769,     0.68869,     0.68969,     0.69069,     0.69169,     0.69269,     0.69369,     0.69469,      0.6957,\n",
       "            0.6967,      0.6977,      0.6987,      0.6997,      0.7007,      0.7017,      0.7027,      0.7037,      0.7047,     0.70571,     0.70671,     0.70771,     0.70871,     0.70971,     0.71071,     0.71171,     0.71271,     0.71371,     0.71471,     0.71572,     0.71672,     0.71772,     0.71872,     0.71972,\n",
       "           0.72072,     0.72172,     0.72272,     0.72372,     0.72472,     0.72573,     0.72673,     0.72773,     0.72873,     0.72973,     0.73073,     0.73173,     0.73273,     0.73373,     0.73473,     0.73574,     0.73674,     0.73774,     0.73874,     0.73974,     0.74074,     0.74174,     0.74274,     0.74374,\n",
       "           0.74474,     0.74575,     0.74675,     0.74775,     0.74875,     0.74975,     0.75075,     0.75175,     0.75275,     0.75375,     0.75475,     0.75576,     0.75676,     0.75776,     0.75876,     0.75976,     0.76076,     0.76176,     0.76276,     0.76376,     0.76476,     0.76577,     0.76677,     0.76777,\n",
       "           0.76877,     0.76977,     0.77077,     0.77177,     0.77277,     0.77377,     0.77477,     0.77578,     0.77678,     0.77778,     0.77878,     0.77978,     0.78078,     0.78178,     0.78278,     0.78378,     0.78478,     0.78579,     0.78679,     0.78779,     0.78879,     0.78979,     0.79079,     0.79179,\n",
       "           0.79279,     0.79379,     0.79479,      0.7958,      0.7968,      0.7978,      0.7988,      0.7998,      0.8008,      0.8018,      0.8028,      0.8038,      0.8048,     0.80581,     0.80681,     0.80781,     0.80881,     0.80981,     0.81081,     0.81181,     0.81281,     0.81381,     0.81481,     0.81582,\n",
       "           0.81682,     0.81782,     0.81882,     0.81982,     0.82082,     0.82182,     0.82282,     0.82382,     0.82482,     0.82583,     0.82683,     0.82783,     0.82883,     0.82983,     0.83083,     0.83183,     0.83283,     0.83383,     0.83483,     0.83584,     0.83684,     0.83784,     0.83884,     0.83984,\n",
       "           0.84084,     0.84184,     0.84284,     0.84384,     0.84484,     0.84585,     0.84685,     0.84785,     0.84885,     0.84985,     0.85085,     0.85185,     0.85285,     0.85385,     0.85485,     0.85586,     0.85686,     0.85786,     0.85886,     0.85986,     0.86086,     0.86186,     0.86286,     0.86386,\n",
       "           0.86486,     0.86587,     0.86687,     0.86787,     0.86887,     0.86987,     0.87087,     0.87187,     0.87287,     0.87387,     0.87487,     0.87588,     0.87688,     0.87788,     0.87888,     0.87988,     0.88088,     0.88188,     0.88288,     0.88388,     0.88488,     0.88589,     0.88689,     0.88789,\n",
       "           0.88889,     0.88989,     0.89089,     0.89189,     0.89289,     0.89389,     0.89489,      0.8959,      0.8969,      0.8979,      0.8989,      0.8999,      0.9009,      0.9019,      0.9029,      0.9039,      0.9049,     0.90591,     0.90691,     0.90791,     0.90891,     0.90991,     0.91091,     0.91191,\n",
       "           0.91291,     0.91391,     0.91491,     0.91592,     0.91692,     0.91792,     0.91892,     0.91992,     0.92092,     0.92192,     0.92292,     0.92392,     0.92492,     0.92593,     0.92693,     0.92793,     0.92893,     0.92993,     0.93093,     0.93193,     0.93293,     0.93393,     0.93493,     0.93594,\n",
       "           0.93694,     0.93794,     0.93894,     0.93994,     0.94094,     0.94194,     0.94294,     0.94394,     0.94494,     0.94595,     0.94695,     0.94795,     0.94895,     0.94995,     0.95095,     0.95195,     0.95295,     0.95395,     0.95495,     0.95596,     0.95696,     0.95796,     0.95896,     0.95996,\n",
       "           0.96096,     0.96196,     0.96296,     0.96396,     0.96496,     0.96597,     0.96697,     0.96797,     0.96897,     0.96997,     0.97097,     0.97197,     0.97297,     0.97397,     0.97497,     0.97598,     0.97698,     0.97798,     0.97898,     0.97998,     0.98098,     0.98198,     0.98298,     0.98398,\n",
       "           0.98498,     0.98599,     0.98699,     0.98799,     0.98899,     0.98999,     0.99099,     0.99199,     0.99299,     0.99399,     0.99499,       0.996,       0.997,       0.998,       0.999,           1]), array([[    0.94639,     0.94639,     0.93939, ...,           0,           0,           0],\n",
       "       [    0.98754,     0.98754,     0.98131, ...,           0,           0,           0],\n",
       "       [          1,           1,           1, ...,           0,           0,           0],\n",
       "       ...,\n",
       "       [          1,           1,           1, ...,           0,           0,           0],\n",
       "       [          1,           1,           1, ...,           0,           0,           0],\n",
       "       [    0.97386,     0.97386,     0.96732, ...,           0,           0,           0]]), 'Confidence', 'Recall']]\n",
       "fitness: 0.6122976992675117\n",
       "keys: ['metrics/precision(B)', 'metrics/recall(B)', 'metrics/mAP50(B)', 'metrics/mAP50-95(B)']\n",
       "maps: array([    0.80334,     0.81794,     0.79518,     0.56272,           0,     0.58836,     0.31671,     0.54818,     0.64423,     0.55288,       0.602,     0.56305,     0.59244,       0.693,     0.67438,     0.71768,     0.55707,     0.63481])\n",
       "names: {0: 'action', 1: 'activity', 2: 'comment', 3: 'control_flow', 4: 'decision_node', 5: 'exit_node', 6: 'final_flow_node', 7: 'final_node', 8: 'fork', 9: 'merge', 10: 'merge_node', 11: 'null', 12: 'object', 13: 'object_flow', 14: 'signal_recept', 15: 'signal_send', 16: 'start_node', 17: 'text'}\n",
       "plot: True\n",
       "results_dict: {'metrics/precision(B)': 0.6459245153126991, 'metrics/recall(B)': 0.7787193704456028, 'metrics/mAP50(B)': 0.7910030275103043, 'metrics/mAP50-95(B)': 0.5924415516849791, 'fitness': 0.6122976992675117}\n",
       "save_dir: PosixPath('runs/train_flowchart/v9_flowchart_v1')\n",
       "speed: {'preprocess': 0.10261711114170877, 'inference': 5.983583041763103, 'loss': 0.000493595672940666, 'postprocess': 3.355361134956845}\n",
       "task: 'detect'"
      ]
     },
     "execution_count": 1,
     "metadata": {},
     "output_type": "execute_result"
    }
   ],
   "source": [
    "\"\"\"\n",
    "Train a YOLOv9 model on a custom flowchart dataset using the Ultralytics framework.\n",
    "\n",
    "This script:\n",
    "- Loads a corrected `data.yaml` file that specifies training, validation, and test image paths,\n",
    "  as well as class names for flowchart components.\n",
    "- Initializes a YOLOv9 model (e.g., YOLOv9s or YOLOv9m) from the Ultralytics model hub.\n",
    "- Trains the model for 1 epoch (configurable) to validate pipeline functionality.\n",
    "- Can be used in Jupyter Notebook environments for rapid experimentation and debugging.\n",
    "\n",
    "Dataset Details:\n",
    "- 19 annotated classes including: 'action', 'decision_node', 'object_flow', etc.\n",
    "- Labels corrected for typos prior to training.\n",
    "\n",
    "Requirements:\n",
    "- `ultralytics` package (v9.0.0 or higher)\n",
    "- Python 3.8+\n",
    "- Valid YOLO-formatted dataset with annotated `.txt` label files\n",
    "- GPU recommended for faster training\n",
    "\n",
    "Example:\n",
    "from ultralytics import YOLO\n",
    "model = YOLO('yolov9s.pt')\n",
    "model.train(data='/full/path/to/your/data.yaml', epochs=1, imgsz=640, batch=8)\n",
    "\n",
    "Author: DS6050 Group 6\n",
    "\"\"\"\n",
    "\n",
    "\n",
    "import os\n",
    "# Step 2: Import YOLO module\n",
    "from ultralytics import YOLO\n",
    "\n",
    "# Step 3: Define the full path to your dataset YAML file\n",
    "data_yaml_path = \"/sfs/ceph/standard/sds_managed_sadewole/DS6050_SP25/group6/kaggle/kaggle_flowchart_yolo/data.yaml\"\n",
    "\n",
    "# Step 4: Load YOLOv9 model (you may choose 'yolov9s.pt' or 'yolov9m.pt' depending on resources)\n",
    "model = YOLO('yolov9s.pt')\n",
    "\n",
    "# Step 5: Run training for 1 epoch to test the setup\n",
    "#model.train(\n",
    " #   data=data_yaml_path,\n",
    " #   epochs=10,\n",
    " #   imgsz=640,\n",
    " #   batch=8,\n",
    " #   project='runs/train_test',\n",
    " #   name='flowchart-test',\n",
    " #   exist_ok=True  # Overwrites existing run directory if it exists\n",
    "#)\n",
    "\n",
    "# Paths\n",
    "project = \"runs/train_flowchart\"\n",
    "name = \"v9_flowchart_v1\"\n",
    "last_ckpt = os.path.join(project, name, \"weights\", \"last.pt\")\n",
    "\n",
    "# Auto-resume logic\n",
    "if os.path.exists(last_ckpt):\n",
    "    print(\"🔁 Resuming training from last checkpoint...\")\n",
    "    model = YOLO(last_ckpt)\n",
    "else:\n",
    "    print(\"🚀 Starting fresh training with yolov9s.pt...\")\n",
    "    model = YOLO(\"yolov9s.pt\")\n",
    "\n",
    "# Train\n",
    "model.train(\n",
    "    data=data_yaml_path,\n",
    "    epochs=40,\n",
    "    imgsz=640,\n",
    "    batch=8,\n",
    "    project=project,\n",
    "    name=name,\n",
    "    exist_ok=True,\n",
    "    patience=10,\n",
    "    val=True,\n",
    "    device=0\n",
    ")\n"
   ]
  },
  {
   "cell_type": "code",
   "execution_count": null,
   "id": "d5889a8f-a88d-408e-9fe4-d06e6a061250",
   "metadata": {},
   "outputs": [],
   "source": []
  }
 ],
 "metadata": {
  "kernelspec": {
   "display_name": "Tensorflow 2.17.0",
   "language": "python",
   "name": "tensorflow-2.17.0"
  },
  "language_info": {
   "codemirror_mode": {
    "name": "ipython",
    "version": 3
   },
   "file_extension": ".py",
   "mimetype": "text/x-python",
   "name": "python",
   "nbconvert_exporter": "python",
   "pygments_lexer": "ipython3",
   "version": "3.12.3"
  }
 },
 "nbformat": 4,
 "nbformat_minor": 5
}
