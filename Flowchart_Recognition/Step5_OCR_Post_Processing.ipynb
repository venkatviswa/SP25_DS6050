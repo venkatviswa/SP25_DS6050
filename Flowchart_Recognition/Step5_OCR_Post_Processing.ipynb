{
 "cells": [
  {
   "cell_type": "code",
   "execution_count": 10,
   "id": "465e602d-e49b-45de-917c-a7a2a6fd70e4",
   "metadata": {
    "tags": []
   },
   "outputs": [
    {
     "data": {
      "text/plain": [
       "'\\nPost-processes the OCR data by cleaning and correcting the extracted text.\\n\\nThis function performs the following steps for each entry in the OCR data:\\n1. **Clean the text**: Removes unnecessary characters, normalizes spaces, and trims the text.\\n2. **Correct spelling errors**: Identifies and corrects misspelled words in the OCR text.\\n3. **Filter by confidence**: Only processes entries with a confidence score above a specified threshold.\\n\\nThe function outputs a list of processed OCR entries, each containing:\\n- The original bounding box (`bbox`) and class (`class`).\\n- The original OCR text (`text`).\\n- The cleaned OCR text (`cleaned_text`).\\n- The corrected OCR text (`corrected_text`).\\n\\nArguments:\\n    ocr_data (list): List of OCR data entries, where each entry is a dictionary containing:\\n        - \"bbox\": The bounding box coordinates for the detected text.\\n        - \"class\": The class of the detected object.\\n        - \"confidence\": The confidence score for the OCR detection.\\n        - \"text\": The raw OCR text extracted from the image.\\n    confidence_threshold (float): Minimum confidence score to consider the text for post-processing. Default is 0.5.\\n\\nReturns:\\n    list: List of processed OCR entries with cleaned and corrected text.\\n'"
      ]
     },
     "execution_count": 10,
     "metadata": {},
     "output_type": "execute_result"
    }
   ],
   "source": [
    "\"\"\"\n",
    "Post-processes the OCR data by cleaning and correcting the extracted text.\n",
    "\n",
    "This function performs the following steps for each entry in the OCR data:\n",
    "1. **Clean the text**: Removes unnecessary characters, normalizes spaces, and trims the text.\n",
    "2. **Correct spelling errors**: Identifies and corrects misspelled words in the OCR text.\n",
    "3. **Filter by confidence**: Only processes entries with a confidence score above a specified threshold.\n",
    "\n",
    "The function outputs a list of processed OCR entries, each containing:\n",
    "- The original bounding box (`bbox`) and class (`class`).\n",
    "- The original OCR text (`text`).\n",
    "- The cleaned OCR text (`cleaned_text`).\n",
    "- The corrected OCR text (`corrected_text`).\n",
    "\n",
    "Arguments:\n",
    "    ocr_data (list): List of OCR data entries, where each entry is a dictionary containing:\n",
    "        - \"bbox\": The bounding box coordinates for the detected text.\n",
    "        - \"class\": The class of the detected object.\n",
    "        - \"confidence\": The confidence score for the OCR detection.\n",
    "        - \"text\": The raw OCR text extracted from the image.\n",
    "    confidence_threshold (float): Minimum confidence score to consider the text for post-processing. Default is 0.5.\n",
    "\n",
    "Returns:\n",
    "    list: List of processed OCR entries with cleaned and corrected text.\n",
    "\"\"\"\n"
   ]
  },
  {
   "cell_type": "code",
   "execution_count": 11,
   "id": "47badf46-baf8-4427-af5d-f8036ec3c2b9",
   "metadata": {
    "tags": []
   },
   "outputs": [
    {
     "name": "stdout",
     "output_type": "stream",
     "text": [
      "Defaulting to user installation because normal site-packages is not writeable\n",
      "Requirement already satisfied: pyspellchecker in /home/bm3pk/.local/lib/python3.11/site-packages (0.8.2)\n"
     ]
    }
   ],
   "source": [
    "!pip install pyspellchecker"
   ]
  },
  {
   "cell_type": "markdown",
   "id": "3cbe6d3d-7f96-4c8c-a531-b196a6edc8a0",
   "metadata": {},
   "source": [
    "# 0. Clean up the processed OCR directory files from the last run\n",
    "This cell will allow you to clean up the directory containing the processed OCR files.\n",
    "Only do this when running tests of tje pipeline."
   ]
  },
  {
   "cell_type": "code",
   "execution_count": 12,
   "id": "1fb0a482-1022-4da4-8336-7bd3f86e287d",
   "metadata": {
    "tags": []
   },
   "outputs": [
    {
     "name": "stdout",
     "output_type": "stream",
     "text": [
      "Directory not found: ocr_output_json_post_processed\n"
     ]
    }
   ],
   "source": [
    "import shutil\n",
    "import os\n",
    "\n",
    "# Function to clean up files in the specified directory\n",
    "def clean_up_processed_ocr_dir(directory):\n",
    "    \"\"\"\n",
    "    Removes all files in the given directory (including subdirectories).\n",
    "\n",
    "    Arguments:\n",
    "        directory (str): Directory path to clean.\n",
    "    \"\"\"\n",
    "    if os.path.exists(directory):\n",
    "        # Remove all files and subdirectories\n",
    "        shutil.rmtree(directory)\n",
    "        print(f\"Cleaned up the directory: {directory}\")\n",
    "    else:\n",
    "        print(f\"Directory not found: {directory}\")\n",
    "\n",
    "# Path to the processed OCR directory\n",
    "processed_ocr_dir = 'ocr_output_json_post_processed'\n",
    "\n",
    "# Clean up the processed OCR directory\n",
    "clean_up_processed_ocr_dir(processed_ocr_dir)\n"
   ]
  },
  {
   "cell_type": "markdown",
   "id": "9583fa66-ac19-4827-b278-114e6d060dda",
   "metadata": {},
   "source": [
    "# 1. Load the OCR JSON file"
   ]
  },
  {
   "cell_type": "code",
   "execution_count": 13,
   "id": "79a27e86-7620-40f4-b963-edcf437adbcf",
   "metadata": {
    "tags": []
   },
   "outputs": [
    {
     "data": {
      "text/plain": [
       "[{'image': '256_png.rf.2d34617941a0c32424cbe06878dafd4a.jpg',\n",
       "  'bbox': [162, 567, 310, 635],\n",
       "  'class': 'activity',\n",
       "  'confidence': 0.926584005355835,\n",
       "  'text': ''},\n",
       " {'image': '256_png.rf.2d34617941a0c32424cbe06878dafd4a.jpg',\n",
       "  'bbox': [343, 94, 490, 165],\n",
       "  'class': 'activity',\n",
       "  'confidence': 0.9263918399810791,\n",
       "  'text': ''},\n",
       " {'image': '256_png.rf.2d34617941a0c32424cbe06878dafd4a.jpg',\n",
       "  'bbox': [488, 455, 635, 525],\n",
       "  'class': 'activity',\n",
       "  'confidence': 0.9126627445220947,\n",
       "  'text': ''},\n",
       " {'image': '256_png.rf.2d34617941a0c32424cbe06878dafd4a.jpg',\n",
       "  'bbox': [326, 567, 473, 636],\n",
       "  'class': 'activity',\n",
       "  'confidence': 0.9073367118835449,\n",
       "  'text': ''},\n",
       " {'image': '256_png.rf.2d34617941a0c32424cbe06878dafd4a.jpg',\n",
       "  'bbox': [4, 456, 149, 524],\n",
       "  'class': 'activity',\n",
       "  'confidence': 0.9048864841461182,\n",
       "  'text': ''}]"
      ]
     },
     "execution_count": 13,
     "metadata": {},
     "output_type": "execute_result"
    }
   ],
   "source": [
    "import json\n",
    "\n",
    "# Function to load the OCR data from the JSON file\n",
    "def load_ocr_json(file_path):\n",
    "    \"\"\"\n",
    "    Loads the OCR data from a JSON file.\n",
    "    \n",
    "    Arguments:\n",
    "        file_path (str): Path to the OCR JSON file.\n",
    "        \n",
    "    Returns:\n",
    "        dict: Loaded OCR data.\n",
    "    \"\"\"\n",
    "    with open(file_path, 'r') as f:\n",
    "        ocr_data = json.load(f)\n",
    "    return ocr_data\n",
    "\n",
    "# Path to the OCR results JSON file\n",
    "ocr_json_file_path = 'ocr_output_json/ocr_all_images.json'  # Update the path as per your directory\n",
    "ocr_data = load_ocr_json(ocr_json_file_path)\n",
    "\n",
    "# Display the first few entries to ensure it's loaded correctly\n",
    "ocr_data[:5]  # Display first 5 entries for a quick check\n"
   ]
  },
  {
   "cell_type": "markdown",
   "id": "4961ffc4-b60f-46ff-824f-e819ac98a972",
   "metadata": {
    "tags": []
   },
   "source": [
    "# 2. Post Process the OCR Text"
   ]
  },
  {
   "cell_type": "code",
   "execution_count": 14,
   "id": "7694ac3a-ebb1-4979-8480-cca10da7e6ad",
   "metadata": {
    "tags": []
   },
   "outputs": [
    {
     "data": {
      "text/plain": [
       "[{'bbox': [162, 567, 310, 635],\n",
       "  'class': 'activity',\n",
       "  'confidence': 0.926584005355835,\n",
       "  'text': '',\n",
       "  'cleaned_text': '',\n",
       "  'corrected_text': ''},\n",
       " {'bbox': [343, 94, 490, 165],\n",
       "  'class': 'activity',\n",
       "  'confidence': 0.9263918399810791,\n",
       "  'text': '',\n",
       "  'cleaned_text': '',\n",
       "  'corrected_text': ''},\n",
       " {'bbox': [488, 455, 635, 525],\n",
       "  'class': 'activity',\n",
       "  'confidence': 0.9126627445220947,\n",
       "  'text': '',\n",
       "  'cleaned_text': '',\n",
       "  'corrected_text': ''},\n",
       " {'bbox': [326, 567, 473, 636],\n",
       "  'class': 'activity',\n",
       "  'confidence': 0.9073367118835449,\n",
       "  'text': '',\n",
       "  'cleaned_text': '',\n",
       "  'corrected_text': ''},\n",
       " {'bbox': [4, 456, 149, 524],\n",
       "  'class': 'activity',\n",
       "  'confidence': 0.9048864841461182,\n",
       "  'text': '',\n",
       "  'cleaned_text': '',\n",
       "  'corrected_text': ''}]"
      ]
     },
     "execution_count": 14,
     "metadata": {},
     "output_type": "execute_result"
    }
   ],
   "source": [
    "import re\n",
    "from spellchecker import SpellChecker\n",
    "\n",
    "# Function to clean OCR text\n",
    "def clean_text(text):\n",
    "    \"\"\"\n",
    "    Cleans the OCR text by removing unnecessary characters and normalizing spaces.\n",
    "    \n",
    "    Arguments:\n",
    "        text (str): The raw OCR text.\n",
    "        \n",
    "    Returns:\n",
    "        str: Cleaned OCR text.\n",
    "    \"\"\"\n",
    "    # Remove unwanted characters (e.g., special characters, unwanted spaces)\n",
    "    text = re.sub(r'[^a-zA-Z0-9\\s]', '', text)  # Keep only alphanumeric characters and spaces\n",
    "    text = re.sub(r'\\s+', ' ', text)  # Replace multiple spaces with a single space\n",
    "    text = text.strip()  # Remove leading and trailing spaces\n",
    "    return text\n",
    "\n",
    "from spellchecker import SpellChecker\n",
    "\n",
    "# Function to correct OCR spelling mistakes\n",
    "def correct_ocr_text(ocr_text):\n",
    "    \"\"\"\n",
    "    Corrects OCR text by identifying and fixing misspelled words.\n",
    "    \n",
    "    Arguments:\n",
    "        ocr_text (str): The OCR text.\n",
    "        \n",
    "    Returns:\n",
    "        str: The corrected OCR text.\n",
    "    \"\"\"\n",
    "    spell = SpellChecker()\n",
    "    words = ocr_text.split()\n",
    "    \n",
    "    # Correct each word and ensure no None values are included\n",
    "    corrected_words = [spell.correction(word) if spell.correction(word) is not None else word for word in words]\n",
    "    corrected_text = ' '.join(corrected_words)\n",
    "    return corrected_text\n",
    "\n",
    "\n",
    "# Post-process OCR data\n",
    "def post_process_ocr(ocr_data, confidence_threshold=0.1):\n",
    "    \"\"\"\n",
    "    Processes the OCR data by cleaning and correcting the extracted text.\n",
    "\n",
    "    Arguments:\n",
    "        ocr_data (list): OCR data with bounding boxes and extracted text.\n",
    "        confidence_threshold (float): Minimum confidence score to consider the text.\n",
    "\n",
    "    Returns:\n",
    "        list: Processed OCR data with cleaned and corrected text.\n",
    "    \"\"\"\n",
    "    processed_ocr = []\n",
    "\n",
    "    for entry in ocr_data:\n",
    "        confidence = entry.get(\"confidence\", 0)\n",
    "        text = entry.get(\"text\", \"\")\n",
    "\n",
    "        # Process only entries with a confidence score above the threshold\n",
    "        if confidence >= confidence_threshold:\n",
    "            # Clean the OCR text\n",
    "            cleaned_text = clean_text(text)\n",
    "            # Correct the OCR text\n",
    "            corrected_text = correct_ocr_text(cleaned_text)\n",
    "\n",
    "            # Add the processed entry with corrected text\n",
    "            processed_ocr.append({\n",
    "                \"bbox\": entry[\"bbox\"],\n",
    "                \"class\": entry[\"class\"],\n",
    "                \"confidence\": confidence,\n",
    "                \"text\": text,  # Original OCR text\n",
    "                \"cleaned_text\": cleaned_text,\n",
    "                \"corrected_text\": corrected_text\n",
    "            })\n",
    "\n",
    "    return processed_ocr\n",
    "\n",
    "# Process OCR data\n",
    "processed_ocr = post_process_ocr(ocr_data)\n",
    "\n",
    "# Display the first 5 processed entries for validation\n",
    "processed_ocr[:5]\n"
   ]
  },
  {
   "cell_type": "markdown",
   "id": "5e4c3cd3-a499-4f05-9d8a-7bfe6cccdd66",
   "metadata": {},
   "source": [
    "# 3. Save the processed OCR data to a new JSON file"
   ]
  },
  {
   "cell_type": "code",
   "execution_count": 15,
   "id": "92616adc-23f0-4f16-ab53-b8cdfdbed8c5",
   "metadata": {
    "tags": []
   },
   "outputs": [
    {
     "name": "stdout",
     "output_type": "stream",
     "text": [
      "Processed OCR data saved to: ocr_output_json_post_processed/ocr_processed.json\n"
     ]
    }
   ],
   "source": [
    "from pathlib import Path\n",
    "\n",
    "# Function to save processed OCR data to a JSON file\n",
    "\n",
    "# Directory to save processed OCR data\n",
    "post_processed_dir = 'ocr_output_json_post_processed'\n",
    "\n",
    "# Ensure the directory exists\n",
    "Path(post_processed_dir).mkdir(parents=True, exist_ok=True)\n",
    "\n",
    "\n",
    "def save_processed_ocr(ocr_data, output_file_path):\n",
    "    \"\"\"\n",
    "    Saves the processed OCR data to a JSON file.\n",
    "\n",
    "    Arguments:\n",
    "        ocr_data (list): The processed OCR data.\n",
    "        output_file_path (str): Path where the processed OCR data will be saved.\n",
    "    \"\"\"\n",
    "    with open(output_file_path, 'w') as f:\n",
    "        json.dump(ocr_data, f, indent=2)\n",
    "    print(f\"Processed OCR data saved to: {output_file_path}\")\n",
    "\n",
    "# Path to save the processed OCR data\n",
    "processed_ocr_file_path = 'ocr_output_json_post_processed/ocr_processed.json'\n",
    "\n",
    "# Save the processed OCR data\n",
    "save_processed_ocr(processed_ocr, processed_ocr_file_path)\n"
   ]
  }
 ],
 "metadata": {
  "kernelspec": {
   "display_name": "Python 3 (ipykernel)",
   "language": "python",
   "name": "python3"
  },
  "language_info": {
   "codemirror_mode": {
    "name": "ipython",
    "version": 3
   },
   "file_extension": ".py",
   "mimetype": "text/x-python",
   "name": "python",
   "nbconvert_exporter": "python",
   "pygments_lexer": "ipython3",
   "version": "3.11.4"
  }
 },
 "nbformat": 4,
 "nbformat_minor": 5
}
